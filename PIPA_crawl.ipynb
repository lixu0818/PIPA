{
 "cells": [
  {
   "cell_type": "code",
   "execution_count": 1,
   "metadata": {
    "collapsed": false
   },
   "outputs": [],
   "source": [
    "import urllib3\n",
    "from bs4 import BeautifulSoup\n",
    "import requests\n",
    "import certifi\n",
    "import time\n",
    "import datetime"
   ]
  },
  {
   "cell_type": "code",
   "execution_count": 2,
   "metadata": {
    "collapsed": false
   },
   "outputs": [],
   "source": [
    "#!/usr/bin/python\n",
    "import MySQLdb\n",
    "\n",
    "db = MySQLdb.connect(host=\"localhost\",    # your host, usually localhost\n",
    "                     user=\"root\",         # your username\n",
    "                     passwd=\"root\",  # your password\n",
    "                     db=\"pipa_db\")        # name of the data base\n",
    "\n",
    "cur = db.cursor()"
   ]
  },
  {
   "cell_type": "code",
   "execution_count": 3,
   "metadata": {
    "collapsed": false
   },
   "outputs": [
    {
     "data": {
      "text/plain": [
       "6L"
      ]
     },
     "execution_count": 3,
     "metadata": {},
     "output_type": "execute_result"
    }
   ],
   "source": [
    "show_tables = \"show tables\"\n",
    "cur.execute(show_tables)"
   ]
  },
  {
   "cell_type": "code",
   "execution_count": 4,
   "metadata": {
    "collapsed": false
   },
   "outputs": [
    {
     "name": "stdout",
     "output_type": "stream",
     "text": [
      "28315622 28315600\n"
     ]
    }
   ],
   "source": [
    "dailyMax = 1000\n",
    "batchNum = 20\n",
    "sleeptimeforPubmed =5\n",
    "backstep =20\n",
    "\n",
    "cur.execute('select pmid from last_pmid')\n",
    "endingPMIDtuple = max(cur.fetchall())\n",
    "endingPMID = endingPMIDtuple[0]\n",
    "startingPMID=28315600 #endingPMID -backstep\n",
    "print endingPMID, startingPMID\n",
    "    "
   ]
  },
  {
   "cell_type": "code",
   "execution_count": 5,
   "metadata": {
    "collapsed": false
   },
   "outputs": [
    {
     "data": {
      "text/plain": [
       "0L"
      ]
     },
     "execution_count": 5,
     "metadata": {},
     "output_type": "execute_result"
    }
   ],
   "source": [
    "cur.execute('truncate articles')\n",
    "# erase data or re-create articles table"
   ]
  },
  {
   "cell_type": "code",
   "execution_count": 6,
   "metadata": {
    "collapsed": false,
    "scrolled": true
   },
   "outputs": [
    {
     "name": "stdout",
     "output_type": "stream",
     "text": [
      "28315600\n",
      "28315610\n",
      "28315620\n",
      "https://www.ncbi.nlm.nih.gov/pubmed/28315640,28315641,28315642,28315643,28315644,28315645,28315646,28315647,28315648,28315649,28315650,28315651,28315652,28315653,28315654,28315655,28315656,28315657,28315658,28315659,?report=medline&format=text\n",
      "bad end\n",
      "CPU times: user 67.4 ms, sys: 7.65 ms, total: 75.1 ms\n",
      "Wall time: 1.69 s\n"
     ]
    }
   ],
   "source": [
    "%%time\n",
    "        for i in range (startingPMID, startingPMID+dailyMax, batchNum):\n",
    "            PMIDs = \"\"\n",
    "\n",
    "            for j in range (batchNum):\n",
    "                PMIDs = PMIDs + str(i + j ) +\",\"\n",
    "\n",
    "            url = \"https://www.ncbi.nlm.nih.gov/pubmed/\"+ PMIDs +\"?report=medline&format=text\" \n",
    "\n",
    "            #time.sleep(sleeptimeforPubmed)\n",
    "            http = urllib3.PoolManager(cert_reqs='CERT_REQUIRED',ca_certs=certifi.where())\n",
    "            r = http.request('GET', url)\n",
    "            soup = BeautifulSoup(r.data, \"lxml\")\n",
    "\n",
    "            allInfo = unicode(soup.pre.string)\n",
    "\n",
    "            if allInfo.find('PMID- ')<0:\n",
    "                print url\n",
    "                print 'bad end'        \n",
    "                break\n",
    "\n",
    "            while allInfo.find('AB  -')>0:\n",
    "                IdIndexStart = allInfo.index('PMID- ')+6\n",
    "                IdIndexEnd = allInfo.index('\\n', IdIndexStart)\n",
    "                PMID = allInfo[IdIndexStart:IdIndexEnd]\n",
    "\n",
    "                tiIndexStart = allInfo.index('TI  -')+6\n",
    "                if allInfo.find(  'PG  -', tiIndexStart)>0:\n",
    "                    tiIndexEnd =   allInfo.index('PG  -', tiIndexStart)-1\n",
    "                elif allInfo.find('LID -', tiIndexStart)>0:\n",
    "                    tiIndexEnd =   allInfo.index('LID -', tiIndexStart)-1\n",
    "                else:\n",
    "                    tiIndexEnd =   allInfo.index('AB  -', tiIndexStart)-1\n",
    "                ti = allInfo[tiIndexStart:tiIndexEnd]\n",
    "                \n",
    "                abIndexStart = allInfo.index('AB  -')+6\n",
    "                abIndexEnd =   allInfo.index('FAU -', abIndexStart)-1\n",
    "                ab = ti+\"        Abstract:\"+allInfo[abIndexStart:abIndexEnd]\n",
    "\n",
    "                query = \"insert into articles (pmid, abstract) values (\"+ PMID +\", '\"+ ab + \"')\"\n",
    "                endingPMID = int(PMID)\n",
    "                if (endingPMID%10==0):\n",
    "                    print endingPMID\n",
    "\n",
    "                try:\n",
    "                    cur.execute(query)\n",
    "                    db.commit()\n",
    "\n",
    "                except:\n",
    "                    db.rollback()\n",
    "\n",
    "                allInfo = allInfo[abIndexEnd:]\n",
    "\n",
    "        now = datetime.datetime.now()       \n",
    "        query = 'insert into last_pmid (record_date, pmid) values (\"%s\", %d)'%(now, endingPMID)\n",
    "        cur.execute(query)\n",
    "        db.commit()\n",
    "# write endingPMID to db\n",
    "db.close()    \n",
    "    "
   ]
  },
  {
   "cell_type": "code",
   "execution_count": null,
   "metadata": {
    "collapsed": true
   },
   "outputs": [],
   "source": []
  }
 ],
 "metadata": {
  "anaconda-cloud": {},
  "kernelspec": {
   "display_name": "Python [conda root]",
   "language": "python",
   "name": "conda-root-py"
  },
  "language_info": {
   "codemirror_mode": {
    "name": "ipython",
    "version": 2
   },
   "file_extension": ".py",
   "mimetype": "text/x-python",
   "name": "python",
   "nbconvert_exporter": "python",
   "pygments_lexer": "ipython2",
   "version": "2.7.9"
  }
 },
 "nbformat": 4,
 "nbformat_minor": 1
}
