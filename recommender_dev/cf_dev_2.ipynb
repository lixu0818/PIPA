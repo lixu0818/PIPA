{
 "cells": [
  {
   "cell_type": "code",
   "execution_count": 170,
   "metadata": {
    "collapsed": true
   },
   "outputs": [],
   "source": [
    "import pandas as pd\n",
    "import time\n",
    "import redis\n",
    "from flask import current_app\n",
    "from sklearn.feature_extraction.text import TfidfVectorizer\n",
    "from sklearn.metrics.pairwise import linear_kernel"
   ]
  },
  {
   "cell_type": "code",
   "execution_count": 171,
   "metadata": {
    "collapsed": true
   },
   "outputs": [],
   "source": [
    "#!/usr/bin/python\n",
    "import MySQLdb\n",
    "\n",
    "db = MySQLdb.connect(host=\"localhost\",    # your host, usually localhost\n",
    "                     user=\"root\",         # your username\n",
    "                     #passwd=\"xpx\",  # your password\n",
    "                     db=\"xudatabase\")        # name of the data base\n",
    "\n",
    "cur = db.cursor()"
   ]
  },
  {
   "cell_type": "code",
   "execution_count": 172,
   "metadata": {
    "collapsed": true
   },
   "outputs": [],
   "source": [
    "# import article data from mysql db \n",
    "def import_data(table_name):\n",
    "    #ds = pd.read_csv(data_source)\n",
    "    ds = cur.execute('select * from ' +table_name)\n",
    "    r = cur.fetchall()\n",
    "    return pd.DataFrame(list(r),columns=['PMID', 'abstract'])\n",
    "    "
   ]
  },
  {
   "cell_type": "code",
   "execution_count": 216,
   "metadata": {
    "collapsed": false
   },
   "outputs": [],
   "source": [
    "userpool = pd.read_csv(\"./data/testdata.csv\")\n",
    "userpool\n",
    "userId =1"
   ]
  },
  {
   "cell_type": "code",
   "execution_count": 174,
   "metadata": {
    "collapsed": false
   },
   "outputs": [
    {
     "data": {
      "text/html": [
       "<div>\n",
       "<table border=\"1\" class=\"dataframe\">\n",
       "  <thead>\n",
       "    <tr style=\"text-align: right;\">\n",
       "      <th></th>\n",
       "      <th>PMID</th>\n",
       "      <th>abstract</th>\n",
       "    </tr>\n",
       "  </thead>\n",
       "  <tbody>\n",
       "    <tr>\n",
       "      <th>0</th>\n",
       "      <td>28274101</td>\n",
       "      <td>NADPH-P450 reductase (NPR) transfers electrons...</td>\n",
       "    </tr>\n",
       "    <tr>\n",
       "      <th>1</th>\n",
       "      <td>28274102</td>\n",
       "      <td>Curcumin, a hydrophobic polyphenol derived fro...</td>\n",
       "    </tr>\n",
       "    <tr>\n",
       "      <th>2</th>\n",
       "      <td>28274103</td>\n",
       "      <td>The single-chain variable fragment (scFv) agai...</td>\n",
       "    </tr>\n",
       "    <tr>\n",
       "      <th>3</th>\n",
       "      <td>28274104</td>\n",
       "      <td>The conformational change of cellular prion pr...</td>\n",
       "    </tr>\n",
       "    <tr>\n",
       "      <th>4</th>\n",
       "      <td>28274105</td>\n",
       "      <td>Alcoholic liver disease (ALD) is a leading cau...</td>\n",
       "    </tr>\n",
       "  </tbody>\n",
       "</table>\n",
       "</div>"
      ],
      "text/plain": [
       "       PMID                                           abstract\n",
       "0  28274101  NADPH-P450 reductase (NPR) transfers electrons...\n",
       "1  28274102  Curcumin, a hydrophobic polyphenol derived fro...\n",
       "2  28274103  The single-chain variable fragment (scFv) agai...\n",
       "3  28274104  The conformational change of cellular prion pr...\n",
       "4  28274105  Alcoholic liver disease (ALD) is a leading cau..."
      ]
     },
     "execution_count": 174,
     "metadata": {},
     "output_type": "execute_result"
    }
   ],
   "source": [
    "dailypool = import_data('articles')\n",
    "dailypool.head()"
   ]
  },
  {
   "cell_type": "code",
   "execution_count": 3,
   "metadata": {
    "collapsed": true
   },
   "outputs": [],
   "source": [
    "def train(data_source):\n",
    "    start = time.time()\n",
    "    ds = import_data(data_source)\n",
    "    info(\"Training data ingested in %s seconds.\" % (time.time() - start))\n",
    "\n",
    "    start = time.time()\n",
    "    self._train(ds)\n",
    "    info(\"Engine trained in %s seconds.\" % (time.time() - start))    "
   ]
  },
  {
   "cell_type": "code",
   "execution_count": 4,
   "metadata": {
    "collapsed": false
   },
   "outputs": [],
   "source": [
    "# refactor the training logic into this function\n",
    "def _train(**args):\n",
    "    # place holder\n",
    "    return 1;"
   ]
  },
  {
   "cell_type": "code",
   "execution_count": 175,
   "metadata": {
    "collapsed": false
   },
   "outputs": [
    {
     "data": {
      "text/html": [
       "<div>\n",
       "<table border=\"1\" class=\"dataframe\">\n",
       "  <thead>\n",
       "    <tr style=\"text-align: right;\">\n",
       "      <th></th>\n",
       "      <th>PMID</th>\n",
       "      <th>abstract</th>\n",
       "    </tr>\n",
       "  </thead>\n",
       "  <tbody>\n",
       "    <tr>\n",
       "      <th>0</th>\n",
       "      <td>27270041</td>\n",
       "      <td>Conserved DNA-damage responses (DDRs) sense ge...</td>\n",
       "    </tr>\n",
       "    <tr>\n",
       "      <th>1</th>\n",
       "      <td>19465921</td>\n",
       "      <td>Loss-of-function of caretaker genes characteri...</td>\n",
       "    </tr>\n",
       "    <tr>\n",
       "      <th>2</th>\n",
       "      <td>28258153</td>\n",
       "      <td>Pulmonary�tuberculosis�(TB) caused by�Mycobact...</td>\n",
       "    </tr>\n",
       "    <tr>\n",
       "      <th>3</th>\n",
       "      <td>25398087</td>\n",
       "      <td>Tuberculosis�(TB) is an infectious disease cau...</td>\n",
       "    </tr>\n",
       "    <tr>\n",
       "      <th>4</th>\n",
       "      <td>28274101</td>\n",
       "      <td>NADPH-P450 reductase (NPR) transfers electrons...</td>\n",
       "    </tr>\n",
       "  </tbody>\n",
       "</table>\n",
       "</div>"
      ],
      "text/plain": [
       "       PMID                                           abstract\n",
       "0  27270041  Conserved DNA-damage responses (DDRs) sense ge...\n",
       "1  19465921  Loss-of-function of caretaker genes characteri...\n",
       "2  28258153  Pulmonary�tuberculosis�(TB) caused by�Mycobact...\n",
       "3  25398087  Tuberculosis�(TB) is an infectious disease cau...\n",
       "4  28274101  NADPH-P450 reductase (NPR) transfers electrons..."
      ]
     },
     "execution_count": 175,
     "metadata": {},
     "output_type": "execute_result"
    }
   ],
   "source": [
    "ds = pd.concat([userpool, dailypool])\n",
    "ds.reset_index(drop=True, inplace=True)\n",
    "ds.head()"
   ]
  },
  {
   "cell_type": "code",
   "execution_count": 176,
   "metadata": {
    "collapsed": false
   },
   "outputs": [
    {
     "data": {
      "text/html": [
       "<div>\n",
       "<table border=\"1\" class=\"dataframe\">\n",
       "  <thead>\n",
       "    <tr style=\"text-align: right;\">\n",
       "      <th></th>\n",
       "      <th>PMID</th>\n",
       "      <th>abstract</th>\n",
       "    </tr>\n",
       "  </thead>\n",
       "  <tbody>\n",
       "    <tr>\n",
       "      <th>0</th>\n",
       "      <td>27270041</td>\n",
       "      <td>Conserved DNA-damage responses (DDRs) sense ge...</td>\n",
       "    </tr>\n",
       "    <tr>\n",
       "      <th>1</th>\n",
       "      <td>19465921</td>\n",
       "      <td>Loss-of-function of caretaker genes characteri...</td>\n",
       "    </tr>\n",
       "    <tr>\n",
       "      <th>2</th>\n",
       "      <td>28258153</td>\n",
       "      <td>Pulmonary tuberculosis (TB) caused by Mycobact...</td>\n",
       "    </tr>\n",
       "    <tr>\n",
       "      <th>3</th>\n",
       "      <td>25398087</td>\n",
       "      <td>Tuberculosis (TB) is an infectious disease cau...</td>\n",
       "    </tr>\n",
       "    <tr>\n",
       "      <th>4</th>\n",
       "      <td>28274101</td>\n",
       "      <td>NADPH-P450 reductase (NPR) transfers electrons...</td>\n",
       "    </tr>\n",
       "  </tbody>\n",
       "</table>\n",
       "</div>"
      ],
      "text/plain": [
       "       PMID                                           abstract\n",
       "0  27270041  Conserved DNA-damage responses (DDRs) sense ge...\n",
       "1  19465921  Loss-of-function of caretaker genes characteri...\n",
       "2  28258153  Pulmonary tuberculosis (TB) caused by Mycobact...\n",
       "3  25398087  Tuberculosis (TB) is an infectious disease cau...\n",
       "4  28274101  NADPH-P450 reductase (NPR) transfers electrons..."
      ]
     },
     "execution_count": 176,
     "metadata": {},
     "output_type": "execute_result"
    }
   ],
   "source": [
    "#clean up not ASCII chars\n",
    "ds['abstract'] = ds[\"abstract\"].apply(lambda x: ''.join([\" \" if ord(i) < 32 or ord(i) > 126 else i for i in x]))\n",
    "ds.head()"
   ]
  },
  {
   "cell_type": "code",
   "execution_count": 177,
   "metadata": {
    "collapsed": true
   },
   "outputs": [],
   "source": [
    "tf = TfidfVectorizer(analyzer='word',\n",
    "                             ngram_range=(1, 3),\n",
    "                             min_df=0,\n",
    "                             stop_words='english')"
   ]
  },
  {
   "cell_type": "code",
   "execution_count": 178,
   "metadata": {
    "collapsed": false
   },
   "outputs": [],
   "source": [
    "tfidf_matrix = tf.fit_transform(ds['abstract'])"
   ]
  },
  {
   "cell_type": "code",
   "execution_count": 179,
   "metadata": {
    "collapsed": false
   },
   "outputs": [
    {
     "data": {
      "text/plain": [
       "<832x13245 sparse matrix of type '<type 'numpy.float64'>'\n",
       "\twith 16571 stored elements in Compressed Sparse Row format>"
      ]
     },
     "execution_count": 179,
     "metadata": {},
     "output_type": "execute_result"
    }
   ],
   "source": [
    "tfidf_matrix"
   ]
  },
  {
   "cell_type": "code",
   "execution_count": 180,
   "metadata": {
    "collapsed": false
   },
   "outputs": [
    {
     "data": {
      "text/plain": [
       "array([[ 1.        ,  0.08379392,  0.01243842, ...,  0.        ,\n",
       "         0.        ,  0.        ],\n",
       "       [ 0.08379392,  1.        ,  0.0050212 , ...,  0.        ,\n",
       "         0.        ,  0.        ],\n",
       "       [ 0.01243842,  0.0050212 ,  1.        , ...,  0.        ,\n",
       "         0.00803089,  0.        ],\n",
       "       [ 0.01694175,  0.01779382,  0.17759771, ...,  0.00508897,\n",
       "         0.01236981,  0.        ]])"
      ]
     },
     "execution_count": 180,
     "metadata": {},
     "output_type": "execute_result"
    }
   ],
   "source": [
    "cosine_similarities = linear_kernel(tfidf_matrix[:userpool.shape[0]], tfidf_matrix[:])\n",
    "cosine_similarities"
   ]
  },
  {
   "cell_type": "code",
   "execution_count": 181,
   "metadata": {
    "collapsed": false
   },
   "outputs": [],
   "source": [
    "similarities = pd.DataFrame(cosine_similarities)"
   ]
  },
  {
   "cell_type": "code",
   "execution_count": 182,
   "metadata": {
    "collapsed": false
   },
   "outputs": [
    {
     "data": {
      "text/html": [
       "<div>\n",
       "<table border=\"1\" class=\"dataframe\">\n",
       "  <thead>\n",
       "    <tr style=\"text-align: right;\">\n",
       "      <th></th>\n",
       "      <th>0</th>\n",
       "      <th>1</th>\n",
       "      <th>2</th>\n",
       "      <th>3</th>\n",
       "      <th>4</th>\n",
       "      <th>5</th>\n",
       "      <th>6</th>\n",
       "      <th>7</th>\n",
       "      <th>8</th>\n",
       "      <th>9</th>\n",
       "      <th>...</th>\n",
       "      <th>822</th>\n",
       "      <th>823</th>\n",
       "      <th>824</th>\n",
       "      <th>825</th>\n",
       "      <th>826</th>\n",
       "      <th>827</th>\n",
       "      <th>828</th>\n",
       "      <th>829</th>\n",
       "      <th>830</th>\n",
       "      <th>831</th>\n",
       "    </tr>\n",
       "  </thead>\n",
       "  <tbody>\n",
       "    <tr>\n",
       "      <th>0</th>\n",
       "      <td>1.000000</td>\n",
       "      <td>0.083794</td>\n",
       "      <td>0.012438</td>\n",
       "      <td>0.016942</td>\n",
       "      <td>0.0</td>\n",
       "      <td>0.0</td>\n",
       "      <td>0.000000</td>\n",
       "      <td>0.000000</td>\n",
       "      <td>0.008321</td>\n",
       "      <td>0.000000</td>\n",
       "      <td>...</td>\n",
       "      <td>0.000000</td>\n",
       "      <td>0.0</td>\n",
       "      <td>0.0</td>\n",
       "      <td>0.0</td>\n",
       "      <td>0.009336</td>\n",
       "      <td>0.0</td>\n",
       "      <td>0.0</td>\n",
       "      <td>0.000000</td>\n",
       "      <td>0.000000</td>\n",
       "      <td>0.0</td>\n",
       "    </tr>\n",
       "    <tr>\n",
       "      <th>1</th>\n",
       "      <td>0.083794</td>\n",
       "      <td>1.000000</td>\n",
       "      <td>0.005021</td>\n",
       "      <td>0.017794</td>\n",
       "      <td>0.0</td>\n",
       "      <td>0.0</td>\n",
       "      <td>0.000000</td>\n",
       "      <td>0.007117</td>\n",
       "      <td>0.003506</td>\n",
       "      <td>0.021368</td>\n",
       "      <td>...</td>\n",
       "      <td>0.000000</td>\n",
       "      <td>0.0</td>\n",
       "      <td>0.0</td>\n",
       "      <td>0.0</td>\n",
       "      <td>0.000000</td>\n",
       "      <td>0.0</td>\n",
       "      <td>0.0</td>\n",
       "      <td>0.000000</td>\n",
       "      <td>0.000000</td>\n",
       "      <td>0.0</td>\n",
       "    </tr>\n",
       "    <tr>\n",
       "      <th>2</th>\n",
       "      <td>0.012438</td>\n",
       "      <td>0.005021</td>\n",
       "      <td>1.000000</td>\n",
       "      <td>0.177598</td>\n",
       "      <td>0.0</td>\n",
       "      <td>0.0</td>\n",
       "      <td>0.006828</td>\n",
       "      <td>0.000000</td>\n",
       "      <td>0.017010</td>\n",
       "      <td>0.000000</td>\n",
       "      <td>...</td>\n",
       "      <td>0.007471</td>\n",
       "      <td>0.0</td>\n",
       "      <td>0.0</td>\n",
       "      <td>0.0</td>\n",
       "      <td>0.008379</td>\n",
       "      <td>0.0</td>\n",
       "      <td>0.0</td>\n",
       "      <td>0.000000</td>\n",
       "      <td>0.008031</td>\n",
       "      <td>0.0</td>\n",
       "    </tr>\n",
       "    <tr>\n",
       "      <th>3</th>\n",
       "      <td>0.016942</td>\n",
       "      <td>0.017794</td>\n",
       "      <td>0.177598</td>\n",
       "      <td>1.000000</td>\n",
       "      <td>0.0</td>\n",
       "      <td>0.0</td>\n",
       "      <td>0.007011</td>\n",
       "      <td>0.010552</td>\n",
       "      <td>0.003938</td>\n",
       "      <td>0.000000</td>\n",
       "      <td>...</td>\n",
       "      <td>0.000000</td>\n",
       "      <td>0.0</td>\n",
       "      <td>0.0</td>\n",
       "      <td>0.0</td>\n",
       "      <td>0.000000</td>\n",
       "      <td>0.0</td>\n",
       "      <td>0.0</td>\n",
       "      <td>0.005089</td>\n",
       "      <td>0.012370</td>\n",
       "      <td>0.0</td>\n",
       "    </tr>\n",
       "  </tbody>\n",
       "</table>\n",
       "<p>4 rows × 832 columns</p>\n",
       "</div>"
      ],
      "text/plain": [
       "        0         1         2         3    4    5         6         7    \\\n",
       "0  1.000000  0.083794  0.012438  0.016942  0.0  0.0  0.000000  0.000000   \n",
       "1  0.083794  1.000000  0.005021  0.017794  0.0  0.0  0.000000  0.007117   \n",
       "2  0.012438  0.005021  1.000000  0.177598  0.0  0.0  0.006828  0.000000   \n",
       "3  0.016942  0.017794  0.177598  1.000000  0.0  0.0  0.007011  0.010552   \n",
       "\n",
       "        8         9   ...        822  823  824  825       826  827  828  \\\n",
       "0  0.008321  0.000000 ...   0.000000  0.0  0.0  0.0  0.009336  0.0  0.0   \n",
       "1  0.003506  0.021368 ...   0.000000  0.0  0.0  0.0  0.000000  0.0  0.0   \n",
       "2  0.017010  0.000000 ...   0.007471  0.0  0.0  0.0  0.008379  0.0  0.0   \n",
       "3  0.003938  0.000000 ...   0.000000  0.0  0.0  0.0  0.000000  0.0  0.0   \n",
       "\n",
       "        829       830  831  \n",
       "0  0.000000  0.000000  0.0  \n",
       "1  0.000000  0.000000  0.0  \n",
       "2  0.000000  0.008031  0.0  \n",
       "3  0.005089  0.012370  0.0  \n",
       "\n",
       "[4 rows x 832 columns]"
      ]
     },
     "execution_count": 182,
     "metadata": {},
     "output_type": "execute_result"
    }
   ],
   "source": [
    "similarities"
   ]
  },
  {
   "cell_type": "code",
   "execution_count": 183,
   "metadata": {
    "collapsed": false
   },
   "outputs": [
    {
     "data": {
      "text/html": [
       "<div>\n",
       "<table border=\"1\" class=\"dataframe\">\n",
       "  <thead>\n",
       "    <tr style=\"text-align: right;\">\n",
       "      <th></th>\n",
       "      <th>PMID</th>\n",
       "    </tr>\n",
       "  </thead>\n",
       "  <tbody>\n",
       "    <tr>\n",
       "      <th>0</th>\n",
       "      <td>27270041</td>\n",
       "    </tr>\n",
       "    <tr>\n",
       "      <th>1</th>\n",
       "      <td>19465921</td>\n",
       "    </tr>\n",
       "    <tr>\n",
       "      <th>2</th>\n",
       "      <td>28258153</td>\n",
       "    </tr>\n",
       "    <tr>\n",
       "      <th>3</th>\n",
       "      <td>25398087</td>\n",
       "    </tr>\n",
       "  </tbody>\n",
       "</table>\n",
       "</div>"
      ],
      "text/plain": [
       "       PMID\n",
       "0  27270041\n",
       "1  19465921\n",
       "2  28258153\n",
       "3  25398087"
      ]
     },
     "execution_count": 183,
     "metadata": {},
     "output_type": "execute_result"
    }
   ],
   "source": [
    "prediction_matrix = pd.DataFrame(data=userpool.PMID, columns=['PMID'], index=userpool.index)\n",
    "similarity_scores = prediction_matrix.copy()\n",
    "similarity_scores"
   ]
  },
  {
   "cell_type": "code",
   "execution_count": 184,
   "metadata": {
    "collapsed": false
   },
   "outputs": [],
   "source": [
    "top_n = 12\n",
    "if (ds.shape[0] < top_n):\n",
    "    top_n = ds.shape[0] + 1\n",
    "\n",
    "for i in range(1,top_n-1):\n",
    "    col_name = i\n",
    "    prediction_matrix[col_name] = None\n",
    "    similarity_scores[col_name] = -1\n",
    "import datetime\n",
    "now = datetime.datetime.now()"
   ]
  },
  {
   "cell_type": "code",
   "execution_count": 223,
   "metadata": {
    "collapsed": false
   },
   "outputs": [
    {
     "name": "stdout",
     "output_type": "stream",
     "text": [
      "idx: 0\n",
      "similar indices: [  0   1  54 114 716 722 477 430 623 583 644]\n",
      "similar items: \n",
      " [(0.99999999999999933, 27270041), (0.083793924816965695, 19465921), (0.081937461746571905, 28274158), (0.072891501922273075, 28274224), (0.044891564175493434, 28274951), (0.041857678838202947, 28274958), (0.041100569768590646, 28274652), (0.036343454977238954, 28274595), (0.034456518980895613, 28274838), (0.033416943214084893, 28274794), (0.033103645640632812, 28274862)]\n",
      "idx: 1\n",
      "similar indices: [  1   0 446  53 283 716  89 565  54 159 639]\n",
      "similar items: \n",
      " [(1.0000000000000002, 19465921), (0.083793924816965695, 27270041), (0.044319576133340331, 28274615), (0.036427143370675, 28274157), (0.025591237986448155, 28274419), (0.024294734106412176, 28274951), (0.023544763988480065, 28274198), (0.02349890390335941, 28274768), (0.02340229811863526, 28274158), (0.022885901792000285, 28274274), (0.022311327257618148, 28274857)]\n",
      "idx: 2\n",
      "similar indices: [  2   3 808 116 468 807 777 622 646 326 664]\n",
      "similar items: \n",
      " [(1.0000000000000024, 28258153), (0.17759771400447499, 25398087), (0.12878020586851635, 28275074), (0.081986997165842748, 28274226), (0.044679958714341342, 28274638), (0.038990091137941683, 28275073), (0.027158191572399938, 28275038), (0.02565720974594931, 28274837), (0.024295171180752421, 28274864), (0.024143362429983675, 28274463), (0.024106743592867977, 28274882)]\n",
      "idx: 3\n",
      "similar indices: [  3   2 808 116 468  40 381 580 623 247  54]\n",
      "similar items: \n",
      " [(1.0000000000000016, 25398087), (0.17759771400447499, 28258153), (0.10174269287703988, 28275074), (0.074896891137733998, 28274226), (0.062071165363051094, 28274638), (0.052756570824943186, 28274144), (0.045163531026001361, 28274530), (0.039715429043409425, 28274791), (0.030140426438155416, 28274838), (0.029770049558736061, 28274380), (0.029735260452299718, 28274158)]\n"
     ]
    }
   ],
   "source": [
    "for idx in range(userpool.shape[0]):\n",
    "    print \"idx: %s\" % idx\n",
    "    similar_indices = cosine_similarities[idx].argsort()[:-top_n:-1]\n",
    "    print \"similar indices: %s\" % similar_indices\n",
    "    similar_items = [(cosine_similarities[idx][i], ds['PMID'][i]) for i in similar_indices]\n",
    "    print \"similar items: \\n %s\" % similar_items\n",
    "    for i in range(1,top_n-1): \n",
    "           \n",
    "        prediction_matrix.ix[idx, i] = similar_items[i][1] # insert into db directly \n",
    "        similarity_scores.ix[idx, i] = similar_items[i][0] # insert into a db table with date\n",
    "        \n",
    "    query = 'insert into recommend_articles values (\"%s\", %d, %d,\\\n",
    "        %d, %d, %d, %d, %d,\\\n",
    "        %d, %d, %d, %d, %d,\\\n",
    "        %.6f,%.6f,%.6f,%.6f,%.6f,\\\n",
    "        %.6f,%.6f,%.6f,%.6f,%.6f)'%(now, userId,userpool.ix[idx,'PMID'],\\\n",
    "                                                     similar_items[1][1],similar_items[2][1],\\\n",
    "                                                     similar_items[3][1],similar_items[4][1],similar_items[5][1],\\\n",
    "                                                     similar_items[6][1],similar_items[7][1],similar_items[8][1],\\\n",
    "                                                     similar_items[9][1],similar_items[10][1],similar_items[1][0],\\\n",
    "                                                     similar_items[2][0],\\\n",
    "                                                     similar_items[3][0],similar_items[4][0],similar_items[5][0],\\\n",
    "                                                     similar_items[6][0],similar_items[7][0],similar_items[8][0],\\\n",
    "                                                     similar_items[9][0],similar_items[10][0])\n",
    "     \n",
    "    cur.execute(query)\n",
    "    db.commit()"
   ]
  },
  {
   "cell_type": "code",
   "execution_count": 221,
   "metadata": {
    "collapsed": false
   },
   "outputs": [
    {
     "data": {
      "text/html": [
       "<div>\n",
       "<table border=\"1\" class=\"dataframe\">\n",
       "  <thead>\n",
       "    <tr style=\"text-align: right;\">\n",
       "      <th></th>\n",
       "      <th>PMID</th>\n",
       "      <th>1</th>\n",
       "      <th>2</th>\n",
       "      <th>3</th>\n",
       "      <th>4</th>\n",
       "      <th>5</th>\n",
       "      <th>6</th>\n",
       "      <th>7</th>\n",
       "      <th>8</th>\n",
       "      <th>9</th>\n",
       "      <th>10</th>\n",
       "    </tr>\n",
       "  </thead>\n",
       "  <tbody>\n",
       "    <tr>\n",
       "      <th>0</th>\n",
       "      <td>27270041</td>\n",
       "      <td>19465921</td>\n",
       "      <td>28274158</td>\n",
       "      <td>28274224</td>\n",
       "      <td>28274951</td>\n",
       "      <td>28274958</td>\n",
       "      <td>28274652</td>\n",
       "      <td>28274595</td>\n",
       "      <td>28274838</td>\n",
       "      <td>28274794</td>\n",
       "      <td>28274862</td>\n",
       "    </tr>\n",
       "    <tr>\n",
       "      <th>1</th>\n",
       "      <td>19465921</td>\n",
       "      <td>27270041</td>\n",
       "      <td>28274615</td>\n",
       "      <td>28274157</td>\n",
       "      <td>28274419</td>\n",
       "      <td>28274951</td>\n",
       "      <td>28274198</td>\n",
       "      <td>28274768</td>\n",
       "      <td>28274158</td>\n",
       "      <td>28274274</td>\n",
       "      <td>28274857</td>\n",
       "    </tr>\n",
       "    <tr>\n",
       "      <th>2</th>\n",
       "      <td>28258153</td>\n",
       "      <td>25398087</td>\n",
       "      <td>28275074</td>\n",
       "      <td>28274226</td>\n",
       "      <td>28274638</td>\n",
       "      <td>28275073</td>\n",
       "      <td>28275038</td>\n",
       "      <td>28274837</td>\n",
       "      <td>28274864</td>\n",
       "      <td>28274463</td>\n",
       "      <td>28274882</td>\n",
       "    </tr>\n",
       "    <tr>\n",
       "      <th>3</th>\n",
       "      <td>25398087</td>\n",
       "      <td>28258153</td>\n",
       "      <td>28275074</td>\n",
       "      <td>28274226</td>\n",
       "      <td>28274638</td>\n",
       "      <td>28274144</td>\n",
       "      <td>28274530</td>\n",
       "      <td>28274791</td>\n",
       "      <td>28274838</td>\n",
       "      <td>28274380</td>\n",
       "      <td>28274158</td>\n",
       "    </tr>\n",
       "  </tbody>\n",
       "</table>\n",
       "</div>"
      ],
      "text/plain": [
       "       PMID         1         2         3         4         5         6  \\\n",
       "0  27270041  19465921  28274158  28274224  28274951  28274958  28274652   \n",
       "1  19465921  27270041  28274615  28274157  28274419  28274951  28274198   \n",
       "2  28258153  25398087  28275074  28274226  28274638  28275073  28275038   \n",
       "3  25398087  28258153  28275074  28274226  28274638  28274144  28274530   \n",
       "\n",
       "          7         8         9        10  \n",
       "0  28274595  28274838  28274794  28274862  \n",
       "1  28274768  28274158  28274274  28274857  \n",
       "2  28274837  28274864  28274463  28274882  \n",
       "3  28274791  28274838  28274380  28274158  "
      ]
     },
     "execution_count": 221,
     "metadata": {},
     "output_type": "execute_result"
    }
   ],
   "source": [
    "prediction_matrix"
   ]
  },
  {
   "cell_type": "code",
   "execution_count": 195,
   "metadata": {
    "collapsed": false
   },
   "outputs": [
    {
     "data": {
      "text/html": [
       "<div>\n",
       "<table border=\"1\" class=\"dataframe\">\n",
       "  <thead>\n",
       "    <tr style=\"text-align: right;\">\n",
       "      <th></th>\n",
       "      <th>PMID</th>\n",
       "      <th>1</th>\n",
       "      <th>2</th>\n",
       "      <th>3</th>\n",
       "      <th>4</th>\n",
       "      <th>5</th>\n",
       "      <th>6</th>\n",
       "      <th>7</th>\n",
       "      <th>8</th>\n",
       "      <th>9</th>\n",
       "      <th>10</th>\n",
       "    </tr>\n",
       "  </thead>\n",
       "  <tbody>\n",
       "    <tr>\n",
       "      <th>0</th>\n",
       "      <td>27270041</td>\n",
       "      <td>0.083794</td>\n",
       "      <td>0.081937</td>\n",
       "      <td>0.072892</td>\n",
       "      <td>0.044892</td>\n",
       "      <td>0.041858</td>\n",
       "      <td>0.041101</td>\n",
       "      <td>0.036343</td>\n",
       "      <td>0.034457</td>\n",
       "      <td>0.033417</td>\n",
       "      <td>0.033104</td>\n",
       "    </tr>\n",
       "    <tr>\n",
       "      <th>1</th>\n",
       "      <td>19465921</td>\n",
       "      <td>0.083794</td>\n",
       "      <td>0.044320</td>\n",
       "      <td>0.036427</td>\n",
       "      <td>0.025591</td>\n",
       "      <td>0.024295</td>\n",
       "      <td>0.023545</td>\n",
       "      <td>0.023499</td>\n",
       "      <td>0.023402</td>\n",
       "      <td>0.022886</td>\n",
       "      <td>0.022311</td>\n",
       "    </tr>\n",
       "    <tr>\n",
       "      <th>2</th>\n",
       "      <td>28258153</td>\n",
       "      <td>0.177598</td>\n",
       "      <td>0.128780</td>\n",
       "      <td>0.081987</td>\n",
       "      <td>0.044680</td>\n",
       "      <td>0.038990</td>\n",
       "      <td>0.027158</td>\n",
       "      <td>0.025657</td>\n",
       "      <td>0.024295</td>\n",
       "      <td>0.024143</td>\n",
       "      <td>0.024107</td>\n",
       "    </tr>\n",
       "    <tr>\n",
       "      <th>3</th>\n",
       "      <td>25398087</td>\n",
       "      <td>0.177598</td>\n",
       "      <td>0.101743</td>\n",
       "      <td>0.074897</td>\n",
       "      <td>0.062071</td>\n",
       "      <td>0.052757</td>\n",
       "      <td>0.045164</td>\n",
       "      <td>0.039715</td>\n",
       "      <td>0.030140</td>\n",
       "      <td>0.029770</td>\n",
       "      <td>0.029735</td>\n",
       "    </tr>\n",
       "  </tbody>\n",
       "</table>\n",
       "</div>"
      ],
      "text/plain": [
       "       PMID         1         2         3         4         5         6  \\\n",
       "0  27270041  0.083794  0.081937  0.072892  0.044892  0.041858  0.041101   \n",
       "1  19465921  0.083794  0.044320  0.036427  0.025591  0.024295  0.023545   \n",
       "2  28258153  0.177598  0.128780  0.081987  0.044680  0.038990  0.027158   \n",
       "3  25398087  0.177598  0.101743  0.074897  0.062071  0.052757  0.045164   \n",
       "\n",
       "          7         8         9        10  \n",
       "0  0.036343  0.034457  0.033417  0.033104  \n",
       "1  0.023499  0.023402  0.022886  0.022311  \n",
       "2  0.025657  0.024295  0.024143  0.024107  \n",
       "3  0.039715  0.030140  0.029770  0.029735  "
      ]
     },
     "execution_count": 195,
     "metadata": {},
     "output_type": "execute_result"
    }
   ],
   "source": [
    "similarity_scores"
   ]
  },
  {
   "cell_type": "code",
   "execution_count": 214,
   "metadata": {
    "collapsed": false
   },
   "outputs": [],
   "source": [
    "cur.execute('insert into last_pmid values (\"%s\", 27270041)'%now)\n",
    "db.commit()\n",
    "    "
   ]
  },
  {
   "cell_type": "code",
   "execution_count": null,
   "metadata": {
    "collapsed": true
   },
   "outputs": [],
   "source": [
    "db.close()"
   ]
  }
 ],
 "metadata": {
  "anaconda-cloud": {},
  "kernelspec": {
   "display_name": "Python [conda root]",
   "language": "python",
   "name": "conda-root-py"
  },
  "language_info": {
   "codemirror_mode": {
    "name": "ipython",
    "version": 2
   },
   "file_extension": ".py",
   "mimetype": "text/x-python",
   "name": "python",
   "nbconvert_exporter": "python",
   "pygments_lexer": "ipython2",
   "version": "2.7.12"
  }
 },
 "nbformat": 4,
 "nbformat_minor": 1
}
