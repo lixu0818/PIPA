{
 "cells": [
  {
   "cell_type": "code",
   "execution_count": 1,
   "metadata": {
    "collapsed": false
   },
   "outputs": [],
   "source": [
    "import certifi\n",
    "import time\n",
    "import datetime\n",
    "import requests\n",
    "import numpy as np\n",
    "import pandas as pd\n",
    "import urllib3\n",
    "import MySQLdb\n",
    "from bs4 import BeautifulSoup\n",
    "from sklearn.feature_extraction.text import TfidfVectorizer\n",
    "from sklearn.metrics.pairwise import linear_kernel\n",
    "import matplotlib\n",
    "import matplotlib.pyplot as plt\n",
    "%matplotlib inline  "
   ]
  },
  {
   "cell_type": "code",
   "execution_count": 2,
   "metadata": {
    "collapsed": false
   },
   "outputs": [],
   "source": [
    "# set up db connection\n",
    "db = MySQLdb.connect(host=\"localhost\",    \n",
    "                     user=\"root\",        \n",
    "                     passwd=\"root\",  \n",
    "                     db=\"pipa_db\")\n",
    "cur = db.cursor()"
   ]
  },
  {
   "cell_type": "markdown",
   "metadata": {},
   "source": [
    "## 1. Extract and parse data from PubMed using a crawler"
   ]
  },
  {
   "cell_type": "code",
   "execution_count": 37,
   "metadata": {
    "collapsed": false
   },
   "outputs": [
    {
     "name": "stdout",
     "output_type": "stream",
     "text": [
      "Starting PMID is 28334039\n"
     ]
    }
   ],
   "source": [
    "# set up extraction variables\n",
    "dailyMax = 200\n",
    "batchNum = 20\n",
    "sleeptimeforPubmed = 5\n",
    "backstep = 20\n",
    "\n",
    "cur.execute('select pmid from articles order by pmid desc')\n",
    "rows = cur.fetchall()\n",
    "# startingPMID = rows[backstep][0]\n",
    "# endingPMID = rows[0][0]\n",
    "\n",
    "# for testing\n",
    "startingPMID = 28334039\n",
    "\n",
    "print \"Starting PMID is %d\" % startingPMID"
   ]
  },
  {
   "cell_type": "code",
   "execution_count": 38,
   "metadata": {
    "collapsed": false
   },
   "outputs": [
    {
     "name": "stdout",
     "output_type": "stream",
     "text": [
      "Start extracting ...\n",
      "28334040 extracted\n",
      "28334050 extracted\n",
      "28334060 extracted\n",
      "28334070 extracted\n",
      "28334080 extracted\n",
      "28334090 extracted\n",
      "28334110 extracted\n",
      "28334120 extracted\n",
      "28334130 extracted\n",
      "28334140 extracted\n",
      "28334150 extracted\n",
      "28334160 extracted\n",
      "28334170 extracted\n",
      "28334180 extracted\n",
      "28334190 extracted\n",
      "28334200 extracted\n",
      "28334210 extracted\n",
      "28334220 extracted\n",
      "28334230 extracted\n",
      "28334240 extracted\n",
      "28334250 extracted\n",
      "28334260 extracted\n",
      "28334270 extracted\n",
      "28334280 extracted\n",
      "28334290 extracted\n",
      "28334310 extracted\n",
      "28334320 extracted\n",
      "28334330 extracted\n",
      "28334340 extracted\n",
      "28334350 extracted\n",
      "28334360 extracted\n",
      "28334370 extracted\n",
      "28334380 extracted\n",
      "28334390 extracted\n",
      "28334400 extracted\n",
      "28334410 extracted\n",
      "28334420 extracted\n",
      "28334430 extracted\n",
      "28334440 extracted\n",
      "28334450 extracted\n",
      "28334470 extracted\n",
      "28334480 extracted\n",
      "28334490 extracted\n",
      "28334500 extracted\n",
      "28334510 extracted\n",
      "28334520 extracted\n",
      "28334530 extracted\n",
      "28334540 extracted\n",
      "28334550 extracted\n",
      "28334560 extracted\n",
      "28334570 extracted\n",
      "28334600 extracted\n",
      "28334610 extracted\n",
      "28334620 extracted\n",
      "28334630 extracted\n",
      "28334640 extracted\n",
      "28334650 extracted\n",
      "28334660 extracted\n",
      "28334670 extracted\n",
      "28334680 extracted\n",
      "28334690 extracted\n",
      "28334700 extracted\n",
      "28334710 extracted\n",
      "28334720 extracted\n",
      "28334730 extracted\n",
      "28334740 extracted\n",
      "28334750 extracted\n",
      "28334760 extracted\n",
      "28334770 extracted\n",
      "28334780 extracted\n",
      "28334790 extracted\n",
      "28334800 extracted\n",
      "28334810 extracted\n",
      "28334820 extracted\n",
      "28334830 extracted\n",
      "28334850 extracted\n",
      "28334860 extracted\n",
      "28334870 extracted\n",
      "28334880 extracted\n",
      "28334890 extracted\n",
      "28334900 extracted\n",
      "28334910 extracted\n",
      "28334920 extracted\n",
      "28334930 extracted\n",
      "28334940 extracted\n",
      "28334950 extracted\n",
      "28334970 extracted\n",
      "28334980 extracted\n",
      "28334990 extracted\n",
      "28335000 extracted\n",
      "28335010 extracted\n",
      "28335030 extracted\n",
      "Extraction and loading completed: PMID 28334039 ~ 28335038\n"
     ]
    }
   ],
   "source": [
    "# Main extraction loop\n",
    "# cur.execute('truncate table articles')\n",
    "print \"Start extracting ...\"\n",
    "for i in range (startingPMID, startingPMID + dailyMax, batchNum):\n",
    "    \n",
    "    # Build extraction url\n",
    "    PMIDs = \"\"\n",
    "    for j in range (batchNum):\n",
    "        PMIDs = PMIDs + str(i + j ) +\",\"\n",
    "    url = \"https://www.ncbi.nlm.nih.gov/pubmed/\"+ PMIDs +\"?report=medline&format=text\"\n",
    "    \n",
    "    # Extract data and clean up non-unicode\n",
    "    time.sleep(sleeptimeforPubmed) # sleep 5 sec between extraction batches\n",
    "    http = urllib3.PoolManager(cert_reqs='CERT_REQUIRED', ca_certs=certifi.where())\n",
    "    r = http.request('GET', url)\n",
    "    soup = BeautifulSoup(r.data, \"lxml\")\n",
    "    allInfo = unicode(soup.pre.string)\n",
    "\n",
    "    # Parse data to fetch PMID, Title, Abstract (data are messy -- wrapped with try-except)\n",
    "    if allInfo.find('PMID- ') < 0:\n",
    "        print url\n",
    "        print 'No new data found.'\n",
    "        break\n",
    "    \n",
    "    contentOffset = 6\n",
    "    while (allInfo.find('AB  -') > 0 and allInfo.find('TI  -') > 0):\n",
    "        IdIndexStart = allInfo.index('PMID- ') + contentOffset\n",
    "        IdIndexEnd = allInfo.index('\\n', IdIndexStart)\n",
    "        PMID = allInfo[IdIndexStart:IdIndexEnd]\n",
    "\n",
    "        try:\n",
    "            tiIndexStart = allInfo.index('TI  -') + contentOffset\n",
    "            if allInfo.find('PG  -', tiIndexStart) > 0:\n",
    "                tiIndexEnd = allInfo.index('PG  -', tiIndexStart) - 1\n",
    "            elif allInfo.find('LID -', tiIndexStart) > 0:\n",
    "                tiIndexEnd = allInfo.index('LID -', tiIndexStart) - 1\n",
    "            else:\n",
    "                tiIndexEnd = allInfo.index('AB  -', tiIndexStart) - 1\n",
    "            ti = allInfo[tiIndexStart:tiIndexEnd]\n",
    "        except:\n",
    "            ti =\"\"\n",
    "\n",
    "        abIndexStart = allInfo.index('AB  -') + contentOffset\n",
    "        try:\n",
    "            abIndexEnd = allInfo.index('FAU -', abIndexStart) - 1\n",
    "        except:\n",
    "            abIndexEnd = abIndexStart + 1000\n",
    "        ab = ti + \"        Abstract:\" + allInfo[abIndexStart:abIndexEnd]\n",
    "        \n",
    "        # load data into the Articles table in MySQL db\n",
    "        insert_articles_sql = \"insert into articles (pmid, abstract) values (\"+ PMID +\", '\"+ ab + \"')\"\n",
    "        try:\n",
    "            cur.execute(insert_articles_sql)\n",
    "            db.commit()\n",
    "        except:\n",
    "            db.rollback()\n",
    "        \n",
    "        endingPMID = int(PMID)\n",
    "        if (endingPMID % 10 == 0):\n",
    "            print \"%d extracted\" % endingPMID\n",
    "        allInfo = allInfo[abIndexEnd:]\n",
    "    \n",
    "now = datetime.datetime.now()\n",
    "insert_last_pmid_sql = 'insert into last_pmid (record_date, pmid) values (\"%s\", %d)' % (now, endingPMID)\n",
    "try:\n",
    "    cur.execute(insert_last_pmid_sql)\n",
    "    db.commit()\n",
    "except:\n",
    "    db.rollback()\n",
    "    \n",
    "print \"Extraction and loading completed: PMID %d ~ %d\" % (startingPMID, endingPMID) "
   ]
  },
  {
   "cell_type": "markdown",
   "metadata": {},
   "source": [
    "## 2. Train the recommendation engine"
   ]
  },
  {
   "cell_type": "code",
   "execution_count": 39,
   "metadata": {
    "collapsed": true
   },
   "outputs": [],
   "source": [
    "def import_data_articles(table_name, cur):\n",
    "    \"\"\"\n",
    "    Import article data from a table in MySQL db and load them into a pandas Dataframe.\n",
    "    \n",
    "    :type table_name: str\n",
    "    :type cur: db cursor\n",
    "    :rtype: pandas DataFrame\n",
    "    \"\"\"\n",
    "    #ds = pd.read_csv(data_source)\n",
    "    ds = cur.execute('select pmid, abstract from ' + table_name)\n",
    "    r = cur.fetchall()\n",
    "    return pd.DataFrame(list(r),columns=['PMID', 'abstract'])"
   ]
  },
  {
   "cell_type": "code",
   "execution_count": 40,
   "metadata": {
    "collapsed": true
   },
   "outputs": [],
   "source": [
    "def import_user_articles(userId, cur):\n",
    "    \"\"\"\n",
    "    Import a user's articles given id and load them into a pandas Dataframe.\n",
    "    \n",
    "    :type table_name: str\n",
    "    :type cur: db cursor\n",
    "    :rtype: pandas DataFrame\n",
    "    \"\"\"\n",
    "    \n",
    "    cur.execute('select pmid, title, abstract from user_articles where user_id=%d'% (userId))\n",
    "    r = cur.fetchall()\n",
    "    userdata= pd.DataFrame(list(r),columns=['PMID', 'title', 'abstract'])\n",
    "    userdata['abstract'] = userdata['title']+'        Abstract:'+userdata['abstract']\n",
    "    userpool = userdata[['PMID', 'abstract']]\n",
    "    return userpool"
   ]
  },
  {
   "cell_type": "code",
   "execution_count": 41,
   "metadata": {
    "collapsed": true
   },
   "outputs": [],
   "source": [
    "def import_recommend_articles(table_name, cur):\n",
    "    \"\"\"\n",
    "    Import recommend articles from a table in MySQL db and load them into a pandas Dataframe.\n",
    "    \n",
    "    :type table_name: str\n",
    "    :type cur: db cursor\n",
    "    :rtype: pandas DataFrame\n",
    "    \"\"\"\n",
    "    \n",
    "    ds = cur.execute('select source_pmid, title_1, title_2, title_3, title_4, title_5, \\\n",
    "    score_1, score_2, score_3, score_4, score_5 from %s order by entry_date desc limit 3' % table_name)\n",
    "    r = cur.fetchall()\n",
    "    colnames = ['Source_PMID', 'title_1', 'title_2', 'title_3', 'title_4', 'title_5', \\\n",
    "                'score_1', 'score_2', 'score_3', 'score_4', 'score_5']\n",
    "    \n",
    "    return pd.DataFrame(list(r),columns=colnames)"
   ]
  },
  {
   "cell_type": "code",
   "execution_count": 106,
   "metadata": {
    "collapsed": true
   },
   "outputs": [],
   "source": [
    "def plot_matrix(matrix):\n",
    "    \"\"\"\n",
    "    Plot a colored heatmap for a given DataFrame with numerical values.\n",
    "\n",
    "    :type matrix: pandas DataFrame\n",
    "    :rtype: void\n",
    "    \"\"\"\n",
    "\n",
    "    fig = plt.figure()\n",
    "    ax = fig.add_subplot(1,1,1)\n",
    "    ax.set_aspect('equal')\n",
    "    ax.grid(False)\n",
    "    plt.imshow(matrix, interpolation='nearest', cmap=plt.cm.Blues)\n",
    "    plt.yticks(range(matrix.shape[0]))\n",
    "    plt.colorbar()\n",
    "    plt.show()"
   ]
  },
  {
   "cell_type": "code",
   "execution_count": 64,
   "metadata": {
    "collapsed": false
   },
   "outputs": [],
   "source": [
    "def train(userpool, dailypool, userId, cur, db):\n",
    "    \"\"\"\n",
    "    Find the top 10 similar articles for each entry in the user's list and write into database\n",
    "    \n",
    "    :type userpool: pandas DataFrame\n",
    "    :type dailypool: pandas DataFrame\n",
    "    :type userId: int\n",
    "    :type cur: db cursor\n",
    "    :type db: MySQL db\n",
    "    :rtype: void\n",
    "    \"\"\"\n",
    "    \n",
    "    ds = pd.concat([userpool, dailypool])\n",
    "    ds.reset_index(drop=True, inplace=True)\n",
    "\n",
    "    # clean up not ASCII chars\n",
    "    ds['abstract'] = ds[\"abstract\"].apply(lambda x: ''.join([\" \" if ord(i) < 32 or ord(i) > 126 else i for i in x]))\n",
    "\n",
    "    # calculate term frequency\n",
    "    tf = TfidfVectorizer(analyzer='word',\n",
    "                         ngram_range=(1, 3),\n",
    "                         min_df=0,\n",
    "                         stop_words='english')\n",
    "    tfidf_matrix = tf.fit_transform(ds['abstract'])\n",
    "\n",
    "    # calculate similarity of papers(from users and pools) based on term frequency matrix\n",
    "    cosine_similarities = linear_kernel(tfidf_matrix[:userpool.shape[0]], tfidf_matrix[userpool.shape[0]:])\n",
    "    similarities = pd.DataFrame(cosine_similarities)\n",
    "\n",
    "    prediction_matrix = pd.DataFrame(data=userpool.PMID, columns=['PMID'], index=userpool.index)\n",
    "    similarity_scores = prediction_matrix.copy()\n",
    "    abstract_matrix = prediction_matrix.copy()\n",
    "\n",
    "    top_n = 12\n",
    "    if (ds.shape[0] < top_n):\n",
    "        top_n = ds.shape[0] + 1\n",
    "\n",
    "    for i in range(1,top_n-1):\n",
    "        col_name = i\n",
    "        prediction_matrix[col_name] = None\n",
    "        similarity_scores[col_name] = -1\n",
    "        abstract_matrix[col_name] = None\n",
    "\n",
    "    now = datetime.datetime.now()\n",
    "\n",
    "    for idx in range(userpool.shape[0]):\n",
    "        \n",
    "        #         sort papers by their similarity score\n",
    "        print \"idx: %s\" % idx\n",
    "        similar_indices = cosine_similarities[idx].argsort()[:-top_n:-1]\n",
    "        \n",
    "        # retrive the ID and abstract of sorted papers\n",
    "        print \"similar indices: %s\" % similar_indices\n",
    "        similar_items = [[cosine_similarities[idx][i], ds['PMID'][i+userpool.shape[0]], ds['abstract'][i+userpool.shape[0]]] for i in similar_indices]\n",
    "        \n",
    "        # save top 10 hits into MySQL database\n",
    "        for i in range(0,top_n-1):\n",
    "            prediction_matrix.ix[idx, i] = similar_items[i][1] # insert into db directly\n",
    "            similarity_scores.ix[idx, i] = similar_items[i][0] # insert into a db table with date\n",
    "\n",
    "            titleEnd = similar_items[i][2].index('        Abstract:')           \n",
    "            similar_items[i][2] = similar_items[i][2][:titleEnd][:200].replace('\\\"', ' ')\n",
    "\n",
    "        query = 'insert into recommend_articles (\\\n",
    "        entry_date, user_id, source_pmid,\\\n",
    "        pmid_1, pmid_2, pmid_3, pmid_4, pmid_5, pmid_6, pmid_7, pmid_8, pmid_9,pmid_10, \\\n",
    "        score_1, score_2, score_3,score_4, score_5, score_6, score_7, score_8, score_9, score_10,\\\n",
    "        title_1, title_2, title_3, title_4, title_5, title_6, title_7, title_8, title_9, title_10 ) \\\n",
    "        values \\\n",
    "        (\"%s\", %d, %d,\\\n",
    "            %d, %d, %d, %d, %d,\\\n",
    "            %d, %d, %d, %d, %d,\\\n",
    "            %.6f,%.6f,%.6f,%.6f,%.6f,\\\n",
    "            %.6f,%.6f,%.6f,%.6f,%.6f,\\\n",
    "            \"%s\",\"%s\",\"%s\",\"%s\",\"%s\",\\\n",
    "            \"%s\",\"%s\",\"%s\",\"%s\",\"%s\")'\\\n",
    "        %(now, userId,userpool.ix[idx,'PMID'],\\\n",
    "         similar_items[0][1],similar_items[1][1],similar_items[2][1],\\\n",
    "         similar_items[3][1],similar_items[4][1],similar_items[5][1],\\\n",
    "         similar_items[6][1],similar_items[7][1],similar_items[8][1],\\\n",
    "         similar_items[9][1],\\\n",
    "         similar_items[0][0],similar_items[1][0],similar_items[2][0],\\\n",
    "         similar_items[3][0],similar_items[4][0],similar_items[5][0],\\\n",
    "         similar_items[6][0],similar_items[7][0],similar_items[8][0],\\\n",
    "         similar_items[9][0],\\\n",
    "         similar_items[0][2],similar_items[1][2],similar_items[2][2],\\\n",
    "         similar_items[3][2],similar_items[4][2],similar_items[5][2],\\\n",
    "         similar_items[6][2],similar_items[7][2],similar_items[8][2],\\\n",
    "         similar_items[9][2])\n",
    "        # print query\n",
    "        try:\n",
    "            cur.execute(query)\n",
    "            db.commit()\n",
    "        except:\n",
    "            db.rollback()\n",
    "    return (similarities, prediction_matrix, similarity_scores);"
   ]
  },
  {
   "cell_type": "code",
   "execution_count": 65,
   "metadata": {
    "collapsed": false
   },
   "outputs": [
    {
     "data": {
      "text/html": [
       "<div>\n",
       "<table border=\"1\" class=\"dataframe\">\n",
       "  <thead>\n",
       "    <tr style=\"text-align: right;\">\n",
       "      <th></th>\n",
       "      <th>PMID</th>\n",
       "      <th>abstract</th>\n",
       "    </tr>\n",
       "  </thead>\n",
       "  <tbody>\n",
       "    <tr>\n",
       "      <th>0</th>\n",
       "      <td>28336258</td>\n",
       "      <td>A comparison of combined intravenous and topic...</td>\n",
       "    </tr>\n",
       "    <tr>\n",
       "      <th>1</th>\n",
       "      <td>28336272</td>\n",
       "      <td>Apigenin-7-diglucuronide protects retinas agai...</td>\n",
       "    </tr>\n",
       "    <tr>\n",
       "      <th>2</th>\n",
       "      <td>28336275</td>\n",
       "      <td>Structural characterization of purine nucleosi...</td>\n",
       "    </tr>\n",
       "    <tr>\n",
       "      <th>3</th>\n",
       "      <td>28336276</td>\n",
       "      <td>Chitin extraction from blue crab (Portunus seg...</td>\n",
       "    </tr>\n",
       "    <tr>\n",
       "      <th>4</th>\n",
       "      <td>28336277</td>\n",
       "      <td>Structure characteristics of an acidic polysac...</td>\n",
       "    </tr>\n",
       "  </tbody>\n",
       "</table>\n",
       "</div>"
      ],
      "text/plain": [
       "       PMID                                           abstract\n",
       "0  28336258  A comparison of combined intravenous and topic...\n",
       "1  28336272  Apigenin-7-diglucuronide protects retinas agai...\n",
       "2  28336275  Structural characterization of purine nucleosi...\n",
       "3  28336276  Chitin extraction from blue crab (Portunus seg...\n",
       "4  28336277  Structure characteristics of an acidic polysac..."
      ]
     },
     "execution_count": 65,
     "metadata": {},
     "output_type": "execute_result"
    }
   ],
   "source": [
    "dailypool = import_data_articles('dev_articles', cur)\n",
    "dailypool.head()"
   ]
  },
  {
   "cell_type": "code",
   "execution_count": 67,
   "metadata": {
    "collapsed": false
   },
   "outputs": [],
   "source": [
    "cur.execute('select distinct user_id from user_articles')\n",
    "userIdlist = cur.fetchall()"
   ]
  },
  {
   "cell_type": "code",
   "execution_count": 68,
   "metadata": {
    "collapsed": false
   },
   "outputs": [
    {
     "name": "stdout",
     "output_type": "stream",
     "text": [
      "idx: 0\n",
      "similar indices: [201 538 203 233 774 234 672 687 405 748 235]\n",
      "idx: 1\n",
      "similar indices: [210 219 209 356 357 450 129 186 662  85 772]\n",
      "idx: 2\n",
      "similar indices: [208 207 203 202 201 748 156  67 768 365 763]\n",
      "Engine trained in 3.2585940361 seconds.\n"
     ]
    }
   ],
   "source": [
    "# Train the recommendation engine, build similarity matrix\n",
    "\n",
    "start = time.time()\n",
    "for id in userIdlist:\n",
    "    userpool = import_user_articles(id[0], cur)       \n",
    "    similarities, prediction_matrix, similarity_scores = train(userpool, dailypool, id[0], cur, db)\n",
    "    \n",
    "print(\"Engine trained in %s seconds.\" % (time.time() - start))"
   ]
  },
  {
   "cell_type": "code",
   "execution_count": 107,
   "metadata": {
    "collapsed": false
   },
   "outputs": [
    {
     "data": {
      "image/png": "[encoded data removed]",
      "text/plain": [
       "<matplotlib.figure.Figure at 0x11857c410>"
      ]
     },
     "metadata": {},
     "output_type": "display_data"
    }
   ],
   "source": [
    "plot_matrix(similarities.iloc[:,:10])"
   ]
  },
  {
   "cell_type": "code",
   "execution_count": 69,
   "metadata": {
    "collapsed": false
   },
   "outputs": [
    {
     "data": {
      "text/html": [
       "<div>\n",
       "<table border=\"1\" class=\"dataframe\">\n",
       "  <thead>\n",
       "    <tr style=\"text-align: right;\">\n",
       "      <th></th>\n",
       "      <th>PMID</th>\n",
       "      <th>1</th>\n",
       "      <th>2</th>\n",
       "      <th>3</th>\n",
       "      <th>4</th>\n",
       "      <th>5</th>\n",
       "      <th>6</th>\n",
       "      <th>7</th>\n",
       "      <th>8</th>\n",
       "      <th>9</th>\n",
       "      <th>10</th>\n",
       "    </tr>\n",
       "  </thead>\n",
       "  <tbody>\n",
       "    <tr>\n",
       "      <th>0</th>\n",
       "      <td>28222492</td>\n",
       "      <td>28334332</td>\n",
       "      <td>28345606</td>\n",
       "      <td>28336806</td>\n",
       "      <td>28334835</td>\n",
       "      <td>28336807</td>\n",
       "      <td>28334634</td>\n",
       "      <td>28334655</td>\n",
       "      <td>28334112</td>\n",
       "      <td>28334734</td>\n",
       "      <td>28336808</td>\n",
       "    </tr>\n",
       "    <tr>\n",
       "      <th>1</th>\n",
       "      <td>21981078</td>\n",
       "      <td>28336774</td>\n",
       "      <td>28129393</td>\n",
       "      <td>28334040</td>\n",
       "      <td>28334041</td>\n",
       "      <td>28334183</td>\n",
       "      <td>28336489</td>\n",
       "      <td>28336596</td>\n",
       "      <td>28334623</td>\n",
       "      <td>28336413</td>\n",
       "      <td>28334833</td>\n",
       "    </tr>\n",
       "    <tr>\n",
       "      <th>2</th>\n",
       "      <td>28256519</td>\n",
       "      <td>28255205</td>\n",
       "      <td>28345606</td>\n",
       "      <td>28346428</td>\n",
       "      <td>28222492</td>\n",
       "      <td>28334734</td>\n",
       "      <td>28336548</td>\n",
       "      <td>28336377</td>\n",
       "      <td>28334815</td>\n",
       "      <td>28334049</td>\n",
       "      <td>28334804</td>\n",
       "    </tr>\n",
       "  </tbody>\n",
       "</table>\n",
       "</div>"
      ],
      "text/plain": [
       "       PMID         1         2         3         4         5         6  \\\n",
       "0  28222492  28334332  28345606  28336806  28334835  28336807  28334634   \n",
       "1  21981078  28336774  28129393  28334040  28334041  28334183  28336489   \n",
       "2  28256519  28255205  28345606  28346428  28222492  28334734  28336548   \n",
       "\n",
       "          7         8         9        10  \n",
       "0  28334655  28334112  28334734  28336808  \n",
       "1  28336596  28334623  28336413  28334833  \n",
       "2  28336377  28334815  28334049  28334804  "
      ]
     },
     "execution_count": 69,
     "metadata": {},
     "output_type": "execute_result"
    }
   ],
   "source": [
    "prediction_matrix"
   ]
  },
  {
   "cell_type": "code",
   "execution_count": 70,
   "metadata": {
    "collapsed": false
   },
   "outputs": [
    {
     "data": {
      "text/html": [
       "<div>\n",
       "<table border=\"1\" class=\"dataframe\">\n",
       "  <thead>\n",
       "    <tr style=\"text-align: right;\">\n",
       "      <th></th>\n",
       "      <th>PMID</th>\n",
       "      <th>1</th>\n",
       "      <th>2</th>\n",
       "      <th>3</th>\n",
       "      <th>4</th>\n",
       "      <th>5</th>\n",
       "      <th>6</th>\n",
       "      <th>7</th>\n",
       "      <th>8</th>\n",
       "      <th>9</th>\n",
       "      <th>10</th>\n",
       "    </tr>\n",
       "  </thead>\n",
       "  <tbody>\n",
       "    <tr>\n",
       "      <th>0</th>\n",
       "      <td>0.081584</td>\n",
       "      <td>0.062029</td>\n",
       "      <td>0.059382</td>\n",
       "      <td>0.052871</td>\n",
       "      <td>0.041059</td>\n",
       "      <td>0.037835</td>\n",
       "      <td>0.036725</td>\n",
       "      <td>0.034676</td>\n",
       "      <td>0.033675</td>\n",
       "      <td>0.033379</td>\n",
       "      <td>0.032671</td>\n",
       "    </tr>\n",
       "    <tr>\n",
       "      <th>1</th>\n",
       "      <td>0.165672</td>\n",
       "      <td>0.115543</td>\n",
       "      <td>0.098835</td>\n",
       "      <td>0.032476</td>\n",
       "      <td>0.026318</td>\n",
       "      <td>0.023308</td>\n",
       "      <td>0.020776</td>\n",
       "      <td>0.020357</td>\n",
       "      <td>0.019525</td>\n",
       "      <td>0.018915</td>\n",
       "      <td>0.018894</td>\n",
       "    </tr>\n",
       "    <tr>\n",
       "      <th>2</th>\n",
       "      <td>0.090254</td>\n",
       "      <td>0.064536</td>\n",
       "      <td>0.036856</td>\n",
       "      <td>0.032887</td>\n",
       "      <td>0.028632</td>\n",
       "      <td>0.026362</td>\n",
       "      <td>0.026241</td>\n",
       "      <td>0.024035</td>\n",
       "      <td>0.023209</td>\n",
       "      <td>0.022635</td>\n",
       "      <td>0.022177</td>\n",
       "    </tr>\n",
       "  </tbody>\n",
       "</table>\n",
       "</div>"
      ],
      "text/plain": [
       "       PMID         1         2         3         4         5         6  \\\n",
       "0  0.081584  0.062029  0.059382  0.052871  0.041059  0.037835  0.036725   \n",
       "1  0.165672  0.115543  0.098835  0.032476  0.026318  0.023308  0.020776   \n",
       "2  0.090254  0.064536  0.036856  0.032887  0.028632  0.026362  0.026241   \n",
       "\n",
       "          7         8         9        10  \n",
       "0  0.034676  0.033675  0.033379  0.032671  \n",
       "1  0.020357  0.019525  0.018915  0.018894  \n",
       "2  0.024035  0.023209  0.022635  0.022177  "
      ]
     },
     "execution_count": 70,
     "metadata": {},
     "output_type": "execute_result"
    }
   ],
   "source": [
    "similarity_scores"
   ]
  },
  {
   "cell_type": "code",
   "execution_count": 108,
   "metadata": {
    "collapsed": false
   },
   "outputs": [
    {
     "data": {
      "image/png": "[encoded data removed]",
      "text/plain": [
       "<matplotlib.figure.Figure at 0x120453310>"
      ]
     },
     "metadata": {},
     "output_type": "display_data"
    }
   ],
   "source": [
    "plot_matrix(similarity_scores)"
   ]
  },
  {
   "cell_type": "code",
   "execution_count": 72,
   "metadata": {
    "collapsed": false
   },
   "outputs": [
    {
     "data": {
      "text/html": [
       "<div>\n",
       "<table border=\"1\" class=\"dataframe\">\n",
       "  <thead>\n",
       "    <tr style=\"text-align: right;\">\n",
       "      <th></th>\n",
       "      <th>PMID</th>\n",
       "      <th>abstract</th>\n",
       "    </tr>\n",
       "  </thead>\n",
       "  <tbody>\n",
       "    <tr>\n",
       "      <th>0</th>\n",
       "      <td>1</td>\n",
       "      <td>p53 regulates mitochondrial respiration       ...</td>\n",
       "    </tr>\n",
       "    <tr>\n",
       "      <th>1</th>\n",
       "      <td>2</td>\n",
       "      <td>Inhibition of host vacuolar H+-ATPase activity...</td>\n",
       "    </tr>\n",
       "    <tr>\n",
       "      <th>2</th>\n",
       "      <td>3</td>\n",
       "      <td>Autophagy and metabolism        Abstract:Autop...</td>\n",
       "    </tr>\n",
       "  </tbody>\n",
       "</table>\n",
       "</div>"
      ],
      "text/plain": [
       "   PMID                                           abstract\n",
       "0     1  p53 regulates mitochondrial respiration       ...\n",
       "1     2  Inhibition of host vacuolar H+-ATPase activity...\n",
       "2     3  Autophagy and metabolism        Abstract:Autop..."
      ]
     },
     "execution_count": 72,
     "metadata": {},
     "output_type": "execute_result"
    }
   ],
   "source": [
    "userpool"
   ]
  },
  {
   "cell_type": "code",
   "execution_count": 78,
   "metadata": {
    "collapsed": false
   },
   "outputs": [
    {
     "data": {
      "text/html": [
       "<div>\n",
       "<table border=\"1\" class=\"dataframe\">\n",
       "  <thead>\n",
       "    <tr style=\"text-align: right;\">\n",
       "      <th></th>\n",
       "      <th>Source_PMID</th>\n",
       "      <th>title_1</th>\n",
       "      <th>title_2</th>\n",
       "      <th>title_3</th>\n",
       "      <th>title_4</th>\n",
       "      <th>title_5</th>\n",
       "      <th>score_1</th>\n",
       "      <th>score_2</th>\n",
       "      <th>score_3</th>\n",
       "      <th>score_4</th>\n",
       "      <th>score_5</th>\n",
       "    </tr>\n",
       "  </thead>\n",
       "  <tbody>\n",
       "    <tr>\n",
       "      <th>0</th>\n",
       "      <td>1</td>\n",
       "      <td>Discovery of Mieap-regulated mitochondrial qua...</td>\n",
       "      <td>Ultraminiature optical design for multispectra...</td>\n",
       "      <td>53BP1 contributes to regulation of autophagic ...</td>\n",
       "      <td>Fluorouracil enhances photodynamic therapy of ...</td>\n",
       "      <td>Screening utilization among cancer survivors: ...</td>\n",
       "      <td>0.081584</td>\n",
       "      <td>0.062029</td>\n",
       "      <td>0.059382</td>\n",
       "      <td>0.052871</td>\n",
       "      <td>0.041059</td>\n",
       "    </tr>\n",
       "    <tr>\n",
       "      <th>1</th>\n",
       "      <td>2</td>\n",
       "      <td>Manipulation of host vesicular trafficking and...</td>\n",
       "      <td>In situ structure of the Legionella Dot/Icm ty...</td>\n",
       "      <td>A Legionella Effector Disrupts Host Cytoskelet...</td>\n",
       "      <td>Macrophage origin limits functional plasticity...</td>\n",
       "      <td>Virus-mediated suppression of host non-self re...</td>\n",
       "      <td>0.165672</td>\n",
       "      <td>0.115543</td>\n",
       "      <td>0.098835</td>\n",
       "      <td>0.032476</td>\n",
       "      <td>0.026318</td>\n",
       "    </tr>\n",
       "    <tr>\n",
       "      <th>2</th>\n",
       "      <td>3</td>\n",
       "      <td>Autophagy down regulates pro-inflammatory medi...</td>\n",
       "      <td>The Autophagy Level Is Increased in the Synovi...</td>\n",
       "      <td>53BP1 contributes to regulation of autophagic ...</td>\n",
       "      <td>Autophagy is required for cell survival under ...</td>\n",
       "      <td>Discovery of Mieap-regulated mitochondrial qua...</td>\n",
       "      <td>0.090254</td>\n",
       "      <td>0.064536</td>\n",
       "      <td>0.036856</td>\n",
       "      <td>0.032887</td>\n",
       "      <td>0.028632</td>\n",
       "    </tr>\n",
       "  </tbody>\n",
       "</table>\n",
       "</div>"
      ],
      "text/plain": [
       "   Source_PMID                                            title_1  \\\n",
       "0            1  Discovery of Mieap-regulated mitochondrial qua...   \n",
       "1            2  Manipulation of host vesicular trafficking and...   \n",
       "2            3  Autophagy down regulates pro-inflammatory medi...   \n",
       "\n",
       "                                             title_2  \\\n",
       "0  Ultraminiature optical design for multispectra...   \n",
       "1  In situ structure of the Legionella Dot/Icm ty...   \n",
       "2  The Autophagy Level Is Increased in the Synovi...   \n",
       "\n",
       "                                             title_3  \\\n",
       "0  53BP1 contributes to regulation of autophagic ...   \n",
       "1  A Legionella Effector Disrupts Host Cytoskelet...   \n",
       "2  53BP1 contributes to regulation of autophagic ...   \n",
       "\n",
       "                                             title_4  \\\n",
       "0  Fluorouracil enhances photodynamic therapy of ...   \n",
       "1  Macrophage origin limits functional plasticity...   \n",
       "2  Autophagy is required for cell survival under ...   \n",
       "\n",
       "                                             title_5   score_1   score_2  \\\n",
       "0  Screening utilization among cancer survivors: ...  0.081584  0.062029   \n",
       "1  Virus-mediated suppression of host non-self re...  0.165672  0.115543   \n",
       "2  Discovery of Mieap-regulated mitochondrial qua...  0.090254  0.064536   \n",
       "\n",
       "    score_3   score_4   score_5  \n",
       "0  0.059382  0.052871  0.041059  \n",
       "1  0.098835  0.032476  0.026318  \n",
       "2  0.036856  0.032887  0.028632  "
      ]
     },
     "execution_count": 78,
     "metadata": {},
     "output_type": "execute_result"
    }
   ],
   "source": [
    "recommendations = import_recommend_articles('recommend_articles', cur)\n",
    "recommendations"
   ]
  },
  {
   "cell_type": "markdown",
   "metadata": {},
   "source": [
    "### Summary"
   ]
  },
  {
   "cell_type": "markdown",
   "metadata": {},
   "source": [
    "* Crawl publication resources from Pubmed with urllib3\n",
    "* Parsing information on the webpage with beautifulsoup4\n",
    "* Calculate similarity with sklearn TF-IDF algorithm\n",
    "* Read and write data accessing MySQL database"
   ]
  },
  {
   "cell_type": "markdown",
   "metadata": {},
   "source": [
    "### What's next"
   ]
  },
  {
   "cell_type": "markdown",
   "metadata": {},
   "source": [
    "* Scale up to more data sources\n",
    "* Improve recommendation accuracy\n",
    "* Include collaborative filtering\n",
    "* Add more features to front-end\n"
   ]
  }
 ],
 "metadata": {
  "anaconda-cloud": {},
  "kernelspec": {
   "display_name": "Python 2",
   "language": "python",
   "name": "python2"
  },
  "language_info": {
   "codemirror_mode": {
    "name": "ipython",
    "version": 2
   },
   "file_extension": ".py",
   "mimetype": "text/x-python",
   "name": "python",
   "nbconvert_exporter": "python",
   "pygments_lexer": "ipython2",
   "version": "2.7.9"
  }
 },
 "nbformat": 4,
 "nbformat_minor": 2
}
