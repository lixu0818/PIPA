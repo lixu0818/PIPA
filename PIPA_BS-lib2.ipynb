{
 "cells": [
  {
   "cell_type": "code",
   "execution_count": 17,
   "metadata": {
    "collapsed": true
   },
   "outputs": [],
   "source": [
    "import urllib2\n",
    "from bs4 import BeautifulSoup"
   ]
  },
  {
   "cell_type": "code",
   "execution_count": 23,
   "metadata": {
    "collapsed": true
   },
   "outputs": [],
   "source": [
    "startingPMID=27693354 #get from database and passed in as parameter\n",
    "dailyMax = 5"
   ]
  },
  {
   "cell_type": "code",
   "execution_count": 27,
   "metadata": {
    "collapsed": false
   },
   "outputs": [
    {
     "name": "stdout",
     "output_type": "stream",
     "text": [
      "27693354\n",
      "27693355\n",
      "27693356\n",
      "27693357\n",
      "27693358\n",
      "CPU times: user 85.8 ms, sys: 9.11 ms, total: 94.9 ms\n",
      "Wall time: 2.57 s\n"
     ]
    }
   ],
   "source": [
    "%%time\n",
    "for i in range (dailyMax):\n",
    "    url = \"https://www.ncbi.nlm.nih.gov/pubmed/\"+ str(startingPMID +i ) +\"?report=medline&format=text\"\n",
    "    content = urllib2.urlopen(url).read()\n",
    "    soup = BeautifulSoup(content, \"lxml\")\n",
    "    allInfo = unicode(soup.pre.string)\n",
    "    \n",
    "    if allInfo.find('Error occurred: The following PMID is not available')>0:\n",
    "        print 'error'\n",
    "        break        \n",
    "\n",
    "    IdIndexStart = allInfo.index('PMID')+6\n",
    "    IdIndexEnd = allInfo.index('\\n', IdIndexStart)\n",
    "    PMID = allInfo[IdIndexStart:IdIndexEnd]\n",
    "    print PMID\n",
    "    "
   ]
  },
  {
   "cell_type": "code",
   "execution_count": 3,
   "metadata": {
    "collapsed": false
   },
   "outputs": [],
   "source": []
  },
  {
   "cell_type": "code",
   "execution_count": 4,
   "metadata": {
    "collapsed": true
   },
   "outputs": [],
   "source": []
  },
  {
   "cell_type": "code",
   "execution_count": 14,
   "metadata": {
    "collapsed": false
   },
   "outputs": [
    {
     "name": "stdout",
     "output_type": "stream",
     "text": [
      "<type 'unicode'>\n",
      "27693354\n"
     ]
    }
   ],
   "source": []
  },
  {
   "cell_type": "code",
   "execution_count": null,
   "metadata": {
    "collapsed": false
   },
   "outputs": [],
   "source": []
  },
  {
   "cell_type": "code",
   "execution_count": null,
   "metadata": {
    "collapsed": false
   },
   "outputs": [],
   "source": []
  },
  {
   "cell_type": "code",
   "execution_count": null,
   "metadata": {
    "collapsed": true
   },
   "outputs": [],
   "source": []
  },
  {
   "cell_type": "code",
   "execution_count": null,
   "metadata": {
    "collapsed": true
   },
   "outputs": [],
   "source": []
  }
 ],
 "metadata": {
  "anaconda-cloud": {},
  "kernelspec": {
   "display_name": "Python [conda root]",
   "language": "python",
   "name": "conda-root-py"
  },
  "language_info": {
   "codemirror_mode": {
    "name": "ipython",
    "version": 2
   },
   "file_extension": ".py",
   "mimetype": "text/x-python",
   "name": "python",
   "nbconvert_exporter": "python",
   "pygments_lexer": "ipython2",
   "version": "2.7.12"
  }
 },
 "nbformat": 4,
 "nbformat_minor": 1
}
