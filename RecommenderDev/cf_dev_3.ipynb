{
 "cells": [
  {
   "cell_type": "code",
   "execution_count": 7,
   "metadata": {
    "collapsed": true
   },
   "outputs": [],
   "source": [
    "import pandas as pd\n",
    "import time\n",
    "import datetime\n",
    "import redis\n",
    "from flask import current_app\n",
    "from sklearn.feature_extraction.text import TfidfVectorizer\n",
    "from sklearn.metrics.pairwise import linear_kernel"
   ]
  },
  {
   "cell_type": "code",
   "execution_count": 8,
   "metadata": {
    "collapsed": true
   },
   "outputs": [],
   "source": [
    "#!/usr/bin/python\n",
    "import MySQLdb\n",
    "\n",
    "db = MySQLdb.connect(host=\"localhost\",    # your host, usually localhost\n",
    "                     user=\"root\",         # your username\n",
    "                     #passwd=\"xpx\",  # your password\n",
    "                     db=\"xudatabase\")        # name of the data base\n",
    "\n",
    "cur = db.cursor()"
   ]
  },
  {
   "cell_type": "code",
   "execution_count": 9,
   "metadata": {
    "collapsed": true
   },
   "outputs": [],
   "source": [
    "# import article data from mysql db \n",
    "def import_data_articles(table_name):\n",
    "    #ds = pd.read_csv(data_source)\n",
    "    ds = cur.execute('select * from ' +table_name)\n",
    "    r = cur.fetchall()\n",
    "    return pd.DataFrame(list(r),columns=['PMID', 'abstract'])\n",
    "    "
   ]
  },
  {
   "cell_type": "code",
   "execution_count": 10,
   "metadata": {
    "collapsed": false
   },
   "outputs": [],
   "source": [
    "userId =1\n",
    "userpool = pd.read_csv(\"./data/testdata.csv\")\n",
    "ds = cur.execute('select * from ' +table_name)\n",
    "    r = cur.fetchall()\n",
    "    return pd.DataFrame(list(r),columns=['PMID', 'abstract'])\n",
    "\n"
   ]
  },
  {
   "cell_type": "code",
   "execution_count": 11,
   "metadata": {
    "collapsed": false
   },
   "outputs": [],
   "source": [
    "dailypool = import_data_articles('articles')"
   ]
  },
  {
   "cell_type": "code",
   "execution_count": 15,
   "metadata": {
    "collapsed": true
   },
   "outputs": [],
   "source": [
    "def train_time():\n",
    "    start = time.time()\n",
    "    train(userpool, dailypool)\n",
    "    print(\"Engine trained in %s seconds.\" % (time.time() - start))    "
   ]
  },
  {
   "cell_type": "code",
   "execution_count": 16,
   "metadata": {
    "collapsed": false
   },
   "outputs": [],
   "source": [
    "# refactor the training logic into this function\n",
    "def train(userpool, dailypool):\n",
    "    ds = pd.concat([userpool, dailypool])\n",
    "    ds.reset_index(drop=True, inplace=True)\n",
    "    \n",
    "    #clean up not ASCII chars\n",
    "    ds['abstract'] = ds[\"abstract\"].apply(lambda x: ''.join([\" \" if ord(i) < 32 or ord(i) > 126 else i for i in x]))\n",
    "    \n",
    "    tf = TfidfVectorizer(analyzer='word',\n",
    "                             ngram_range=(1, 3),\n",
    "                             min_df=0,\n",
    "                             stop_words='english')\n",
    "    tfidf_matrix = tf.fit_transform(ds['abstract'])\n",
    "    cosine_similarities = linear_kernel(tfidf_matrix[:userpool.shape[0]], tfidf_matrix[:])\n",
    "    similarities = pd.DataFrame(cosine_similarities)\n",
    "    \n",
    "    prediction_matrix = pd.DataFrame(data=userpool.PMID, columns=['PMID'], index=userpool.index)\n",
    "    similarity_scores = prediction_matrix.copy()\n",
    "    \n",
    "    top_n = 12\n",
    "    if (ds.shape[0] < top_n):\n",
    "        top_n = ds.shape[0] + 1\n",
    "\n",
    "    for i in range(1,top_n-1):\n",
    "        col_name = i\n",
    "        prediction_matrix[col_name] = None\n",
    "        similarity_scores[col_name] = -1\n",
    "\n",
    "    now = datetime.datetime.now()\n",
    "    \n",
    "    for idx in range(userpool.shape[0]):\n",
    "        #print \"idx: %s\" % idx\n",
    "        similar_indices = cosine_similarities[idx].argsort()[:-top_n:-1]\n",
    "        #print \"similar indices: %s\" % similar_indices\n",
    "        similar_items = [(cosine_similarities[idx][i], ds['PMID'][i]) for i in similar_indices]\n",
    "        #print \"similar items: \\n %s\" % similar_items\n",
    "        for i in range(1,top_n-1): \n",
    "\n",
    "            prediction_matrix.ix[idx, i] = similar_items[i][1] # insert into db directly \n",
    "            similarity_scores.ix[idx, i] = similar_items[i][0] # insert into a db table with date\n",
    "\n",
    "        query = 'insert into recommend_articles values (\"%s\", %d, %d,\\\n",
    "            %d, %d, %d, %d, %d,\\\n",
    "            %d, %d, %d, %d, %d,\\\n",
    "            %.6f,%.6f,%.6f,%.6f,%.6f,\\\n",
    "            %.6f,%.6f,%.6f,%.6f,%.6f)'%(now, userId,userpool.ix[idx,'PMID'],\\\n",
    "                                                         similar_items[1][1],similar_items[2][1],\\\n",
    "                                                         similar_items[3][1],similar_items[4][1],similar_items[5][1],\\\n",
    "                                                         similar_items[6][1],similar_items[7][1],similar_items[8][1],\\\n",
    "                                                         similar_items[9][1],similar_items[10][1],similar_items[1][0],\\\n",
    "                                                         similar_items[2][0],\\\n",
    "                                                         similar_items[3][0],similar_items[4][0],similar_items[5][0],\\\n",
    "                                                         similar_items[6][0],similar_items[7][0],similar_items[8][0],\\\n",
    "                                                         similar_items[9][0],similar_items[10][0])\n",
    "\n",
    "        cur.execute(query)\n",
    "        db.commit()\n",
    "    return 1;"
   ]
  },
  {
   "cell_type": "code",
   "execution_count": 17,
   "metadata": {
    "collapsed": false
   },
   "outputs": [
    {
     "name": "stdout",
     "output_type": "stream",
     "text": [
      "idx: 0\n",
      "similar indices: [  0   1  54 114 716 722 477 430 623 583 644]\n",
      "similar items: \n",
      " [(0.99999999999999933, 27270041), (0.083793924816965695, 19465921), (0.081937461746571905, 28274158), (0.072891501922273075, 28274224), (0.044891564175493434, 28274951), (0.041857678838202947, 28274958), (0.041100569768590646, 28274652), (0.036343454977238954, 28274595), (0.034456518980895613, 28274838), (0.033416943214084893, 28274794), (0.033103645640632812, 28274862)]\n",
      "idx: 1\n",
      "similar indices: [  1   0 446  53 283 716  89 565  54 159 639]\n",
      "similar items: \n",
      " [(1.0000000000000002, 19465921), (0.083793924816965695, 27270041), (0.044319576133340331, 28274615), (0.036427143370675, 28274157), (0.025591237986448155, 28274419), (0.024294734106412176, 28274951), (0.023544763988480065, 28274198), (0.02349890390335941, 28274768), (0.02340229811863526, 28274158), (0.022885901792000285, 28274274), (0.022311327257618148, 28274857)]\n",
      "idx: 2\n",
      "similar indices: [  2   3 808 116 468 807 777 622 646 326 664]\n",
      "similar items: \n",
      " [(1.0000000000000024, 28258153), (0.17759771400447499, 25398087), (0.12878020586851635, 28275074), (0.081986997165842748, 28274226), (0.044679958714341342, 28274638), (0.038990091137941683, 28275073), (0.027158191572399938, 28275038), (0.02565720974594931, 28274837), (0.024295171180752421, 28274864), (0.024143362429983675, 28274463), (0.024106743592867977, 28274882)]\n",
      "idx: 3\n",
      "similar indices: [  3   2 808 116 468  40 381 580 623 247  54]\n",
      "similar items: \n",
      " [(1.0000000000000016, 25398087), (0.17759771400447499, 28258153), (0.10174269287703988, 28275074), (0.074896891137733998, 28274226), (0.062071165363051094, 28274638), (0.052756570824943186, 28274144), (0.045163531026001361, 28274530), (0.039715429043409425, 28274791), (0.030140426438155416, 28274838), (0.029770049558736061, 28274380), (0.029735260452299718, 28274158)]\n",
      "Engine trained in 0.193936109543 seconds.\n"
     ]
    }
   ],
   "source": [
    "calculate_time()"
   ]
  },
  {
   "cell_type": "code",
   "execution_count": null,
   "metadata": {
    "collapsed": true
   },
   "outputs": [],
   "source": [
    "db.close()"
   ]
  },
  {
   "cell_type": "code",
   "execution_count": 214,
   "metadata": {
    "collapsed": false
   },
   "outputs": [],
   "source": [
    "cur.execute('insert into last_pmid values (\"%s\", 27270041)'%now)\n",
    "db.commit()\n",
    "    "
   ]
  }
 ],
 "metadata": {
  "anaconda-cloud": {},
  "kernelspec": {
   "display_name": "Python [conda root]",
   "language": "python",
   "name": "conda-root-py"
  },
  "language_info": {
   "codemirror_mode": {
    "name": "ipython",
    "version": 2
   },
   "file_extension": ".py",
   "mimetype": "text/x-python",
   "name": "python",
   "nbconvert_exporter": "python",
   "pygments_lexer": "ipython2",
   "version": "2.7.12"
  }
 },
 "nbformat": 4,
 "nbformat_minor": 1
}
