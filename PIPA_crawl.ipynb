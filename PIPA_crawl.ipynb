{
 "cells": [
  {
   "cell_type": "code",
   "execution_count": 12,
   "metadata": {
    "collapsed": false
   },
   "outputs": [],
   "source": [
    "import urllib3\n",
    "from bs4 import BeautifulSoup\n",
    "import requests\n",
    "import certifi\n",
    "import time\n",
    "import datetime"
   ]
  },
  {
   "cell_type": "code",
   "execution_count": 94,
   "metadata": {
    "collapsed": false
   },
   "outputs": [],
   "source": [
    "#!/usr/bin/python\n",
    "import MySQLdb\n",
    "\n",
    "db = MySQLdb.connect(host=\"localhost\",    # your host, usually localhost\n",
    "                     user=\"root\",         # your username\n",
    "                     passwd=\"root\",  # your password\n",
    "                     db=\"pipa_db\")        # name of the data base\n",
    "\n",
    "cur = db.cursor()"
   ]
  },
  {
   "cell_type": "code",
   "execution_count": 95,
   "metadata": {
    "collapsed": false
   },
   "outputs": [
    {
     "data": {
      "text/plain": [
       "6L"
      ]
     },
     "execution_count": 95,
     "metadata": {},
     "output_type": "execute_result"
    }
   ],
   "source": [
    "show_tables = \"show tables\"\n",
    "cur.execute(show_tables)"
   ]
  },
  {
   "cell_type": "code",
   "execution_count": 96,
   "metadata": {
    "collapsed": false
   },
   "outputs": [
    {
     "name": "stdout",
     "output_type": "stream",
     "text": [
      "28314369 28314358\n"
     ]
    }
   ],
   "source": [
    "dailyMax = 1000\n",
    "batchNum = 20\n",
    "sleeptimeforPubmed =5\n",
    "backstep =20\n",
    "\n",
    "cur.execute('select pmid from last_pmid')\n",
    "endingPMIDtuple = max(cur.fetchall())\n",
    "endingPMID = endingPMIDtuple[0]\n",
    "startingPMID=28314358 #endingPMID -backstep\n",
    "print endingPMID, startingPMID\n",
    "    "
   ]
  },
  {
   "cell_type": "code",
   "execution_count": 90,
   "metadata": {
    "collapsed": false
   },
   "outputs": [
    {
     "data": {
      "text/plain": [
       "0L"
      ]
     },
     "execution_count": 90,
     "metadata": {},
     "output_type": "execute_result"
    }
   ],
   "source": [
    "cur.execute('truncate articles')\n",
    "# erase data or re-create articles table"
   ]
  },
  {
   "cell_type": "code",
   "execution_count": 91,
   "metadata": {
    "collapsed": false,
    "scrolled": true
   },
   "outputs": [
    {
     "name": "stdout",
     "output_type": "stream",
     "text": [
      "28314360\n",
      "https://www.ncbi.nlm.nih.gov/pubmed/28314378,28314379,28314380,28314381,28314382,28314383,28314384,28314385,28314386,28314387,28314388,28314389,28314390,28314391,28314392,28314393,28314394,28314395,28314396,28314397,?report=medline&format=text\n",
      "bad end\n",
      "CPU times: user 41.8 ms, sys: 3.19 ms, total: 45 ms\n",
      "Wall time: 991 ms\n"
     ]
    }
   ],
   "source": [
    "%%time\n",
    "        for i in range (startingPMID, startingPMID+dailyMax, batchNum):\n",
    "            PMIDs = \"\"\n",
    "\n",
    "            for j in range (batchNum):\n",
    "                PMIDs = PMIDs + str(i + j ) +\",\"\n",
    "\n",
    "            url = \"https://www.ncbi.nlm.nih.gov/pubmed/\"+ PMIDs +\"?report=medline&format=text\" \n",
    "\n",
    "            #time.sleep(sleeptimeforPubmed)\n",
    "            http = urllib3.PoolManager(cert_reqs='CERT_REQUIRED',ca_certs=certifi.where())\n",
    "            r = http.request('GET', url)\n",
    "            soup = BeautifulSoup(r.data, \"lxml\")\n",
    "\n",
    "            allInfo = unicode(soup.pre.string)\n",
    "\n",
    "            if allInfo.find('PMID- ')<0:\n",
    "                print url\n",
    "                print 'bad end'        \n",
    "                break\n",
    "\n",
    "            while allInfo.find('AB  -')>0:\n",
    "                IdIndexStart = allInfo.index('PMID- ')+6\n",
    "                IdIndexEnd = allInfo.index('\\n', IdIndexStart)\n",
    "                PMID = allInfo[IdIndexStart:IdIndexEnd]\n",
    "\n",
    "                tiIndexStart = allInfo.index('TI  -')+6\n",
    "                tiIndexEnd =   allInfo.index('PG  -', tiIndexStart)-1\n",
    "                ti = allInfo[tiIndexStart:tiIndexEnd]\n",
    "                \n",
    "                abIndexStart = allInfo.index('AB  -')+6\n",
    "                abIndexEnd =   allInfo.index('FAU -', abIndexStart)-1\n",
    "                ab = ti+\"        Abstract:\"+allInfo[abIndexStart:abIndexEnd]\n",
    "\n",
    "                query = \"insert into articles (pmid, abstract) values (\"+ PMID +\", '\"+ ab + \"')\"\n",
    "                endingPMID = int(PMID)\n",
    "                if (endingPMID%10==0):\n",
    "                    print endingPMID\n",
    "\n",
    "                try:\n",
    "                    cur.execute(query)\n",
    "                    db.commit()\n",
    "\n",
    "                except:\n",
    "                    db.rollback()\n",
    "\n",
    "                allInfo = allInfo[abIndexEnd:]\n",
    "\n",
    "        now = datetime.datetime.now()       \n",
    "        query = 'insert into last_pmid (record_date, pmid) values (\"%s\", %d)'%(now, endingPMID)\n",
    "        cur.execute(query)\n",
    "        db.commit()\n",
    "# write endingPMID to db\n",
    "db.close()    \n",
    "    "
   ]
  },
  {
   "cell_type": "code",
   "execution_count": null,
   "metadata": {
    "collapsed": true
   },
   "outputs": [],
   "source": []
  }
 ],
 "metadata": {
  "anaconda-cloud": {},
  "kernelspec": {
   "display_name": "Python [conda root]",
   "language": "python",
   "name": "conda-root-py"
  },
  "language_info": {
   "codemirror_mode": {
    "name": "ipython",
    "version": 2
   },
   "file_extension": ".py",
   "mimetype": "text/x-python",
   "name": "python",
   "nbconvert_exporter": "python",
   "pygments_lexer": "ipython2",
   "version": "2.7.9"
  }
 },
 "nbformat": 4,
 "nbformat_minor": 1
}
