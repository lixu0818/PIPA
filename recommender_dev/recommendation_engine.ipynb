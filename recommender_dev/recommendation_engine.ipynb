{
 "cells": [
  {
   "cell_type": "code",
   "execution_count": 1,
   "metadata": {
    "collapsed": true
   },
   "outputs": [],
   "source": [
    "import pandas as pd\n",
    "import time\n",
    "import datetime\n",
    "import redis\n",
    "from flask import current_app\n",
    "from sklearn.feature_extraction.text import TfidfVectorizer\n",
    "\n",
    "from sklearn.metrics.pairwise import linear_kernel"
   ]
  },
  {
   "cell_type": "code",
   "execution_count": 2,
   "metadata": {
    "collapsed": true
   },
   "outputs": [],
   "source": [
    "#!/usr/bin/python\n",
    "import MySQLdb\n",
    "\n",
    "db = MySQLdb.connect(host=\"localhost\",    # your host, usually localhost\n",
    "                     user=\"root\",         # your username\n",
    "                     passwd=\"root\",  # your password\n",
    "                     db=\"pipa_db\")        # name of the data base\n",
    "\n",
    "cur = db.cursor()        # name of the data base\n",
    "\n",
    "cur = db.cursor()"
   ]
  },
  {
   "cell_type": "code",
   "execution_count": 3,
   "metadata": {
    "collapsed": false
   },
   "outputs": [],
   "source": [
    "# import article data from mysql db \n",
    "def import_data_articles(table_name):\n",
    "    #ds = pd.read_csv(data_source)\n",
    "    ds = cur.execute('select pmid, abstract from ' +table_name)\n",
    "    r = cur.fetchall()\n",
    "    return pd.DataFrame(list(r),columns=['PMID', 'abstract'])\n",
    "    "
   ]
  },
  {
   "cell_type": "code",
   "execution_count": 4,
   "metadata": {
    "collapsed": false
   },
   "outputs": [],
   "source": [
    "userId =1\n",
    "def import_user_articles(userId):\n",
    "    cur.execute('select pmid, title, abstract from user_articles where user_id=%d'% (userId))\n",
    "    r = cur.fetchall()\n",
    "    userdata= pd.DataFrame(list(r),columns=['PMID', 'title', 'abstract'])\n",
    "    userdata['abstract'] = userdata['title']+'        Abstract:'+userdata['abstract']\n",
    "    userpool = userdata[['PMID', 'abstract']]\n",
    "    return userpool\n"
   ]
  },
  {
   "cell_type": "code",
   "execution_count": 5,
   "metadata": {
    "collapsed": false
   },
   "outputs": [
    {
     "name": "stdout",
     "output_type": "stream",
     "text": [
      "        PMID                                           abstract\n",
      "0   28315600  Elucidation of microbial nitrogen-transformati...\n",
      "1   28315601  Quantitative characterization of enzyme adsorp...\n",
      "2   28315602  Synergistic effect on co-gasification reactivi...\n",
      "3   28315603  Dynamic membrane-assisted fermentation of food...\n",
      "4   28315604  Comparative study on pyrolysis of lignocellulo...\n",
      "5   28315605  Green synthesis of bacterial cellulose via ace...\n",
      "6   28315607  Correcting bias due to missing stage data in t...\n",
      "7   28315608  Brief report: Neighborhood disadvantage and ha...\n",
      "8   28315609  The levonorgestrel-releasing intrauterine devi...\n",
      "9   28315611  Added value of electromyography in the diagnos...\n",
      "10  28315612  Ultrasound assessment of peripheral nerve path...\n",
      "11  28315614  Repetitive transcranial magnetic stimulation f...\n",
      "12  28315615  MIR155 Regulation of Ubiquilin1 and Ubiquilin2...\n",
      "13  28315616  Counterfactual simulations applied to SHRP2 cr...\n",
      "14  28315617  Dietary fructose augments ethanol-induced live...\n",
      "15  28315618  Interaction of vasicine with calf thymus DNA: ...\n",
      "16  28315619  Proton conducting system (ImH2)2SeO4.2H2O inve...\n",
      "17  28315621  Scales for assessment of depression in schizop...\n",
      "18  28315622  Subclinical Atherosclerosis, Statin Eligibilit...\n"
     ]
    }
   ],
   "source": [
    "dailypool = import_data_articles('articles')\n",
    "print dailypool"
   ]
  },
  {
   "cell_type": "code",
   "execution_count": 6,
   "metadata": {
    "collapsed": false
   },
   "outputs": [],
   "source": [
    "# refactor the training logic into this function\n",
    "def train(userpool, dailypool, userId):\n",
    "    ds = pd.concat([userpool, dailypool])\n",
    "    ds.reset_index(drop=True, inplace=True)\n",
    "    \n",
    "    #clean up not ASCII chars\n",
    "    ds['abstract'] = ds[\"abstract\"].apply(lambda x: ''.join([\" \" if ord(i) < 32 or ord(i) > 126 else i for i in x]))\n",
    "    \n",
    "    tf = TfidfVectorizer(analyzer='word',\n",
    "                             ngram_range=(1, 3),\n",
    "                             min_df=0,\n",
    "                             stop_words='english')\n",
    "    tfidf_matrix = tf.fit_transform(ds['abstract'])\n",
    "    print tfidf_matrix.shape\n",
    "    print userpool.shape\n",
    "    cosine_similarities = linear_kernel(tfidf_matrix[:userpool.shape[0]], tfidf_matrix[userpool.shape[0]:])\n",
    "    similarities = pd.DataFrame(cosine_similarities)\n",
    "    \n",
    "    prediction_matrix = pd.DataFrame(data=userpool.PMID, columns=['PMID'], index=userpool.index)\n",
    "    similarity_scores = prediction_matrix.copy()\n",
    "    abstract_matrix = prediction_matrix.copy()\n",
    "    \n",
    "    top_n = 12\n",
    "    if (ds.shape[0] < top_n):\n",
    "        top_n = ds.shape[0] + 1\n",
    "\n",
    "    for i in range(1,top_n-1):\n",
    "        col_name = i\n",
    "        prediction_matrix[col_name] = None\n",
    "        similarity_scores[col_name] = -1\n",
    "        abstract_matrix[col_name] = None\n",
    "\n",
    "    now = datetime.datetime.now()\n",
    "    \n",
    "    for idx in range(userpool.shape[0]):\n",
    "        print \"idx: %s\" % idx\n",
    "        similar_indices = cosine_similarities[idx].argsort()[:-top_n:-1]\n",
    "        print \"similar indices: %s\" % similar_indices\n",
    "        similar_items = [[cosine_similarities[idx][i], ds['PMID'][i], ds['abstract'][i]]for i in similar_indices]\n",
    "        #print \"similar items: \\n %s\" % similar_items\n",
    "        for i in range(0,top_n-2): \n",
    "\n",
    "            prediction_matrix.ix[idx, i] = similar_items[i][1] # insert into db directly \n",
    "            similarity_scores.ix[idx, i] = similar_items[i][0] # insert into a db table with date\n",
    "            \n",
    "            print similar_items[i][0]\n",
    "            print similar_items[i][1]\n",
    "            print similar_items[i][2]\n",
    "            titleEnd = similar_items[i][2].index('        Abstract:')\n",
    "            print i\n",
    "            similar_items[i][2]= similar_items[i][2][:titleEnd]\n",
    "            \n",
    "            \n",
    "\n",
    "        query = 'insert into recommend_articles (\\\n",
    "        entry_date, user_id, source_pmid,\\\n",
    "        pmid_1, pmid_2, pmid_3, pmid_4, pmid_5, pmid_6, pmid_7, pmid_8, pmid_9,pmid_10, \\\n",
    "        score_1, score_2, score_3,score_4, score_5, score_6, score_7, score_8, score_9, score_10,\\\n",
    "       title_1, title_2, title_3, title_4, title_5, title_6, title_7, title_8, title_9, title_10 ) \\\n",
    "        values \\\n",
    "        (\"%s\", %d, %d,\\\n",
    "            %d, %d, %d, %d, %d,\\\n",
    "            %d, %d, %d, %d, %d,\\\n",
    "            %.6f,%.6f,%.6f,%.6f,%.6f,\\\n",
    "            %.6f,%.6f,%.6f,%.6f,%.6f,\\\n",
    "            \"%s\",\"%s\",\"%s\",\"%s\",\"%s\",\\\n",
    "            \"%s\",\"%s\",\"%s\",\"%s\",\"%s\")'%(now, userId,userpool.ix[idx,'PMID'],\\\n",
    "                                                         similar_items[0][1],similar_items[1][1],similar_items[2][1],\\\n",
    "                                                         similar_items[3][1],similar_items[4][1],similar_items[5][1],\\\n",
    "                                                         similar_items[6][1],similar_items[7][1],similar_items[8][1],\\\n",
    "                                                         similar_items[9][1],\\\n",
    "                                                         similar_items[0][0],similar_items[1][0],similar_items[2][0],\\\n",
    "                                                         similar_items[3][0],similar_items[4][0],similar_items[5][0],\\\n",
    "                                                         similar_items[6][0],similar_items[7][0],similar_items[8][0],\\\n",
    "                                                         similar_items[9][0],\\\n",
    "                                                         similar_items[0][2],similar_items[1][2],similar_items[2][2],\\\n",
    "                                                         similar_items[3][2],similar_items[4][2],similar_items[5][2],\\\n",
    "                                                         similar_items[6][2],similar_items[7][2],similar_items[8][2],\\\n",
    "                                                         similar_items[9][2])\n",
    "        print query\n",
    "        cur.execute(query)\n",
    "        db.commit()\n",
    "    return 1;"
   ]
  },
  {
   "cell_type": "code",
   "execution_count": 7,
   "metadata": {
    "collapsed": false
   },
   "outputs": [
    {
     "data": {
      "text/plain": [
       "[(2L,), (1L,)]"
      ]
     },
     "execution_count": 7,
     "metadata": {},
     "output_type": "execute_result"
    }
   ],
   "source": [
    "\n",
    "cur.execute('select user_id from user_articles')\n",
    "userIdlist = list(set(cur.fetchall()))\n",
    "userIdlist"
   ]
  },
  {
   "cell_type": "code",
   "execution_count": 8,
   "metadata": {
    "collapsed": false
   },
   "outputs": [
    {
     "name": "stdout",
     "output_type": "stream",
     "text": [
      "##################\n",
      "(20, 6214)\n",
      "(1, 2)\n",
      "idx: 0\n",
      "similar indices: [16  4  3 15  1  5  2  7 11  0 10]\n",
      "0.00182583503981\n",
      "28315618\n",
      "Interaction of vasicine with calf thymus DNA: Molecular docking, spectroscopic       and differential scanning calorimetric insights.        Abstract:The present study brings out the interaction between vasicine, an alkaloid and       Adhatoda vasica Nees with double stranded DNA. The physico-chemical interaction       between small molecules and nucleic acids is a major area of focus in screening       drugs against various cancers. Molecular probing in our study using Molecular       Operating Environment (MOE) has revealed interaction of vasicine with DNA double        helix. Here we report the interaction of vasicine with Calf thymus DNA. We       present for the first time the results obtained from UV-visible, fluorescence       spectroscopic and differential scanning calorimetric techniques that suggest a       moderate to strong electrostatic, hydrophobic and van der Waals interactions       mediating the DNA binding properties of vasicine, leading to disruption of DNA       secondary structure. CI  - Copyright (c) 2017 Elsevier B.V. All rights reserved.\n",
      "0\n",
      "0.00166489190808\n",
      "28315603\n",
      "Dynamic membrane-assisted fermentation of food wastes for enhancing lactic acid       production.        Abstract:A dynamic membrane (DM) module was inserted into a fermentation reactor to       separate soluble products from the fermented mixture to increase lactic acid (LA)       production from food wastes under acidogenic conditions (uncontrolled pH, pH 4       and 5). With a high total suspended solid content (20-40g/L) in the fermenter, a        stable DM could be maintained through regular backwashing. By effectively       intercepting suspended solids and lactic acid bacteria (LAB), the fermenter was       able to increase microbial activity and largely promote LA yield. Hydrolysis and        acidogenesis rates increased with pH, and the highest LA yield (as high as       0.57g/g-TS) was obtained at pH 4. The microbial community analysis showed that       the relative abundance of Lactobacillus increased to 96.4% at pH 4, but decreased       to 43.3% at pH 5. In addition, the DM could be easily recovered by intercepting       larger particles in less than 2h after each cycle of periodic backwashing. CI  - Copyright (c) 2017 Elsevier Ltd. All rights reserved.\n",
      "1\n",
      "0.0016000703668\n",
      "28315602\n",
      "Synergistic effect on co-gasification reactivity of biomass-petroleum coke       blended char.        Abstract:In this work, effects of gasification temperature (900 degrees C-1100 degrees C)        and blended ratio (3:1, 1:1, 1:3) on reactivity of petroleum coke and biomass       co-gasification were studied in TGA. Quantification analysis of active AAEM       transformation and in situ investigation of morphological structure variations in       gasification were conducted respectively using inductively coupled plasma optical       emission spectrometer and heating stage microscope to explore synergistic effect        on co-gasification reactivity. The results indicated that char gasification       reactivity was enhanced with increasing biomass proportion and gasification       temperature. Synergistic effect on co-gasification reactivity was presented after       complete generation of biomass ash, and gradually weakened with increasing       temperature from 1000 degrees C to 1100 degrees C after reaching the most       significant value at 1000 degrees C. This phenomenon was well related with the       appearance of molten biomass ash rich in glassy state potassium and the weakest       inhibition effect on active potassium transformation during co-gasification at       the temperature higher than 1000 degrees C. CI  - Copyright (c) 2017 Elsevier Ltd. All rights reserved.\n",
      "2\n",
      "0.00159159948838\n",
      "28315617\n",
      "Dietary fructose augments ethanol-induced liver pathology.        Abstract:Certain dietary components when combined with alcohol exacerbate alcohol-induced        liver injury (ALI). Here, we tested whether fructose, a major ingredient of the       western diet, enhances the severity of ALI. We fed mice ethanol for 8 weeks in       the following Lieber-DeCarli diets: (a) Regular (contains olive oil); (b) corn       oil (contains corn oil); (c) fructose (contains fructose and olive oil) and (d)       corn+fructose (contains fructose and corn oil). We compared indices of metabolic        function and liver pathology among the different groups. Mice fed fructose-free       and fructose-containing ethanol diets exhibited similar levels of blood alcohol,        blood glucose and signs of disrupted hepatic insulin signaling. However, only       mice given fructose-ethanol diets showed lower insulin levels than their       respective controls. Compared with their respective pair-fed controls, all       ethanol-fed mice exhibited elevated levels of serum ALT; the inflammatory       cytokines TNF-alpha, MCP-1 and MIP-2; hepatic lipid peroxides and triglycerides.        All the latter parameters were significantly higher in mice given       fructose-ethanol diets than those fed fructose-free ethanol diets. Mice given       fructose-free or fructose-containing ethanol diets each had higher levels of       hepatic lipogenic enzymes than controls. However, the level of the lipogenic       enzyme fatty acid synthase (FAS) was significantly higher in livers of mice given       fructose control and fructose-ethanol diets than in all other groups. Our       findings indicate that dietary fructose exacerbates ethanol-induced steatosis,       oxidant stress, inflammation and liver injury, irrespective of the dietary fat       source, to suggest that inclusion of fructose in or along with alcoholic       beverages increases the risk of more severe ALI in heavy drinkers. CI  - Copyright (c) 2017 Elsevier Inc. All rights reserved.\n",
      "3\n",
      "0.00148462956246\n",
      "28315600\n",
      "Elucidation of microbial nitrogen-transformation mechanisms in activated sludge       by comprehensive evaluation of nitrogen-transformation activity.        Abstract:Using prepared nitrifying sludge, anaerobic ammonia oxidization (anammox) sludge        and two heterotrophic ammonia oxidization bacterial (AOB) species as inocula,       this study elucidated the effect of oxygen conditions, assay media, and selective       metabolic inhibitors on various microbial nitrogen (N)-transformation activities        including aerobic chemolithotrophic ammonia and nitrite oxidization, aerobic       heterotrophic ammonia oxidization, anammox, and aerobic and anoxic       denitrification. The oxygen conditions and assay media effectively differentiated       among almost all ammonia removal pathways except for separating aerobic       chemolithotrophic ammonia oxidization from aerobic heterotrophic ammonia       oxidization. A final allylthiourea concentration of 10mg.L-1 was optimal for       accurate determination of aerobic heterotrophic ammonia oxidization activity in       the presence of aerobic chemolithotrophic AOB. Finally, this study developed a       simple and reliable method to individually determine and compare the       comprehensive N-transformation activity characteristics of several activated       sludge samples from different origins, and to elucidate the major microbial       N-transformation mechanisms for ammonia removal and N2 production. CI  - Copyright (c) 2017 Elsevier Ltd. All rights reserved.\n",
      "4\n",
      "0.00138325385812\n",
      "28315604\n",
      "Comparative study on pyrolysis of lignocellulosic and algal biomass using       pyrolysis-gas chromatography/mass spectrometry.        Abstract:The cornstalk and chlorella were selected as the representative of lignocelulosic       and algal biomass, and the pyrolysis experiments of them were carried out using       pyrolysis-gas chromatography/mass spectrometry (Py-GC/MS). The physicochemical       properties of samples and the pyrolytic product distribution were presented. And        then the compositional differences between the two kinds of pyrolytic products       were studied, the relevant pyrolysis mechanisms were analyzed systematically.       Pyrolytic vapor from lignocellulosic biomass contained more phenolic and carbonyl       compounds while that from algal biomass contained more long-chain fatty acids,       nitrogen-containing compounds and fewer carbonyl compounds. Maillard reaction is        conducive to the conversion of carbonyl compounds to nitrogenous heterocyclic       compounds with better thermal stability. CI  - Copyright (c) 2017 Elsevier Ltd. All rights reserved.\n",
      "5\n",
      "0.00133204850744\n",
      "28315601\n",
      "Quantitative characterization of enzyme adsorption and hydrolytic performance for       ultrafine grinding pretreated corn stover.        Abstract:Quantitative analysis of enzyme adsorption and hydrolysis were performed for       sieve-based grinding corn stover (SGCS) and ultrafine grinding corn stover       (UGCS)1 with different enzyme consumptions. The UGCS presented significantly       higher enzyme adsorption quantity (5.15mg/g for UGCS, 1.33mg/g for SGCS), higher        glucose yield (49.75% for UGCS, 28.75% for SGCS) under 20FPU/g and higher binding       enzyme proportion (41.32% for UGCS, 10.64% for SGCS under 5FPU/g) which can be       attributed to the more accessible microstructure properties. The relationship       between enzyme adsorption and hydrolytic production was directly proportional for       SGCS (GY1=21.04xAQ1+1.86 (R2=0.95)) while was exponential for UGCS       (GY2=49.42x(1-e-0.57xAQ2) (R2=0.99)),2 indicating that overmuch enzyme       consumption was not advisable for UGCS at economical aspect. CI  - Copyright (c) 2017 Elsevier Ltd. All rights reserved.\n",
      "6\n",
      "0.00131995471539\n",
      "28315607\n",
      "Correcting bias due to missing stage data in the non-parametric estimation of       stage-specific net survival for colorectal cancer using multiple imputation.        Abstract:BACKGROUND: Population-based net survival by tumour stage at diagnosis is a key       measure in cancer surveillance. Unfortunately, data on tumour stage are often       missing for a non-negligible proportion of patients and the mechanism giving rise       to the missingness is usually anything but completely at random. In this setting,       restricting analysis to the subset of complete records gives typically biased       results. Multiple imputation is a promising practical approach to the issues       raised by the missing data, but its use in conjunction with the Pohar-Perme       method for estimating net survival has not been formally evaluated. METHODS: We       performed a resampling study using colorectal cancer population-based registry       data to evaluate the ability of multiple imputation, used along with the       Pohar-Perme method, to deliver unbiased estimates of stage-specific net survival        and recover missing stage information. We created 1000 independent data sets,       each containing 5000 patients. Stage data were then made missing at random under        two scenarios (30% and 50% missingness). RESULTS: Complete records analysis       showed substantial bias and poor confidence interval coverage. Across both       scenarios our multiple imputation strategy virtually eliminated the bias and       greatly improved confidence interval coverage. CONCLUSIONS: In the presence of       missing stage data complete records analysis often gives severely biased results.       We showed that combining multiple imputation with the Pohar-Perme estimator       provides a valid practical approach for the estimation of stage-specific       colorectal cancer net survival. As usual, when the percentage of missing data is        high the results should be interpreted cautiously and sensitivity analyses are       recommended. CI  - Copyright (c) 2017 Elsevier Ltd. All rights reserved.\n",
      "7\n",
      "0.00126216243166\n",
      "28315612\n",
      "Ultrasound assessment of peripheral nerve pathology in neurofibromatosis type 1       and 2.        Abstract:OBJECTIVE: The neurofibromatoses (NF) type 1 and 2 are hereditary tumor       predisposition syndromes caused by germline mutations in the NF1 and NF2 tumor       suppressor genes. In NF1 and 2, peripheral nerve tumors occur regularly. For       further characterizing nerve ultrasound was performed in patients with NF1 and 2.       METHODS: Patients with established diagnosis of NF1 (n=27) and NF2 (n=10) were       included. Ultrasound of peripheral nerves and cervical roots was performed during       routine follow-up visits. Healthy volunteers were studied for comparison.       RESULTS: In patients with NF1, median cross-sectional area (CSA) of most nerves       was significantly increased compared to controls and to NF2 due to generalized       plexiform tumors, which arose out of multiple fascicles in 23 of 27 patients       (85%). These were often accompanied by cutaneous or subcutaneous neurofibromas.       In NF2, the overall aspect of peripheral nerves consisted of localized       schwannomas (80%) and, apart from that, normal nerve segments. CONCLUSION: Nerve        ultrasound is able to visualize different nerve pathologies in NF1 and NF2. It is       a precise and inexpensive screening method for peripheral nerve manifestation in        neurofibromatosis and should be considered as the first choice screening imaging        modality for all peripheral nerves within reach of non-invasive ultrasound       techniques. SIGNIFICANCE: Ultrasound patterns of peripheral nerve pathologies are       described for the first time in a large cohort of patients with NF1 and NF2. It       is a suitable screening tool and enables targeted MRI analysis. CI  - Copyright (c) 2017 International Federation of Clinical Neurophysiology.       Published by Elsevier B.V. All rights reserved.\n",
      "8\n",
      "0.00119146279985\n",
      "20001\n",
      "Title        Abstract:interesting articles\n",
      "9\n",
      "insert into recommend_articles (        entry_date, user_id, source_pmid,        pmid_1, pmid_2, pmid_3, pmid_4, pmid_5, pmid_6, pmid_7, pmid_8, pmid_9,pmid_10,         score_1, score_2, score_3,score_4, score_5, score_6, score_7, score_8, score_9, score_10,       title_1, title_2, title_3, title_4, title_5, title_6, title_7, title_8, title_9, title_10 )         values         (\"2017-03-18 22:39:04.645603\", 2, 20001,            28315618, 28315603, 28315602, 28315617, 28315600,            28315604, 28315601, 28315607, 28315612, 20001,            0.001826,0.001665,0.001600,0.001592,0.001485,            0.001383,0.001332,0.001320,0.001262,0.001191,            \"Interaction of vasicine with calf thymus DNA: Molecular docking, spectroscopic       and differential scanning calorimetric insights.\",\"Dynamic membrane-assisted fermentation of food wastes for enhancing lactic acid       production.\",\"Synergistic effect on co-gasification reactivity of biomass-petroleum coke       blended char.\",\"Dietary fructose augments ethanol-induced liver pathology.\",\"Elucidation of microbial nitrogen-transformation mechanisms in activated sludge       by comprehensive evaluation of nitrogen-transformation activity.\",            \"Comparative study on pyrolysis of lignocellulosic and algal biomass using       pyrolysis-gas chromatography/mass spectrometry.\",\"Quantitative characterization of enzyme adsorption and hydrolytic performance for       ultrafine grinding pretreated corn stover.\",\"Correcting bias due to missing stage data in the non-parametric estimation of       stage-specific net survival for colorectal cancer using multiple imputation.\",\"Ultrasound assessment of peripheral nerve pathology in neurofibromatosis type 1       and 2.\",\"Title\")\n",
      "##################\n",
      "(21, 6237)\n",
      "(2, 2)\n",
      "idx: 0\n",
      "similar indices: [ 6  2 16  4  3 15  1  5  7 11  0]\n",
      "0.0376134625802\n",
      "28315604\n",
      "Comparative study on pyrolysis of lignocellulosic and algal biomass using       pyrolysis-gas chromatography/mass spectrometry.        Abstract:The cornstalk and chlorella were selected as the representative of lignocelulosic       and algal biomass, and the pyrolysis experiments of them were carried out using       pyrolysis-gas chromatography/mass spectrometry (Py-GC/MS). The physicochemical       properties of samples and the pyrolytic product distribution were presented. And        then the compositional differences between the two kinds of pyrolytic products       were studied, the relevant pyrolysis mechanisms were analyzed systematically.       Pyrolytic vapor from lignocellulosic biomass contained more phenolic and carbonyl       compounds while that from algal biomass contained more long-chain fatty acids,       nitrogen-containing compounds and fewer carbonyl compounds. Maillard reaction is        conducive to the conversion of carbonyl compounds to nitrogenous heterocyclic       compounds with better thermal stability. CI  - Copyright (c) 2017 Elsevier Ltd. All rights reserved.\n",
      "0\n",
      "0.00604123557493\n",
      "28315600\n",
      "Elucidation of microbial nitrogen-transformation mechanisms in activated sludge       by comprehensive evaluation of nitrogen-transformation activity.        Abstract:Using prepared nitrifying sludge, anaerobic ammonia oxidization (anammox) sludge        and two heterotrophic ammonia oxidization bacterial (AOB) species as inocula,       this study elucidated the effect of oxygen conditions, assay media, and selective       metabolic inhibitors on various microbial nitrogen (N)-transformation activities        including aerobic chemolithotrophic ammonia and nitrite oxidization, aerobic       heterotrophic ammonia oxidization, anammox, and aerobic and anoxic       denitrification. The oxygen conditions and assay media effectively differentiated       among almost all ammonia removal pathways except for separating aerobic       chemolithotrophic ammonia oxidization from aerobic heterotrophic ammonia       oxidization. A final allylthiourea concentration of 10mg.L-1 was optimal for       accurate determination of aerobic heterotrophic ammonia oxidization activity in       the presence of aerobic chemolithotrophic AOB. Finally, this study developed a       simple and reliable method to individually determine and compare the       comprehensive N-transformation activity characteristics of several activated       sludge samples from different origins, and to elucidate the major microbial       N-transformation mechanisms for ammonia removal and N2 production. CI  - Copyright (c) 2017 Elsevier Ltd. All rights reserved.\n",
      "1\n",
      "0.000995839232155\n",
      "28315617\n",
      "Dietary fructose augments ethanol-induced liver pathology.        Abstract:Certain dietary components when combined with alcohol exacerbate alcohol-induced        liver injury (ALI). Here, we tested whether fructose, a major ingredient of the       western diet, enhances the severity of ALI. We fed mice ethanol for 8 weeks in       the following Lieber-DeCarli diets: (a) Regular (contains olive oil); (b) corn       oil (contains corn oil); (c) fructose (contains fructose and olive oil) and (d)       corn+fructose (contains fructose and corn oil). We compared indices of metabolic        function and liver pathology among the different groups. Mice fed fructose-free       and fructose-containing ethanol diets exhibited similar levels of blood alcohol,        blood glucose and signs of disrupted hepatic insulin signaling. However, only       mice given fructose-ethanol diets showed lower insulin levels than their       respective controls. Compared with their respective pair-fed controls, all       ethanol-fed mice exhibited elevated levels of serum ALT; the inflammatory       cytokines TNF-alpha, MCP-1 and MIP-2; hepatic lipid peroxides and triglycerides.        All the latter parameters were significantly higher in mice given       fructose-ethanol diets than those fed fructose-free ethanol diets. Mice given       fructose-free or fructose-containing ethanol diets each had higher levels of       hepatic lipogenic enzymes than controls. However, the level of the lipogenic       enzyme fatty acid synthase (FAS) was significantly higher in livers of mice given       fructose control and fructose-ethanol diets than in all other groups. Our       findings indicate that dietary fructose exacerbates ethanol-induced steatosis,       oxidant stress, inflammation and liver injury, irrespective of the dietary fat       source, to suggest that inclusion of fructose in or along with alcoholic       beverages increases the risk of more severe ALI in heavy drinkers. CI  - Copyright (c) 2017 Elsevier Inc. All rights reserved.\n",
      "2\n",
      "0.000907985306565\n",
      "28315602\n",
      "Synergistic effect on co-gasification reactivity of biomass-petroleum coke       blended char.        Abstract:In this work, effects of gasification temperature (900 degrees C-1100 degrees C)        and blended ratio (3:1, 1:1, 1:3) on reactivity of petroleum coke and biomass       co-gasification were studied in TGA. Quantification analysis of active AAEM       transformation and in situ investigation of morphological structure variations in       gasification were conducted respectively using inductively coupled plasma optical       emission spectrometer and heating stage microscope to explore synergistic effect        on co-gasification reactivity. The results indicated that char gasification       reactivity was enhanced with increasing biomass proportion and gasification       temperature. Synergistic effect on co-gasification reactivity was presented after       complete generation of biomass ash, and gradually weakened with increasing       temperature from 1000 degrees C to 1100 degrees C after reaching the most       significant value at 1000 degrees C. This phenomenon was well related with the       appearance of molten biomass ash rich in glassy state potassium and the weakest       inhibition effect on active potassium transformation during co-gasification at       the temperature higher than 1000 degrees C. CI  - Copyright (c) 2017 Elsevier Ltd. All rights reserved.\n",
      "3\n",
      "0.000872549981113\n",
      "28315601\n",
      "Quantitative characterization of enzyme adsorption and hydrolytic performance for       ultrafine grinding pretreated corn stover.        Abstract:Quantitative analysis of enzyme adsorption and hydrolysis were performed for       sieve-based grinding corn stover (SGCS) and ultrafine grinding corn stover       (UGCS)1 with different enzyme consumptions. The UGCS presented significantly       higher enzyme adsorption quantity (5.15mg/g for UGCS, 1.33mg/g for SGCS), higher        glucose yield (49.75% for UGCS, 28.75% for SGCS) under 20FPU/g and higher binding       enzyme proportion (41.32% for UGCS, 10.64% for SGCS under 5FPU/g) which can be       attributed to the more accessible microstructure properties. The relationship       between enzyme adsorption and hydrolytic production was directly proportional for       SGCS (GY1=21.04xAQ1+1.86 (R2=0.95)) while was exponential for UGCS       (GY2=49.42x(1-e-0.57xAQ2) (R2=0.99)),2 indicating that overmuch enzyme       consumption was not advisable for UGCS at economical aspect. CI  - Copyright (c) 2017 Elsevier Ltd. All rights reserved.\n",
      "4\n",
      "0.000868049234481\n",
      "28315616\n",
      "Counterfactual simulations applied to SHRP2 crashes: The effect of driver       behavior models on safety benefit estimations of intelligent safety systems.        Abstract:As the development and deployment of in-vehicle intelligent safety systems (ISS)        for crash avoidance and mitigation have rapidly increased in the last decades,       the need to evaluate their prospective safety benefits before introduction has       never been higher. Counterfactual simulations using relevant mathematical models        (for vehicle dynamics, sensors, the environment, ISS algorithms, and models of       driver behavior) have been identified as having high potential. However, although       most of these models are relatively mature, models of driver behavior in the       critical seconds before a crash are still relatively immature. There are also       large conceptual differences between different driver models. The objective of       this paper is, firstly, to demonstrate the importance of the choice of driver       model when counterfactual simulations are used to evaluate two ISS: Forward       collision warning (FCW), and autonomous emergency braking (AEB). Secondly, the       paper demonstrates how counterfactual simulations can be used to perform       sensitivity analyses on parameter settings, both for driver behavior and ISS       algorithms. Finally, the paper evaluates the effect of the choice of glance       distribution in the driver behavior model on the safety benefit estimation. The       paper uses pre-crash kinematics and driver behavior from 34 rear-end crashes from       the SHRP2 naturalistic driving study for the demonstrations. The results for FCW        show a large difference in the percent of avoided crashes between conceptually       different models of driver behavior, while differences were small for       conceptually similar models. As expected, the choice of model of driver behavior        did not affect AEB benefit much. Based on our results, researchers and others who       aim to evaluate ISS with the driver in the loop through counterfactual       simulations should be sure to make deliberate and well-grounded choices of driver       models: the choice of model matters. CI  - Copyright (c) 2017 Elsevier Ltd. All rights reserved.\n",
      "5\n",
      "0.000809532887258\n",
      "10008\n",
      "yeast        Abstract:This is a test Abstract\n",
      "6\n",
      "0.000754245427094\n",
      "28315603\n",
      "Dynamic membrane-assisted fermentation of food wastes for enhancing lactic acid       production.        Abstract:A dynamic membrane (DM) module was inserted into a fermentation reactor to       separate soluble products from the fermented mixture to increase lactic acid (LA)       production from food wastes under acidogenic conditions (uncontrolled pH, pH 4       and 5). With a high total suspended solid content (20-40g/L) in the fermenter, a        stable DM could be maintained through regular backwashing. By effectively       intercepting suspended solids and lactic acid bacteria (LAB), the fermenter was       able to increase microbial activity and largely promote LA yield. Hydrolysis and        acidogenesis rates increased with pH, and the highest LA yield (as high as       0.57g/g-TS) was obtained at pH 4. The microbial community analysis showed that       the relative abundance of Lactobacillus increased to 96.4% at pH 4, but decreased       to 43.3% at pH 5. In addition, the DM could be easily recovered by intercepting       larger particles in less than 2h after each cycle of periodic backwashing. CI  - Copyright (c) 2017 Elsevier Ltd. All rights reserved.\n",
      "7\n",
      "0.000719737206604\n",
      "28315605\n",
      "Green synthesis of bacterial cellulose via acetic acid pre-hydrolysis liquor of       agricultural corn stalk used as carbon source.        Abstract:Herein, bacterial cellulose (BC) was synthesized by acetobacter xylinum via       organic acid pre-hydrolysis liquor of agricultural corn stalk used as carbon       source. Acetic acid was applied to pretreat the corn stalk, then, the       prehydrolysate was detoxified by sequential steps of activated carbon and ion       exchange resin treatment prior to use as carbon source to cultivate acetobacter       xylinum. Moreover, the recovery of acetic acid was achieved for facilitating the        reduction of cost. The results revealed that the combination method of       detoxification treatment was very effective for synthesis of BC, yield could be       up to 2.86g/L. SEM analysis showed that the diameter size of BC between 20 and       70mm. In summary, the process that bacterial cellulose was biosynthesized via       prehydrolysate from agricultural corn stalk used as carbon source is feasible,       and the ability to recover organic acid make it economical, sustainable and       green, which fits well into the biorefinery concept. CI  - Copyright (c) 2017 Elsevier Ltd. All rights reserved.\n",
      "8\n",
      "0.000688180559006\n",
      "28315611\n",
      "Added value of electromyography in the diagnosis of myopathy: A consensus       exercise.        Abstract:OBJECTIVE: Currently, neurologists may primarily rely on blood biomarkers, muscle       biopsy, MRI, and genetics in the diagnostic work-up of suspected myopathy. Using        expert consensus as diagnostic reference standard, this study addressed the added       value of electrodiagnostic medicine (EDX) in diagnosis of myopathies. METHODS:       One hundred ninety-four EDX evaluations of patients with a peer-review consensus        diagnosis of myopathy were collected by seven European centres. Each patient was        given three different consensus diagnoses: (1) the EDX diagnosis solely based on        EDX results, (2) the pure clinical diagnosis based on all available information       except EDX results, and (3) the final diagnosis including EDX and all additional        information. The myopathies were grouped as muscular dystrophy (45), inflammatory       myopathy (46), other aetiology (36) or unknown aetiology (67). RESULTS: Higher       diagnostic probabilities for myopathy were seen in the final diagnosis compared       to the pure clinical diagnosis (p<0.001). Adding EDX information increased the       diagnostic probability of myopathy in 67 patients (34.4%). The greatest increase        was seen for myopathies of unknown aetiology. CONCLUSIONS: EDX has a major impact       in the diagnosis of myopathies of unknown aetiology. In genetically or biopsy       proven myopathies, EDX generally supports the diagnosis. SIGNIFICANCE: EDX is       still a useful tool in the diagnostic work-up of most patients with suspected       myopathy. CI  - Copyright (c) 2017 International Federation of Clinical Neurophysiology.       Published by Elsevier B.V. All rights reserved.\n",
      "9\n",
      "insert into recommend_articles (        entry_date, user_id, source_pmid,        pmid_1, pmid_2, pmid_3, pmid_4, pmid_5, pmid_6, pmid_7, pmid_8, pmid_9,pmid_10,         score_1, score_2, score_3,score_4, score_5, score_6, score_7, score_8, score_9, score_10,       title_1, title_2, title_3, title_4, title_5, title_6, title_7, title_8, title_9, title_10 )         values         (\"2017-03-18 22:39:04.697202\", 1, 10006,            28315604, 28315600, 28315617, 28315602, 28315601,            28315616, 10008, 28315603, 28315605, 28315611,            0.037613,0.006041,0.000996,0.000908,0.000873,            0.000868,0.000810,0.000754,0.000720,0.000688,            \"Comparative study on pyrolysis of lignocellulosic and algal biomass using       pyrolysis-gas chromatography/mass spectrometry.\",\"Elucidation of microbial nitrogen-transformation mechanisms in activated sludge       by comprehensive evaluation of nitrogen-transformation activity.\",\"Dietary fructose augments ethanol-induced liver pathology.\",\"Synergistic effect on co-gasification reactivity of biomass-petroleum coke       blended char.\",\"Quantitative characterization of enzyme adsorption and hydrolytic performance for       ultrafine grinding pretreated corn stover.\",            \"Counterfactual simulations applied to SHRP2 crashes: The effect of driver       behavior models on safety benefit estimations of intelligent safety systems.\",\"yeast\",\"Dynamic membrane-assisted fermentation of food wastes for enhancing lactic acid       production.\",\"Green synthesis of bacterial cellulose via acetic acid pre-hydrolysis liquor of       agricultural corn stalk used as carbon source.\",\"Added value of electromyography in the diagnosis of myopathy: A consensus       exercise.\")\n",
      "idx: 1\n",
      "similar indices: [ 8 16  4  3 15  1  5  2  7 11  0]\n",
      "0.0101996413546\n",
      "28315607\n",
      "Correcting bias due to missing stage data in the non-parametric estimation of       stage-specific net survival for colorectal cancer using multiple imputation.        Abstract:BACKGROUND: Population-based net survival by tumour stage at diagnosis is a key       measure in cancer surveillance. Unfortunately, data on tumour stage are often       missing for a non-negligible proportion of patients and the mechanism giving rise       to the missingness is usually anything but completely at random. In this setting,       restricting analysis to the subset of complete records gives typically biased       results. Multiple imputation is a promising practical approach to the issues       raised by the missing data, but its use in conjunction with the Pohar-Perme       method for estimating net survival has not been formally evaluated. METHODS: We       performed a resampling study using colorectal cancer population-based registry       data to evaluate the ability of multiple imputation, used along with the       Pohar-Perme method, to deliver unbiased estimates of stage-specific net survival        and recover missing stage information. We created 1000 independent data sets,       each containing 5000 patients. Stage data were then made missing at random under        two scenarios (30% and 50% missingness). RESULTS: Complete records analysis       showed substantial bias and poor confidence interval coverage. Across both       scenarios our multiple imputation strategy virtually eliminated the bias and       greatly improved confidence interval coverage. CONCLUSIONS: In the presence of       missing stage data complete records analysis often gives severely biased results.       We showed that combining multiple imputation with the Pohar-Perme estimator       provides a valid practical approach for the estimation of stage-specific       colorectal cancer net survival. As usual, when the percentage of missing data is        high the results should be interpreted cautiously and sensitivity analyses are       recommended. CI  - Copyright (c) 2017 Elsevier Ltd. All rights reserved.\n",
      "0\n",
      "0.00378490309505\n",
      "28315617\n",
      "Dietary fructose augments ethanol-induced liver pathology.        Abstract:Certain dietary components when combined with alcohol exacerbate alcohol-induced        liver injury (ALI). Here, we tested whether fructose, a major ingredient of the       western diet, enhances the severity of ALI. We fed mice ethanol for 8 weeks in       the following Lieber-DeCarli diets: (a) Regular (contains olive oil); (b) corn       oil (contains corn oil); (c) fructose (contains fructose and olive oil) and (d)       corn+fructose (contains fructose and corn oil). We compared indices of metabolic        function and liver pathology among the different groups. Mice fed fructose-free       and fructose-containing ethanol diets exhibited similar levels of blood alcohol,        blood glucose and signs of disrupted hepatic insulin signaling. However, only       mice given fructose-ethanol diets showed lower insulin levels than their       respective controls. Compared with their respective pair-fed controls, all       ethanol-fed mice exhibited elevated levels of serum ALT; the inflammatory       cytokines TNF-alpha, MCP-1 and MIP-2; hepatic lipid peroxides and triglycerides.        All the latter parameters were significantly higher in mice given       fructose-ethanol diets than those fed fructose-free ethanol diets. Mice given       fructose-free or fructose-containing ethanol diets each had higher levels of       hepatic lipogenic enzymes than controls. However, the level of the lipogenic       enzyme fatty acid synthase (FAS) was significantly higher in livers of mice given       fructose control and fructose-ethanol diets than in all other groups. Our       findings indicate that dietary fructose exacerbates ethanol-induced steatosis,       oxidant stress, inflammation and liver injury, irrespective of the dietary fat       source, to suggest that inclusion of fructose in or along with alcoholic       beverages increases the risk of more severe ALI in heavy drinkers. CI  - Copyright (c) 2017 Elsevier Inc. All rights reserved.\n",
      "1\n",
      "0.00345099518689\n",
      "28315602\n",
      "Synergistic effect on co-gasification reactivity of biomass-petroleum coke       blended char.        Abstract:In this work, effects of gasification temperature (900 degrees C-1100 degrees C)        and blended ratio (3:1, 1:1, 1:3) on reactivity of petroleum coke and biomass       co-gasification were studied in TGA. Quantification analysis of active AAEM       transformation and in situ investigation of morphological structure variations in       gasification were conducted respectively using inductively coupled plasma optical       emission spectrometer and heating stage microscope to explore synergistic effect        on co-gasification reactivity. The results indicated that char gasification       reactivity was enhanced with increasing biomass proportion and gasification       temperature. Synergistic effect on co-gasification reactivity was presented after       complete generation of biomass ash, and gradually weakened with increasing       temperature from 1000 degrees C to 1100 degrees C after reaching the most       significant value at 1000 degrees C. This phenomenon was well related with the       appearance of molten biomass ash rich in glassy state potassium and the weakest       inhibition effect on active potassium transformation during co-gasification at       the temperature higher than 1000 degrees C. CI  - Copyright (c) 2017 Elsevier Ltd. All rights reserved.\n",
      "2\n",
      "0.00331631554318\n",
      "28315601\n",
      "Quantitative characterization of enzyme adsorption and hydrolytic performance for       ultrafine grinding pretreated corn stover.        Abstract:Quantitative analysis of enzyme adsorption and hydrolysis were performed for       sieve-based grinding corn stover (SGCS) and ultrafine grinding corn stover       (UGCS)1 with different enzyme consumptions. The UGCS presented significantly       higher enzyme adsorption quantity (5.15mg/g for UGCS, 1.33mg/g for SGCS), higher        glucose yield (49.75% for UGCS, 28.75% for SGCS) under 20FPU/g and higher binding       enzyme proportion (41.32% for UGCS, 10.64% for SGCS under 5FPU/g) which can be       attributed to the more accessible microstructure properties. The relationship       between enzyme adsorption and hydrolytic production was directly proportional for       SGCS (GY1=21.04xAQ1+1.86 (R2=0.95)) while was exponential for UGCS       (GY2=49.42x(1-e-0.57xAQ2) (R2=0.99)),2 indicating that overmuch enzyme       consumption was not advisable for UGCS at economical aspect. CI  - Copyright (c) 2017 Elsevier Ltd. All rights reserved.\n",
      "3\n",
      "0.00329920947896\n",
      "28315616\n",
      "Counterfactual simulations applied to SHRP2 crashes: The effect of driver       behavior models on safety benefit estimations of intelligent safety systems.        Abstract:As the development and deployment of in-vehicle intelligent safety systems (ISS)        for crash avoidance and mitigation have rapidly increased in the last decades,       the need to evaluate their prospective safety benefits before introduction has       never been higher. Counterfactual simulations using relevant mathematical models        (for vehicle dynamics, sensors, the environment, ISS algorithms, and models of       driver behavior) have been identified as having high potential. However, although       most of these models are relatively mature, models of driver behavior in the       critical seconds before a crash are still relatively immature. There are also       large conceptual differences between different driver models. The objective of       this paper is, firstly, to demonstrate the importance of the choice of driver       model when counterfactual simulations are used to evaluate two ISS: Forward       collision warning (FCW), and autonomous emergency braking (AEB). Secondly, the       paper demonstrates how counterfactual simulations can be used to perform       sensitivity analyses on parameter settings, both for driver behavior and ISS       algorithms. Finally, the paper evaluates the effect of the choice of glance       distribution in the driver behavior model on the safety benefit estimation. The       paper uses pre-crash kinematics and driver behavior from 34 rear-end crashes from       the SHRP2 naturalistic driving study for the demonstrations. The results for FCW        show a large difference in the percent of avoided crashes between conceptually       different models of driver behavior, while differences were small for       conceptually similar models. As expected, the choice of model of driver behavior        did not affect AEB benefit much. Based on our results, researchers and others who       aim to evaluate ISS with the driver in the loop through counterfactual       simulations should be sure to make deliberate and well-grounded choices of driver       models: the choice of model matters. CI  - Copyright (c) 2017 Elsevier Ltd. All rights reserved.\n",
      "4\n",
      "0.00307680540352\n",
      "10008\n",
      "yeast        Abstract:This is a test Abstract\n",
      "5\n",
      "0.002866673414\n",
      "28315603\n",
      "Dynamic membrane-assisted fermentation of food wastes for enhancing lactic acid       production.        Abstract:A dynamic membrane (DM) module was inserted into a fermentation reactor to       separate soluble products from the fermented mixture to increase lactic acid (LA)       production from food wastes under acidogenic conditions (uncontrolled pH, pH 4       and 5). With a high total suspended solid content (20-40g/L) in the fermenter, a        stable DM could be maintained through regular backwashing. By effectively       intercepting suspended solids and lactic acid bacteria (LAB), the fermenter was       able to increase microbial activity and largely promote LA yield. Hydrolysis and        acidogenesis rates increased with pH, and the highest LA yield (as high as       0.57g/g-TS) was obtained at pH 4. The microbial community analysis showed that       the relative abundance of Lactobacillus increased to 96.4% at pH 4, but decreased       to 43.3% at pH 5. In addition, the DM could be easily recovered by intercepting       larger particles in less than 2h after each cycle of periodic backwashing. CI  - Copyright (c) 2017 Elsevier Ltd. All rights reserved.\n",
      "6\n",
      "0.00276117837133\n",
      "28315600\n",
      "Elucidation of microbial nitrogen-transformation mechanisms in activated sludge       by comprehensive evaluation of nitrogen-transformation activity.        Abstract:Using prepared nitrifying sludge, anaerobic ammonia oxidization (anammox) sludge        and two heterotrophic ammonia oxidization bacterial (AOB) species as inocula,       this study elucidated the effect of oxygen conditions, assay media, and selective       metabolic inhibitors on various microbial nitrogen (N)-transformation activities        including aerobic chemolithotrophic ammonia and nitrite oxidization, aerobic       heterotrophic ammonia oxidization, anammox, and aerobic and anoxic       denitrification. The oxygen conditions and assay media effectively differentiated       among almost all ammonia removal pathways except for separating aerobic       chemolithotrophic ammonia oxidization from aerobic heterotrophic ammonia       oxidization. A final allylthiourea concentration of 10mg.L-1 was optimal for       accurate determination of aerobic heterotrophic ammonia oxidization activity in       the presence of aerobic chemolithotrophic AOB. Finally, this study developed a       simple and reliable method to individually determine and compare the       comprehensive N-transformation activity characteristics of several activated       sludge samples from different origins, and to elucidate the major microbial       N-transformation mechanisms for ammonia removal and N2 production. CI  - Copyright (c) 2017 Elsevier Ltd. All rights reserved.\n",
      "7\n",
      "0.00273551743388\n",
      "28315605\n",
      "Green synthesis of bacterial cellulose via acetic acid pre-hydrolysis liquor of       agricultural corn stalk used as carbon source.        Abstract:Herein, bacterial cellulose (BC) was synthesized by acetobacter xylinum via       organic acid pre-hydrolysis liquor of agricultural corn stalk used as carbon       source. Acetic acid was applied to pretreat the corn stalk, then, the       prehydrolysate was detoxified by sequential steps of activated carbon and ion       exchange resin treatment prior to use as carbon source to cultivate acetobacter       xylinum. Moreover, the recovery of acetic acid was achieved for facilitating the        reduction of cost. The results revealed that the combination method of       detoxification treatment was very effective for synthesis of BC, yield could be       up to 2.86g/L. SEM analysis showed that the diameter size of BC between 20 and       70mm. In summary, the process that bacterial cellulose was biosynthesized via       prehydrolysate from agricultural corn stalk used as carbon source is feasible,       and the ability to recover organic acid make it economical, sustainable and       green, which fits well into the biorefinery concept. CI  - Copyright (c) 2017 Elsevier Ltd. All rights reserved.\n",
      "8\n",
      "0.00261557954701\n",
      "28315611\n",
      "Added value of electromyography in the diagnosis of myopathy: A consensus       exercise.        Abstract:OBJECTIVE: Currently, neurologists may primarily rely on blood biomarkers, muscle       biopsy, MRI, and genetics in the diagnostic work-up of suspected myopathy. Using        expert consensus as diagnostic reference standard, this study addressed the added       value of electrodiagnostic medicine (EDX) in diagnosis of myopathies. METHODS:       One hundred ninety-four EDX evaluations of patients with a peer-review consensus        diagnosis of myopathy were collected by seven European centres. Each patient was        given three different consensus diagnoses: (1) the EDX diagnosis solely based on        EDX results, (2) the pure clinical diagnosis based on all available information       except EDX results, and (3) the final diagnosis including EDX and all additional        information. The myopathies were grouped as muscular dystrophy (45), inflammatory       myopathy (46), other aetiology (36) or unknown aetiology (67). RESULTS: Higher       diagnostic probabilities for myopathy were seen in the final diagnosis compared       to the pure clinical diagnosis (p<0.001). Adding EDX information increased the       diagnostic probability of myopathy in 67 patients (34.4%). The greatest increase        was seen for myopathies of unknown aetiology. CONCLUSIONS: EDX has a major impact       in the diagnosis of myopathies of unknown aetiology. In genetically or biopsy       proven myopathies, EDX generally supports the diagnosis. SIGNIFICANCE: EDX is       still a useful tool in the diagnostic work-up of most patients with suspected       myopathy. CI  - Copyright (c) 2017 International Federation of Clinical Neurophysiology.       Published by Elsevier B.V. All rights reserved.\n",
      "9\n",
      "insert into recommend_articles (        entry_date, user_id, source_pmid,        pmid_1, pmid_2, pmid_3, pmid_4, pmid_5, pmid_6, pmid_7, pmid_8, pmid_9,pmid_10,         score_1, score_2, score_3,score_4, score_5, score_6, score_7, score_8, score_9, score_10,       title_1, title_2, title_3, title_4, title_5, title_6, title_7, title_8, title_9, title_10 )         values         (\"2017-03-18 22:39:04.697202\", 1, 10008,            28315607, 28315617, 28315602, 28315601, 28315616,            10008, 28315603, 28315600, 28315605, 28315611,            0.010200,0.003785,0.003451,0.003316,0.003299,            0.003077,0.002867,0.002761,0.002736,0.002616,            \"Correcting bias due to missing stage data in the non-parametric estimation of       stage-specific net survival for colorectal cancer using multiple imputation.\",\"Dietary fructose augments ethanol-induced liver pathology.\",\"Synergistic effect on co-gasification reactivity of biomass-petroleum coke       blended char.\",\"Quantitative characterization of enzyme adsorption and hydrolytic performance for       ultrafine grinding pretreated corn stover.\",\"Counterfactual simulations applied to SHRP2 crashes: The effect of driver       behavior models on safety benefit estimations of intelligent safety systems.\",            \"yeast\",\"Dynamic membrane-assisted fermentation of food wastes for enhancing lactic acid       production.\",\"Elucidation of microbial nitrogen-transformation mechanisms in activated sludge       by comprehensive evaluation of nitrogen-transformation activity.\",\"Green synthesis of bacterial cellulose via acetic acid pre-hydrolysis liquor of       agricultural corn stalk used as carbon source.\",\"Added value of electromyography in the diagnosis of myopathy: A consensus       exercise.\")\n",
      "Engine trained in 0.124012947083 seconds.\n"
     ]
    }
   ],
   "source": [
    "start = time.time()\n",
    "\n",
    "cur.execute('select user_id from user_articles')\n",
    "userIdlist = list(set(cur.fetchall()))\n",
    "for id in userIdlist:\n",
    "    userpool = import_user_articles(id[0])\n",
    "    print '##################'\n",
    "    train(userpool, dailypool, id[0])\n",
    "    \n",
    "print(\"Engine trained in %s seconds.\" % (time.time() - start))"
   ]
  },
  {
   "cell_type": "code",
   "execution_count": 9,
   "metadata": {
    "collapsed": true
   },
   "outputs": [],
   "source": [
    "db.close()"
   ]
  },
  {
   "cell_type": "code",
   "execution_count": null,
   "metadata": {
    "collapsed": true
   },
   "outputs": [],
   "source": []
  }
 ],
 "metadata": {
  "anaconda-cloud": {},
  "kernelspec": {
   "display_name": "Python 2.7",
   "language": "python",
   "name": "python2.7"
  },
  "language_info": {
   "codemirror_mode": {
    "name": "ipython",
    "version": 2
   },
   "file_extension": ".py",
   "mimetype": "text/x-python",
   "name": "python",
   "nbconvert_exporter": "python",
   "pygments_lexer": "ipython2",
   "version": "2.7.6"
  }
 },
 "nbformat": 4,
 "nbformat_minor": 1
}
