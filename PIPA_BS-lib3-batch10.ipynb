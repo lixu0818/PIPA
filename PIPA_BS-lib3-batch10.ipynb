{
 "cells": [
  {
   "cell_type": "code",
   "execution_count": 14,
   "metadata": {
    "collapsed": true
   },
   "outputs": [],
   "source": [
    "import urllib3\n",
    "from bs4 import BeautifulSoup\n",
    "import requests\n",
    "import certifi\n",
    "import time\n",
    "import datetime"
   ]
  },
  {
   "cell_type": "code",
   "execution_count": 15,
   "metadata": {
    "collapsed": true
   },
   "outputs": [],
   "source": [
    "#!/usr/bin/python\n",
    "import MySQLdb\n",
    "\n",
    "db = MySQLdb.connect(host=\"localhost\",    # your host, usually localhost\n",
    "                     user=\"root\",         # your username\n",
    "                     #passwd=\"xpx\",  # your password\n",
    "                     db=\"xudatabase\")        # name of the data base\n",
    "\n",
    "cur = db.cursor()"
   ]
  },
  {
   "cell_type": "code",
   "execution_count": 16,
   "metadata": {
    "collapsed": false
   },
   "outputs": [],
   "source": [
    "dailyMax = 1000\n",
    "batchNum = 20\n",
    "sleeptimeforPubmed =5\n",
    "backstep =20\n",
    "\n",
    "cur.execute('select pmid from last_pmid')\n",
    "endingPMID = max(cur.fetchall())\n",
    "startingPMID=endingPMID[0] -backstep #\n",
    "\n"
   ]
  },
  {
   "cell_type": "code",
   "execution_count": 17,
   "metadata": {
    "collapsed": false
   },
   "outputs": [
    {
     "data": {
      "text/plain": [
       "0L"
      ]
     },
     "execution_count": 17,
     "metadata": {},
     "output_type": "execute_result"
    }
   ],
   "source": [
    "cur.execute('truncate articles')\n",
    "# erase data or re-create articles table"
   ]
  },
  {
   "cell_type": "code",
   "execution_count": 11,
   "metadata": {
    "collapsed": false,
    "scrolled": true
   },
   "outputs": [
    {
     "name": "stdout",
     "output_type": "stream",
     "text": [
      "28286300\n",
      "28286310\n",
      "28286320\n",
      "28286330\n",
      "28286340\n",
      "28286350\n",
      "28286360\n",
      "28286370\n",
      "28286390\n",
      "28286400\n",
      "28286410\n",
      "28286420\n",
      "28286440\n",
      "28286450\n",
      "28286460\n",
      "28286470\n",
      "28286480\n",
      "28286490\n",
      "28286500\n",
      "28286510\n",
      "28286520\n",
      "28286530\n",
      "28286540\n",
      "28286550\n",
      "28286560\n",
      "28286570\n",
      "28286580\n",
      "28286600\n",
      "28286610\n",
      "28286620\n",
      "28286630\n",
      "28286640\n",
      "28286650\n",
      "28286660\n",
      "28286670\n",
      "28286680\n",
      "28286690\n",
      "28286700\n",
      "28286710\n",
      "28286720\n",
      "28286730\n",
      "28286740\n",
      "28286750\n",
      "28286760\n",
      "28286770\n",
      "28286780\n",
      "28286790\n",
      "28286800\n",
      "28286810\n",
      "28286820\n",
      "28286830\n",
      "28286840\n",
      "28286850\n",
      "28286860\n",
      "28286870\n",
      "28286880\n",
      "28286890\n",
      "28286900\n",
      "28286910\n",
      "28286930\n",
      "28286940\n",
      "28286950\n",
      "28286960\n",
      "28286970\n",
      "28286980\n",
      "28286990\n",
      "28287000\n",
      "28287010\n",
      "28287020\n",
      "28287030\n",
      "28287050\n",
      "28287060\n",
      "28287070\n",
      "28287080\n",
      "28287100\n",
      "28287120\n",
      "28287130\n",
      "28287140\n",
      "28287150\n",
      "28287160\n",
      "28287170\n",
      "28287180\n",
      "28287190\n",
      "28287210\n",
      "28287220\n",
      "28287230\n",
      "28287240\n",
      "28287250\n",
      "28287260\n",
      "28287270\n",
      "28287280\n",
      "28287290\n",
      "CPU times: user 1.2 s, sys: 130 ms, total: 1.33 s\n",
      "Wall time: 37.9 s\n"
     ]
    }
   ],
   "source": [
    "%%time\n",
    "for i in range (startingPMID, startingPMID+dailyMax, batchNum):\n",
    "    PMIDs = \"\"\n",
    "    \n",
    "    for j in range (batchNum):\n",
    "        PMIDs = PMIDs + str(i + j ) +\",\"\n",
    "        \n",
    "    url = \"https://www.ncbi.nlm.nih.gov/pubmed/\"+ PMIDs +\"?report=medline&format=text\" \n",
    "    \n",
    "    #time.sleep(sleeptimeforPubmed)\n",
    "    http = urllib3.PoolManager(cert_reqs='CERT_REQUIRED',ca_certs=certifi.where())\n",
    "    r = http.request('GET', url)\n",
    "    soup = BeautifulSoup(r.data, \"lxml\")\n",
    "       \n",
    "    allInfo = unicode(soup.pre.string)\n",
    "    \n",
    "    if allInfo.find('PMID- ')<0:\n",
    "        print url\n",
    "        print 'bad end'        \n",
    "        break\n",
    "    \n",
    "    while allInfo.find('AB  -')>0:\n",
    "        IdIndexStart = allInfo.index('PMID- ')+6\n",
    "        IdIndexEnd = allInfo.index('\\n', IdIndexStart)\n",
    "        PMID = allInfo[IdIndexStart:IdIndexEnd]\n",
    "    \n",
    "        abIndexStart = allInfo.index('AB  -')+6\n",
    "        abIndexEnd = allInfo.index('\\n', abIndexStart)\n",
    "        ab = allInfo[abIndexStart:abIndexEnd]\n",
    "    \n",
    "        query = \"insert into articles values (\"+ PMID +\", '\"+ ab + \"')\"\n",
    "        endingPMID = int(PMID)\n",
    "        if (endingPMID%10==0):\n",
    "            print endingPMID\n",
    "\n",
    "#         try:\n",
    "#             cur.execute(query)\n",
    "#             db.commit()\n",
    "\n",
    "#         except:\n",
    "#             db.rollback()\n",
    "           \n",
    "        allInfo = allInfo[abIndexEnd:]\n",
    "        \n",
    "now = datetime.datetime.now()       \n",
    "query = 'insert into last_pmid values (\"%s\", %d)'%(now, endingPMID)\n",
    "cur.execute(query)\n",
    "db.commit()\n",
    "# write endingPMID to db\n",
    "db.close()    \n",
    "    "
   ]
  },
  {
   "cell_type": "code",
   "execution_count": null,
   "metadata": {
    "collapsed": true
   },
   "outputs": [],
   "source": []
  }
 ],
 "metadata": {
  "anaconda-cloud": {},
  "kernelspec": {
   "display_name": "Python [conda root]",
   "language": "python",
   "name": "conda-root-py"
  },
  "language_info": {
   "codemirror_mode": {
    "name": "ipython",
    "version": 2
   },
   "file_extension": ".py",
   "mimetype": "text/x-python",
   "name": "python",
   "nbconvert_exporter": "python",
   "pygments_lexer": "ipython2",
   "version": "2.7.12"
  }
 },
 "nbformat": 4,
 "nbformat_minor": 1
}
