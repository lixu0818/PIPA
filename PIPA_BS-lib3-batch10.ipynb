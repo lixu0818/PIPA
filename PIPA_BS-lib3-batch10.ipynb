{
 "cells": [
  {
   "cell_type": "code",
   "execution_count": 2,
   "metadata": {
    "collapsed": true
   },
   "outputs": [],
   "source": [
    "import urllib3\n",
    "from bs4 import BeautifulSoup\n",
    "import requests\n",
    "import certifi"
   ]
  },
  {
   "cell_type": "code",
   "execution_count": 3,
   "metadata": {
    "collapsed": true
   },
   "outputs": [],
   "source": [
    "#!/usr/bin/python\n",
    "import MySQLdb\n",
    "\n",
    "db = MySQLdb.connect(host=\"localhost\",    # your host, usually localhost\n",
    "                     user=\"root\",         # your username\n",
    "                     #passwd=\"xpx\",  # your password\n",
    "                     db=\"xudatabase\")        # name of the data base\n",
    "\n",
    "cur = db.cursor()"
   ]
  },
  {
   "cell_type": "code",
   "execution_count": 12,
   "metadata": {
    "collapsed": false
   },
   "outputs": [],
   "source": [
    "dailyMax = 25\n",
    "batchNum =10\n",
    "\n",
    "startingPMID=27694200 #get from database and passed in as parameter\n",
    "endingPMID = startingPMID"
   ]
  },
  {
   "cell_type": "code",
   "execution_count": 19,
   "metadata": {
    "collapsed": false
   },
   "outputs": [
    {
     "name": "stdout",
     "output_type": "stream",
     "text": [
      "https://www.ncbi.nlm.nih.gov/pubmed/55388400,55388401,55388402,55388403,55388404,55388405,55388406,55388407,55388408,55388409,?report=medline&format=text\n",
      "https://www.ncbi.nlm.nih.gov/pubmed/55388410,55388411,55388412,55388413,55388414,55388415,55388416,55388417,55388418,55388419,?report=medline&format=text\n",
      "https://www.ncbi.nlm.nih.gov/pubmed/55388420,55388421,55388422,55388423,55388424,55388425,55388426,55388427,55388428,55388429,?report=medline&format=text\n"
     ]
    }
   ],
   "source": [
    "for i in range (startingPMID, startingPMID+dailyMax, batchNum):\n",
    "    PMIDs = \"\"\n",
    "    for j in range (batchNum):\n",
    "        PMIDs = PMIDs + str(startingPMID + i + j ) +\",\"\n",
    "        \n",
    "    url = \"https://www.ncbi.nlm.nih.gov/pubmed/\"+ PMIDs +\"?report=medline&format=text\" \n",
    "    print url\n",
    "    \n",
    "    "
   ]
  },
  {
   "cell_type": "code",
   "execution_count": 15,
   "metadata": {
    "collapsed": false
   },
   "outputs": [
    {
     "name": "stdout",
     "output_type": "stream",
     "text": [
      "27694200\n",
      "27694201\n",
      "CPU times: user 31.3 ms, sys: 3.55 ms, total: 34.9 ms\n",
      "Wall time: 1.73 s\n"
     ]
    }
   ],
   "source": [
    "%%time\n",
    "for i in range (startingPMID, startingPMID+dailyMax, batchNum):\n",
    "    PMIDs = \"\"\n",
    "    for j in range (batchNum):\n",
    "        PMIDs += str(startingPMID + j ) \n",
    "        \n",
    "    url = \"https://www.ncbi.nlm.nih.gov/pubmed/\"+ PMIDs +\"?report=medline&format=text\" \n",
    "    \n",
    "    \n",
    "    http = urllib3.PoolManager(cert_reqs='CERT_REQUIRED',ca_certs=certifi.where())\n",
    "    r = http.request('GET', url)\n",
    "    soup = BeautifulSoup(r.data, \"lxml\")\n",
    "       \n",
    "    allInfo = unicode(soup.pre.string)\n",
    "    errorNum =0\n",
    "    \n",
    "    if allInfo.find('Error occurred: The following PMID is not available')>0:\n",
    "        print 'error'\n",
    "        errorNum +=1\n",
    "        if errorNum>10:\n",
    "            break\n",
    "            \n",
    "    if allInfo.find('AB  -')<0:\n",
    "        print 'no Abstract'\n",
    "        continue\n",
    "\n",
    "    IdIndexStart = allInfo.index('PMID')+6\n",
    "    IdIndexEnd = allInfo.index('\\n', IdIndexStart)\n",
    "    PMID = allInfo[IdIndexStart:IdIndexEnd]\n",
    "    \n",
    "    abIndexStart = allInfo.index('AB  -')+6\n",
    "    abIndexEnd = allInfo.index('\\n', abIndexStart)\n",
    "    ab = allInfo[abIndexStart:abIndexEnd]\n",
    "    \n",
    "    query = \"insert into articles values (\"+ PMID +\", '\"+ ab + \"')\"\n",
    "\n",
    "    try:\n",
    "        cur.execute(query)\n",
    "        db.commit()\n",
    "\n",
    "    except:\n",
    "        db.rollback()\n",
    "    \n",
    "    \n",
    "    endingPMID = PMID    \n",
    "    print endingPMID\n",
    "    "
   ]
  },
  {
   "cell_type": "code",
   "execution_count": 15,
   "metadata": {
    "collapsed": false
   },
   "outputs": [],
   "source": [
    "# print all the first cell of all the rows\n",
    "# for row in cur.fetchall():\n",
    "#     print row\n",
    "db.close()"
   ]
  },
  {
   "cell_type": "code",
   "execution_count": null,
   "metadata": {
    "collapsed": false
   },
   "outputs": [],
   "source": []
  },
  {
   "cell_type": "code",
   "execution_count": null,
   "metadata": {
    "collapsed": true
   },
   "outputs": [],
   "source": []
  },
  {
   "cell_type": "code",
   "execution_count": null,
   "metadata": {
    "collapsed": true
   },
   "outputs": [],
   "source": []
  }
 ],
 "metadata": {
  "anaconda-cloud": {},
  "kernelspec": {
   "display_name": "Python [conda root]",
   "language": "python",
   "name": "conda-root-py"
  },
  "language_info": {
   "codemirror_mode": {
    "name": "ipython",
    "version": 2
   },
   "file_extension": ".py",
   "mimetype": "text/x-python",
   "name": "python",
   "nbconvert_exporter": "python",
   "pygments_lexer": "ipython2",
   "version": "2.7.12"
  }
 },
 "nbformat": 4,
 "nbformat_minor": 1
}
