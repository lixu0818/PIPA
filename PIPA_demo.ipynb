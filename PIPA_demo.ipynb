{
 "cells": [
  {
   "cell_type": "code",
   "execution_count": 1,
   "metadata": {
    "collapsed": false
   },
   "outputs": [],
   "source": [
    "import certifi\n",
    "import time\n",
    "import datetime\n",
    "import requests\n",
    "import pandas as pd\n",
    "import urllib3\n",
    "import MySQLdb\n",
    "from bs4 import BeautifulSoup\n",
    "from sklearn.feature_extraction.text import TfidfVectorizer\n",
    "from sklearn.metrics.pairwise import linear_kernel\n",
    "import matplotlib.pyplot as plt"
   ]
  },
  {
   "cell_type": "code",
   "execution_count": 2,
   "metadata": {
    "collapsed": false
   },
   "outputs": [],
   "source": [
    "# set up db connection\n",
    "db = MySQLdb.connect(host=\"localhost\",    \n",
    "                     user=\"root\",        \n",
    "                     passwd=\"root\",  \n",
    "                     db=\"pipa_db\")\n",
    "cur = db.cursor()"
   ]
  },
  {
   "cell_type": "markdown",
   "metadata": {},
   "source": [
    "## 1. Extract and parse data from PubMed using a crawler"
   ]
  },
  {
   "cell_type": "code",
   "execution_count": 3,
   "metadata": {
    "collapsed": false
   },
   "outputs": [
    {
     "name": "stdout",
     "output_type": "stream",
     "text": [
      "Starting PMID is 28316328\n"
     ]
    }
   ],
   "source": [
    "# set up extraction variables\n",
    "dailyMax = 200\n",
    "batchNum = 20\n",
    "sleeptimeforPubmed = 5\n",
    "backstep = 20\n",
    "\n",
    "cur.execute('select pmid from articles order by pmid desc')\n",
    "rows = cur.fetchall()\n",
    "startingPMID = rows[backstep][0]\n",
    "endingPMID = rows[0][0]\n",
    "\n",
    "# for testing\n",
    "# startingPMID = 28315832\n",
    "\n",
    "print \"Starting PMID is %d\" % startingPMID"
   ]
  },
  {
   "cell_type": "code",
   "execution_count": 4,
   "metadata": {
    "collapsed": false
   },
   "outputs": [
    {
     "name": "stdout",
     "output_type": "stream",
     "text": [
      "Start extracting ...\n",
      "28316330 extracted\n",
      "28316340 extracted\n",
      "28316350 extracted\n",
      "28316360 extracted\n",
      "28316370 extracted\n",
      "28316380 extracted\n",
      "28316390 extracted\n",
      "28316400 extracted\n",
      "28316410 extracted\n",
      "28316420 extracted\n",
      "28316430 extracted\n",
      "28316440 extracted\n",
      "28316460 extracted\n",
      "28316470 extracted\n",
      "28316480 extracted\n",
      "28316490 extracted\n",
      "28316500 extracted\n",
      "28316510 extracted\n",
      "28316520 extracted\n",
      "Extraction and loading completed: PMID 28316328 ~ 28316527\n"
     ]
    }
   ],
   "source": [
    "# Main extraction loop\n",
    "cur.execute('truncate table articles')\n",
    "print \"Start extracting ...\"\n",
    "for i in range (startingPMID, startingPMID + dailyMax, batchNum):\n",
    "\n",
    "    \n",
    "    # Build extraction url\n",
    "    PMIDs = \"\"\n",
    "    for j in range (batchNum):\n",
    "        PMIDs = PMIDs + str(i + j ) +\",\"\n",
    "    url = \"https://www.ncbi.nlm.nih.gov/pubmed/\"+ PMIDs +\"?report=medline&format=text\"\n",
    "    \n",
    "    # Extract data and clean up non-unicode\n",
    "    time.sleep(sleeptimeforPubmed) # sleep 5 sec between extraction batches\n",
    "    http = urllib3.PoolManager(cert_reqs='CERT_REQUIRED', ca_certs=certifi.where())\n",
    "    r = http.request('GET', url)\n",
    "    soup = BeautifulSoup(r.data, \"lxml\")\n",
    "    allInfo = unicode(soup.pre.string)\n",
    "\n",
    "    # Parse data to fetch PMID, Title, Abstract (data are messy -- wrapped with try-except)\n",
    "    if allInfo.find('PMID- ') < 0:\n",
    "        print url\n",
    "        print 'No new data found.'\n",
    "        break\n",
    "    \n",
    "    contentOffset = 6\n",
    "    while (allInfo.find('AB  -') > 0 and allInfo.find('TI  -') > 0):\n",
    "        IdIndexStart = allInfo.index('PMID- ') + contentOffset\n",
    "        IdIndexEnd = allInfo.index('\\n', IdIndexStart)\n",
    "        PMID = allInfo[IdIndexStart:IdIndexEnd]\n",
    "\n",
    "        try:\n",
    "            tiIndexStart = allInfo.index('TI  -') + contentOffset\n",
    "            if allInfo.find('PG  -', tiIndexStart) > 0:\n",
    "                tiIndexEnd = allInfo.index('PG  -', tiIndexStart) - 1\n",
    "            elif allInfo.find('LID -', tiIndexStart) > 0:\n",
    "                tiIndexEnd = allInfo.index('LID -', tiIndexStart) - 1\n",
    "            else:\n",
    "                tiIndexEnd = allInfo.index('AB  -', tiIndexStart) - 1\n",
    "            ti = allInfo[tiIndexStart:tiIndexEnd]\n",
    "        except:\n",
    "            ti =\"\"\n",
    "\n",
    "        abIndexStart = allInfo.index('AB  -') + contentOffset\n",
    "        try:\n",
    "            abIndexEnd = allInfo.index('FAU -', abIndexStart) - 1\n",
    "        except:\n",
    "            abIndexEnd = abIndexStart + 1000\n",
    "        ab = ti + \"        Abstract:\" + allInfo[abIndexStart:abIndexEnd]\n",
    "        \n",
    "        # load data into the Articles table in MySQL db\n",
    "        insert_articles_sql = \"insert into articles (pmid, abstract) values (\"+ PMID +\", '\"+ ab + \"')\"\n",
    "        try:\n",
    "            cur.execute(insert_articles_sql)\n",
    "            db.commit()\n",
    "        except:\n",
    "            db.rollback()\n",
    "        \n",
    "        endingPMID = int(PMID)\n",
    "        if (endingPMID % 10 == 0):\n",
    "            print \"%d extracted\" % endingPMID\n",
    "        allInfo = allInfo[abIndexEnd:]\n",
    "    \n",
    "now = datetime.datetime.now()\n",
    "insert_last_pmid_sql = 'insert into last_pmid (record_date, pmid) values (\"%s\", %d)' % (now, endingPMID)\n",
    "try:\n",
    "    cur.execute(insert_last_pmid_sql)\n",
    "    db.commit()\n",
    "except:\n",
    "    db.rollback()\n",
    "    \n",
    "print \"Extraction and loading completed: PMID %d ~ %d\" % (startingPMID, endingPMID) "
   ]
  },
  {
   "cell_type": "markdown",
   "metadata": {},
   "source": [
    "## 2. Train the recommendation engine"
   ]
  },
  {
   "cell_type": "code",
   "execution_count": 6,
   "metadata": {
    "collapsed": true
   },
   "outputs": [],
   "source": [
    "def import_data_articles(table_name, cur):\n",
    "    \"\"\"\n",
    "    Import article data from a table in MySQL db and load them into a pandas Dataframe.\n",
    "    \n",
    "    :type table_name: str\n",
    "    :type cur: db cursor\n",
    "    :rtype: pandas DataFrame\n",
    "    \"\"\"\n",
    "    #ds = pd.read_csv(data_source)\n",
    "    ds = cur.execute('select pmid, abstract from ' + table_name)\n",
    "    r = cur.fetchall()\n",
    "    return pd.DataFrame(list(r),columns=['PMID', 'abstract'])"
   ]
  },
  {
   "cell_type": "code",
   "execution_count": 7,
   "metadata": {
    "collapsed": true
   },
   "outputs": [],
   "source": [
    "def import_user_articles(userId, cur):\n",
    "    \"\"\"\n",
    "    Import a user's articles given id and load them into a pandas Dataframe.\n",
    "    \n",
    "    :type table_name: str\n",
    "    :type cur: db cursor\n",
    "    :rtype: pandas DataFrame\n",
    "    \"\"\"\n",
    "    \n",
    "    cur.execute('select pmid, title, abstract from user_articles where user_id=%d'% (userId))\n",
    "    r = cur.fetchall()\n",
    "    userdata= pd.DataFrame(list(r),columns=['PMID', 'title', 'abstract'])\n",
    "    userdata['abstract'] = userdata['title']+'        Abstract:'+userdata['abstract']\n",
    "    userpool = userdata[['PMID', 'abstract']]\n",
    "    return userpool"
   ]
  },
  {
   "cell_type": "code",
   "execution_count": 8,
   "metadata": {
    "collapsed": true
   },
   "outputs": [],
   "source": [
    "def import_recommend_articles(table_name, cur):\n",
    "    \"\"\"\n",
    "    Import recommend articles from a table in MySQL db and load them into a pandas Dataframe.\n",
    "    \n",
    "    :type table_name: str\n",
    "    :type cur: db cursor\n",
    "    :rtype: pandas DataFrame\n",
    "    \"\"\"\n",
    "    \n",
    "    ds = cur.execute('select source_pmid, title_1, title_2, title_3, title_4, title_5, \\\n",
    "    score_1, score_2, score_3, score_4, score_5 from %s where date(entry_date) = curdate()' % table_name)\n",
    "    r = cur.fetchall()\n",
    "    colnames = ['Source_PMID', 'title_1', 'title_2', 'title_3', 'title_4', 'title_5', \\\n",
    "                'score_1', 'score_2', 'score_3', 'score_4', 'score_5']\n",
    "    \n",
    "    return pd.DataFrame(list(r),columns=colnames)"
   ]
  },
  {
   "cell_type": "code",
   "execution_count": 9,
   "metadata": {
    "collapsed": false
   },
   "outputs": [],
   "source": [
    "def train(userpool, dailypool, userId, cur, db):\n",
    "    \"\"\"\n",
    "    Find the top 10 similar articles for each entry in the user's list and write into database\n",
    "    :type userpool: pandas DataFrame\n",
    "    :type dailypool: pandas DataFrame\n",
    "    :type userId: int\n",
    "    :type cur: db cursor\n",
    "    :type db: MySQL db\n",
    "    :rtype: void\n",
    "    \"\"\"\n",
    "    \n",
    "    ds = pd.concat([userpool, dailypool])\n",
    "    ds.reset_index(drop=True, inplace=True)\n",
    "\n",
    "    # clean up not ASCII chars\n",
    "    ds['abstract'] = ds[\"abstract\"].apply(lambda x: ''.join([\" \" if ord(i) < 32 or ord(i) > 126 else i for i in x]))\n",
    "\n",
    "    # calculate term frequency\n",
    "    tf = TfidfVectorizer(analyzer='word',\n",
    "                         ngram_range=(1, 3),\n",
    "                         min_df=0,\n",
    "                         stop_words='english')\n",
    "    tfidf_matrix = tf.fit_transform(ds['abstract'])\n",
    "\n",
    "    # calculate similarity of papers(from users and pools) based on term frequency matrix\n",
    "    cosine_similarities = linear_kernel(tfidf_matrix[:userpool.shape[0]], tfidf_matrix[userpool.shape[0]:])\n",
    "    similarities = pd.DataFrame(cosine_similarities)\n",
    "\n",
    "    prediction_matrix = pd.DataFrame(data=userpool.PMID, columns=['PMID'], index=userpool.index)\n",
    "    similarity_scores = prediction_matrix.copy()\n",
    "    abstract_matrix = prediction_matrix.copy()\n",
    "\n",
    "    top_n = 12\n",
    "    if (ds.shape[0] < top_n):\n",
    "        top_n = ds.shape[0] + 1\n",
    "\n",
    "    for i in range(1,top_n-1):\n",
    "        col_name = i\n",
    "        prediction_matrix[col_name] = None\n",
    "        similarity_scores[col_name] = -1\n",
    "        abstract_matrix[col_name] = None\n",
    "\n",
    "    now = datetime.datetime.now()\n",
    "\n",
    "    for idx in range(userpool.shape[0]):\n",
    "        \n",
    "        # sort papers by their similarity score\n",
    "        # print \"idx: %s\" % idx\n",
    "        similar_indices = cosine_similarities[idx].argsort()[:-top_n:-1]\n",
    "        \n",
    "        # retrive the ID and abstract of sorted papers\n",
    "        # print \"similar indices: %s\" % similar_indices\n",
    "        similar_items = [[cosine_similarities[idx][i], ds['PMID'][i], ds['abstract'][i]]for i in similar_indices]\n",
    "        \n",
    "        # save top 10 hits into MySQL database\n",
    "        for i in range(0,top_n-2):\n",
    "            prediction_matrix.ix[idx, i] = similar_items[i][1] # insert into db directly\n",
    "            similarity_scores.ix[idx, i] = similar_items[i][0] # insert into a db table with date\n",
    "\n",
    "            titleEnd = similar_items[i][2].index('        Abstract:')           \n",
    "            similar_items[i][2] = similar_items[i][2][:titleEnd][:200].replace('\\\"', ' ')\n",
    "\n",
    "        query = 'insert into recommend_articles (\\\n",
    "        entry_date, user_id, source_pmid,\\\n",
    "        pmid_1, pmid_2, pmid_3, pmid_4, pmid_5, pmid_6, pmid_7, pmid_8, pmid_9,pmid_10, \\\n",
    "        score_1, score_2, score_3,score_4, score_5, score_6, score_7, score_8, score_9, score_10,\\\n",
    "        title_1, title_2, title_3, title_4, title_5, title_6, title_7, title_8, title_9, title_10 ) \\\n",
    "        values \\\n",
    "        (\"%s\", %d, %d,\\\n",
    "            %d, %d, %d, %d, %d,\\\n",
    "            %d, %d, %d, %d, %d,\\\n",
    "            %.6f,%.6f,%.6f,%.6f,%.6f,\\\n",
    "            %.6f,%.6f,%.6f,%.6f,%.6f,\\\n",
    "            \"%s\",\"%s\",\"%s\",\"%s\",\"%s\",\\\n",
    "            \"%s\",\"%s\",\"%s\",\"%s\",\"%s\")'\\\n",
    "        %(now, userId,userpool.ix[idx,'PMID'],\\\n",
    "         similar_items[0][1],similar_items[1][1],similar_items[2][1],\\\n",
    "         similar_items[3][1],similar_items[4][1],similar_items[5][1],\\\n",
    "         similar_items[6][1],similar_items[7][1],similar_items[8][1],\\\n",
    "         similar_items[9][1],\\\n",
    "         similar_items[0][0],similar_items[1][0],similar_items[2][0],\\\n",
    "         similar_items[3][0],similar_items[4][0],similar_items[5][0],\\\n",
    "         similar_items[6][0],similar_items[7][0],similar_items[8][0],\\\n",
    "         similar_items[9][0],\\\n",
    "         similar_items[0][2],similar_items[1][2],similar_items[2][2],\\\n",
    "         similar_items[3][2],similar_items[4][2],similar_items[5][2],\\\n",
    "         similar_items[6][2],similar_items[7][2],similar_items[8][2],\\\n",
    "         similar_items[9][2])\n",
    "        # print query\n",
    "        try:\n",
    "            cur.execute(query)\n",
    "            db.commit()\n",
    "        except:\n",
    "            db.rollback()"
   ]
  },
  {
   "cell_type": "code",
   "execution_count": 10,
   "metadata": {
    "collapsed": false
   },
   "outputs": [
    {
     "data": {
      "text/html": [
       "<div>\n",
       "<table border=\"1\" class=\"dataframe\">\n",
       "  <thead>\n",
       "    <tr style=\"text-align: right;\">\n",
       "      <th></th>\n",
       "      <th>PMID</th>\n",
       "      <th>abstract</th>\n",
       "    </tr>\n",
       "  </thead>\n",
       "  <tbody>\n",
       "    <tr>\n",
       "      <th>0</th>\n",
       "      <td>28316328</td>\n",
       "      <td>Reoperation After Cyst Excision with Hepaticoj...</td>\n",
       "    </tr>\n",
       "    <tr>\n",
       "      <th>1</th>\n",
       "      <td>28316331</td>\n",
       "      <td>Targeted therapies: Ibrutinib: new option for ...</td>\n",
       "    </tr>\n",
       "    <tr>\n",
       "      <th>2</th>\n",
       "      <td>28316336</td>\n",
       "      <td>Flint Water Crisis: What Happened and Why?    ...</td>\n",
       "    </tr>\n",
       "    <tr>\n",
       "      <th>3</th>\n",
       "      <td>28316338</td>\n",
       "      <td>Detection and quantification of 2H and 3R phas...</td>\n",
       "    </tr>\n",
       "    <tr>\n",
       "      <th>4</th>\n",
       "      <td>28316344</td>\n",
       "      <td>Mechanoluminescent Imaging of Osmotic Stress-I...</td>\n",
       "    </tr>\n",
       "  </tbody>\n",
       "</table>\n",
       "</div>"
      ],
      "text/plain": [
       "       PMID                                           abstract\n",
       "0  28316328  Reoperation After Cyst Excision with Hepaticoj...\n",
       "1  28316331  Targeted therapies: Ibrutinib: new option for ...\n",
       "2  28316336  Flint Water Crisis: What Happened and Why?    ...\n",
       "3  28316338  Detection and quantification of 2H and 3R phas...\n",
       "4  28316344  Mechanoluminescent Imaging of Osmotic Stress-I..."
      ]
     },
     "execution_count": 10,
     "metadata": {},
     "output_type": "execute_result"
    }
   ],
   "source": [
    "dailypool = import_data_articles('articles', cur)\n",
    "dailypool.head()"
   ]
  },
  {
   "cell_type": "code",
   "execution_count": 11,
   "metadata": {
    "collapsed": false
   },
   "outputs": [
    {
     "name": "stdout",
     "output_type": "stream",
     "text": [
      "((1L,),)\n"
     ]
    }
   ],
   "source": [
    "cur.execute('select distinct user_id from user_articles')\n",
    "userIdlist = cur.fetchall()\n"
   ]
  },
  {
   "cell_type": "code",
   "execution_count": 12,
   "metadata": {
    "collapsed": false
   },
   "outputs": [
    {
     "name": "stdout",
     "output_type": "stream",
     "text": [
      "Engine trained in 0.354042053223 seconds.\n"
     ]
    }
   ],
   "source": [
    "start = time.time()\n",
    "for id in userIdlist:\n",
    "    userpool = import_user_articles(id[0], cur)       \n",
    "    train(userpool, dailypool, id[0], cur, db)\n",
    "    \n",
    "print(\"Engine trained in %s seconds.\" % (time.time() - start))"
   ]
  },
  {
   "cell_type": "code",
   "execution_count": 13,
   "metadata": {
    "collapsed": false
   },
   "outputs": [
    {
     "data": {
      "text/html": [
       "<div>\n",
       "<table border=\"1\" class=\"dataframe\">\n",
       "  <thead>\n",
       "    <tr style=\"text-align: right;\">\n",
       "      <th></th>\n",
       "      <th>PMID</th>\n",
       "      <th>abstract</th>\n",
       "    </tr>\n",
       "  </thead>\n",
       "  <tbody>\n",
       "    <tr>\n",
       "      <th>0</th>\n",
       "      <td>1</td>\n",
       "      <td>p53 regulates mitochondrial respiration       ...</td>\n",
       "    </tr>\n",
       "    <tr>\n",
       "      <th>1</th>\n",
       "      <td>2</td>\n",
       "      <td>Life with oxygen        Abstract:The survival ...</td>\n",
       "    </tr>\n",
       "    <tr>\n",
       "      <th>2</th>\n",
       "      <td>3</td>\n",
       "      <td>Autophagy and metabolism        Abstract:Autop...</td>\n",
       "    </tr>\n",
       "  </tbody>\n",
       "</table>\n",
       "</div>"
      ],
      "text/plain": [
       "   PMID                                           abstract\n",
       "0     1  p53 regulates mitochondrial respiration       ...\n",
       "1     2  Life with oxygen        Abstract:The survival ...\n",
       "2     3  Autophagy and metabolism        Abstract:Autop..."
      ]
     },
     "execution_count": 13,
     "metadata": {},
     "output_type": "execute_result"
    }
   ],
   "source": [
    "userpool.head()"
   ]
  },
  {
   "cell_type": "code",
   "execution_count": 14,
   "metadata": {
    "collapsed": false
   },
   "outputs": [
    {
     "data": {
      "text/html": [
       "<div>\n",
       "<table border=\"1\" class=\"dataframe\">\n",
       "  <thead>\n",
       "    <tr style=\"text-align: right;\">\n",
       "      <th></th>\n",
       "      <th>Source_PMID</th>\n",
       "      <th>title_1</th>\n",
       "      <th>title_2</th>\n",
       "      <th>title_3</th>\n",
       "      <th>title_4</th>\n",
       "      <th>title_5</th>\n",
       "      <th>score_1</th>\n",
       "      <th>score_2</th>\n",
       "      <th>score_3</th>\n",
       "      <th>score_4</th>\n",
       "      <th>score_5</th>\n",
       "    </tr>\n",
       "  </thead>\n",
       "  <tbody>\n",
       "    <tr>\n",
       "      <th>0</th>\n",
       "      <td>1</td>\n",
       "      <td>[Effects of Meek skin grafting on patients wit...</td>\n",
       "      <td>Predictive factors of neoplastic gallbladder p...</td>\n",
       "      <td>A rare cause of upper gastrointestinal hemorrh...</td>\n",
       "      <td>[Analysis of corneal complications in children...</td>\n",
       "      <td>[The compilation, characteristic and value of ...</td>\n",
       "      <td>0.034558</td>\n",
       "      <td>0.033082</td>\n",
       "      <td>0.031156</td>\n",
       "      <td>0.028903</td>\n",
       "      <td>0.020382</td>\n",
       "    </tr>\n",
       "    <tr>\n",
       "      <th>1</th>\n",
       "      <td>2</td>\n",
       "      <td>PEEK and CFR-PEEK as alternative bearing mater...</td>\n",
       "      <td>Uranium Tetrakis-Aryloxide Derivatives Support...</td>\n",
       "      <td>[Clinical observation on the treatment of untr...</td>\n",
       "      <td>Effects of different strength training frequen...</td>\n",
       "      <td>WebMolCS: a Web-Based Interface for Visualizin...</td>\n",
       "      <td>0.027130</td>\n",
       "      <td>0.016563</td>\n",
       "      <td>0.016299</td>\n",
       "      <td>0.016117</td>\n",
       "      <td>0.015802</td>\n",
       "    </tr>\n",
       "    <tr>\n",
       "      <th>2</th>\n",
       "      <td>3</td>\n",
       "      <td>[Effects of Meek skin grafting on patients wit...</td>\n",
       "      <td>[Analysis of corneal complications in children...</td>\n",
       "      <td>Predictive factors of neoplastic gallbladder p...</td>\n",
       "      <td>[Association between food intake and the serum...</td>\n",
       "      <td>Plant protein-based feeds and commercial feed ...</td>\n",
       "      <td>0.032004</td>\n",
       "      <td>0.029425</td>\n",
       "      <td>0.019105</td>\n",
       "      <td>0.017132</td>\n",
       "      <td>0.016699</td>\n",
       "    </tr>\n",
       "    <tr>\n",
       "      <th>3</th>\n",
       "      <td>1</td>\n",
       "      <td>[Effects of Meek skin grafting on patients wit...</td>\n",
       "      <td>Predictive factors of neoplastic gallbladder p...</td>\n",
       "      <td>A rare cause of upper gastrointestinal hemorrh...</td>\n",
       "      <td>[Analysis of corneal complications in children...</td>\n",
       "      <td>[The compilation, characteristic and value of ...</td>\n",
       "      <td>0.034558</td>\n",
       "      <td>0.033082</td>\n",
       "      <td>0.031156</td>\n",
       "      <td>0.028903</td>\n",
       "      <td>0.020382</td>\n",
       "    </tr>\n",
       "    <tr>\n",
       "      <th>4</th>\n",
       "      <td>2</td>\n",
       "      <td>PEEK and CFR-PEEK as alternative bearing mater...</td>\n",
       "      <td>Uranium Tetrakis-Aryloxide Derivatives Support...</td>\n",
       "      <td>[Clinical observation on the treatment of untr...</td>\n",
       "      <td>Effects of different strength training frequen...</td>\n",
       "      <td>WebMolCS: a Web-Based Interface for Visualizin...</td>\n",
       "      <td>0.027130</td>\n",
       "      <td>0.016563</td>\n",
       "      <td>0.016299</td>\n",
       "      <td>0.016117</td>\n",
       "      <td>0.015802</td>\n",
       "    </tr>\n",
       "    <tr>\n",
       "      <th>5</th>\n",
       "      <td>3</td>\n",
       "      <td>[Effects of Meek skin grafting on patients wit...</td>\n",
       "      <td>[Analysis of corneal complications in children...</td>\n",
       "      <td>Predictive factors of neoplastic gallbladder p...</td>\n",
       "      <td>[Association between food intake and the serum...</td>\n",
       "      <td>Plant protein-based feeds and commercial feed ...</td>\n",
       "      <td>0.032004</td>\n",
       "      <td>0.029425</td>\n",
       "      <td>0.019105</td>\n",
       "      <td>0.017132</td>\n",
       "      <td>0.016699</td>\n",
       "    </tr>\n",
       "    <tr>\n",
       "      <th>6</th>\n",
       "      <td>1</td>\n",
       "      <td>Seroepidemiology of Toxoplasma gondii infectio...</td>\n",
       "      <td>ZNF395 Is an Activator of a Subset of IFN-Stim...</td>\n",
       "      <td>Understanding the Electrochemical Formation an...</td>\n",
       "      <td>Reporting adverse transfusion reactions: A ret...</td>\n",
       "      <td>Prevalence of ectoparasites in dogs of Shimoga...</td>\n",
       "      <td>0.051001</td>\n",
       "      <td>0.043591</td>\n",
       "      <td>0.023963</td>\n",
       "      <td>0.022421</td>\n",
       "      <td>0.019028</td>\n",
       "    </tr>\n",
       "    <tr>\n",
       "      <th>7</th>\n",
       "      <td>2</td>\n",
       "      <td>Effect of Fermented Spinach as Sources of Pre-...</td>\n",
       "      <td>PEEK and CFR-PEEK as alternative bearing mater...</td>\n",
       "      <td>The short-term impacts of development-induced ...</td>\n",
       "      <td>Comparison of deferasirox and deferoxamine eff...</td>\n",
       "      <td>Dyslipidemia rather than Type 2 Diabetes Melli...</td>\n",
       "      <td>0.035816</td>\n",
       "      <td>0.028319</td>\n",
       "      <td>0.023075</td>\n",
       "      <td>0.019488</td>\n",
       "      <td>0.018424</td>\n",
       "    </tr>\n",
       "    <tr>\n",
       "      <th>8</th>\n",
       "      <td>3</td>\n",
       "      <td>ZNF395 Is an Activator of a Subset of IFN-Stim...</td>\n",
       "      <td>Seroepidemiology of Toxoplasma gondii infectio...</td>\n",
       "      <td>Reporting adverse transfusion reactions: A ret...</td>\n",
       "      <td>Inducible spy Transcription Acts as a Sensor f...</td>\n",
       "      <td>Understanding the Electrochemical Formation an...</td>\n",
       "      <td>0.044311</td>\n",
       "      <td>0.039320</td>\n",
       "      <td>0.029772</td>\n",
       "      <td>0.018328</td>\n",
       "      <td>0.017919</td>\n",
       "    </tr>\n",
       "  </tbody>\n",
       "</table>\n",
       "</div>"
      ],
      "text/plain": [
       "   Source_PMID                                            title_1  \\\n",
       "0            1  [Effects of Meek skin grafting on patients wit...   \n",
       "1            2  PEEK and CFR-PEEK as alternative bearing mater...   \n",
       "2            3  [Effects of Meek skin grafting on patients wit...   \n",
       "3            1  [Effects of Meek skin grafting on patients wit...   \n",
       "4            2  PEEK and CFR-PEEK as alternative bearing mater...   \n",
       "5            3  [Effects of Meek skin grafting on patients wit...   \n",
       "6            1  Seroepidemiology of Toxoplasma gondii infectio...   \n",
       "7            2  Effect of Fermented Spinach as Sources of Pre-...   \n",
       "8            3  ZNF395 Is an Activator of a Subset of IFN-Stim...   \n",
       "\n",
       "                                             title_2  \\\n",
       "0  Predictive factors of neoplastic gallbladder p...   \n",
       "1  Uranium Tetrakis-Aryloxide Derivatives Support...   \n",
       "2  [Analysis of corneal complications in children...   \n",
       "3  Predictive factors of neoplastic gallbladder p...   \n",
       "4  Uranium Tetrakis-Aryloxide Derivatives Support...   \n",
       "5  [Analysis of corneal complications in children...   \n",
       "6  ZNF395 Is an Activator of a Subset of IFN-Stim...   \n",
       "7  PEEK and CFR-PEEK as alternative bearing mater...   \n",
       "8  Seroepidemiology of Toxoplasma gondii infectio...   \n",
       "\n",
       "                                             title_3  \\\n",
       "0  A rare cause of upper gastrointestinal hemorrh...   \n",
       "1  [Clinical observation on the treatment of untr...   \n",
       "2  Predictive factors of neoplastic gallbladder p...   \n",
       "3  A rare cause of upper gastrointestinal hemorrh...   \n",
       "4  [Clinical observation on the treatment of untr...   \n",
       "5  Predictive factors of neoplastic gallbladder p...   \n",
       "6  Understanding the Electrochemical Formation an...   \n",
       "7  The short-term impacts of development-induced ...   \n",
       "8  Reporting adverse transfusion reactions: A ret...   \n",
       "\n",
       "                                             title_4  \\\n",
       "0  [Analysis of corneal complications in children...   \n",
       "1  Effects of different strength training frequen...   \n",
       "2  [Association between food intake and the serum...   \n",
       "3  [Analysis of corneal complications in children...   \n",
       "4  Effects of different strength training frequen...   \n",
       "5  [Association between food intake and the serum...   \n",
       "6  Reporting adverse transfusion reactions: A ret...   \n",
       "7  Comparison of deferasirox and deferoxamine eff...   \n",
       "8  Inducible spy Transcription Acts as a Sensor f...   \n",
       "\n",
       "                                             title_5   score_1   score_2  \\\n",
       "0  [The compilation, characteristic and value of ...  0.034558  0.033082   \n",
       "1  WebMolCS: a Web-Based Interface for Visualizin...  0.027130  0.016563   \n",
       "2  Plant protein-based feeds and commercial feed ...  0.032004  0.029425   \n",
       "3  [The compilation, characteristic and value of ...  0.034558  0.033082   \n",
       "4  WebMolCS: a Web-Based Interface for Visualizin...  0.027130  0.016563   \n",
       "5  Plant protein-based feeds and commercial feed ...  0.032004  0.029425   \n",
       "6  Prevalence of ectoparasites in dogs of Shimoga...  0.051001  0.043591   \n",
       "7  Dyslipidemia rather than Type 2 Diabetes Melli...  0.035816  0.028319   \n",
       "8  Understanding the Electrochemical Formation an...  0.044311  0.039320   \n",
       "\n",
       "    score_3   score_4   score_5  \n",
       "0  0.031156  0.028903  0.020382  \n",
       "1  0.016299  0.016117  0.015802  \n",
       "2  0.019105  0.017132  0.016699  \n",
       "3  0.031156  0.028903  0.020382  \n",
       "4  0.016299  0.016117  0.015802  \n",
       "5  0.019105  0.017132  0.016699  \n",
       "6  0.023963  0.022421  0.019028  \n",
       "7  0.023075  0.019488  0.018424  \n",
       "8  0.029772  0.018328  0.017919  "
      ]
     },
     "execution_count": 14,
     "metadata": {},
     "output_type": "execute_result"
    }
   ],
   "source": [
    "recommendations = import_recommend_articles('recommend_articles', cur)\n",
    "recommendations"
   ]
  },
  {
   "cell_type": "markdown",
   "metadata": {},
   "source": [
    "### Summary"
   ]
  },
  {
   "cell_type": "markdown",
   "metadata": {},
   "source": [
    "* Crawl publication resources from Pubmed with urllib3\n",
    "* Parsing information on the webpage with beautifulsoup4\n",
    "* Calculate similarity with sklearn TF-IDF algorithm\n",
    "* Read and write data accessing MySQL database"
   ]
  },
  {
   "cell_type": "markdown",
   "metadata": {},
   "source": [
    "### What's next"
   ]
  },
  {
   "cell_type": "markdown",
   "metadata": {},
   "source": [
    "* Scale up to more data sources\n",
    "* Improve recommendation accuracy\n",
    "* Include collaborative filtering\n",
    "* Add more features to front-end\n"
   ]
  }
 ],
 "metadata": {
  "anaconda-cloud": {},
  "kernelspec": {
   "display_name": "Python [default]",
   "language": "python",
   "name": "python2"
  },
  "language_info": {
   "codemirror_mode": {
    "name": "ipython",
    "version": 2
   },
   "file_extension": ".py",
   "mimetype": "text/x-python",
   "name": "python",
   "nbconvert_exporter": "python",
   "pygments_lexer": "ipython2",
   "version": "2.7.9"
  }
 },
 "nbformat": 4,
 "nbformat_minor": 2
}
