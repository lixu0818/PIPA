{
 "cells": [
  {
   "cell_type": "code",
   "execution_count": 1,
   "metadata": {
    "collapsed": true
   },
   "outputs": [],
   "source": [
    "import pandas as pd\n",
    "import time\n",
    "import datetime\n",
    "import redis\n",
    "from flask import current_app\n",
    "from sklearn.feature_extraction.text import TfidfVectorizer\n",
    "from sklearn.metrics.pairwise import linear_kernel"
   ]
  },
  {
   "cell_type": "code",
   "execution_count": 2,
   "metadata": {
    "collapsed": true
   },
   "outputs": [],
   "source": [
    "#!/usr/bin/python\n",
    "import MySQLdb\n",
    "\n",
    "db = MySQLdb.connect(host=\"localhost\",    # your host, usually localhost\n",
    "                     user=\"root\",         # your username\n",
    "                     #passwd=\"xpx\",  # your password\n",
    "                     db=\"xudatabase\")        # name of the data base\n",
    "\n",
    "cur = db.cursor()"
   ]
  },
  {
   "cell_type": "code",
   "execution_count": 3,
   "metadata": {
    "collapsed": true
   },
   "outputs": [],
   "source": [
    "# import article data from mysql db \n",
    "def import_data_articles(table_name):\n",
    "    #ds = pd.read_csv(data_source)\n",
    "    ds = cur.execute('select * from ' +table_name)\n",
    "    r = cur.fetchall()\n",
    "    return pd.DataFrame(list(r),columns=['PMID', 'abstract'])\n",
    "    "
   ]
  },
  {
   "cell_type": "code",
   "execution_count": 4,
   "metadata": {
    "collapsed": false
   },
   "outputs": [
    {
     "name": "stdout",
     "output_type": "stream",
     "text": [
      "   PMID                                 abstract\n",
      "0    -1  blood cancer cell experiment yeast test\n",
      "(1, 2)\n"
     ]
    }
   ],
   "source": [
    "userId =1\n",
    "userpool = pd.read_csv(\"./data/testdata.csv\")\n",
    "cur.execute('select pmid, abstract from user_articles where user_id=%d'% (userId))\n",
    "r = cur.fetchall()\n",
    "userpool= pd.DataFrame(list(r),columns=['PMID', 'abstract'])\n",
    "print userpool\n",
    "print userpool.shape\n",
    "\n"
   ]
  },
  {
   "cell_type": "code",
   "execution_count": 5,
   "metadata": {
    "collapsed": false
   },
   "outputs": [
    {
     "name": "stdout",
     "output_type": "stream",
     "text": [
      "       PMID                                           abstract\n",
      "0  28288257  Importance: X-linked adrenoleukodystrophy (ALD...\n",
      "1  28288262  Importance: The heterogeneity of rate of clini...\n",
      "2  28288264  Purpose: To evaluate morselized amniotic membr...\n",
      "3  28288272  BACKGROUND: Asthma is a common chronic disease...\n",
      "4  28288273  Two-dimensional materials offer a remarkably r...\n"
     ]
    }
   ],
   "source": [
    "dailypool = import_data_articles('articles')\n",
    "print dailypool.head()"
   ]
  },
  {
   "cell_type": "code",
   "execution_count": 15,
   "metadata": {
    "collapsed": false
   },
   "outputs": [],
   "source": [
    "# refactor the training logic into this function\n",
    "def train(userpool, dailypool):\n",
    "    ds = pd.concat([userpool, dailypool])\n",
    "    ds.reset_index(drop=True, inplace=True)\n",
    "    \n",
    "    #clean up not ASCII chars\n",
    "    ds['abstract'] = ds[\"abstract\"].apply(lambda x: ''.join([\" \" if ord(i) < 32 or ord(i) > 126 else i for i in x]))\n",
    "    \n",
    "    tf = TfidfVectorizer(analyzer='word',\n",
    "                             ngram_range=(1, 3),\n",
    "                             min_df=0,\n",
    "                             stop_words='english')\n",
    "    tfidf_matrix = tf.fit_transform(ds['abstract'])\n",
    "    print tfidf_matrix.shape\n",
    "    cosine_similarities = linear_kernel(tfidf_matrix[:userpool.shape[0]], tfidf_matrix[userpool.shape[0]:])\n",
    "    similarities = pd.DataFrame(cosine_similarities)\n",
    "    \n",
    "    prediction_matrix = pd.DataFrame(data=userpool.PMID, columns=['PMID'], index=userpool.index)\n",
    "    similarity_scores = prediction_matrix.copy()\n",
    "    \n",
    "    top_n = 12\n",
    "    if (ds.shape[0] < top_n):\n",
    "        top_n = ds.shape[0] + 1\n",
    "\n",
    "    for i in range(1,top_n-1):\n",
    "        col_name = i\n",
    "        prediction_matrix[col_name] = None\n",
    "        similarity_scores[col_name] = -1\n",
    "\n",
    "    now = datetime.datetime.now()\n",
    "    \n",
    "    for idx in range(userpool.shape[0]):\n",
    "        print \"idx: %s\" % idx\n",
    "        similar_indices = cosine_similarities[idx].argsort()[:-top_n:-1]\n",
    "        print \"similar indices: %s\" % similar_indices\n",
    "        similar_items = [(cosine_similarities[idx][i], ds['PMID'][i]) for i in similar_indices]\n",
    "        print \"similar items: \\n %s\" % similar_items\n",
    "        for i in range(1,top_n-1): \n",
    "\n",
    "            prediction_matrix.ix[idx, i] = similar_items[i][1] # insert into db directly \n",
    "            similarity_scores.ix[idx, i] = similar_items[i][0] # insert into a db table with date\n",
    "\n",
    "        query = 'insert into recommend_articles values (\"%s\", %d, %d,\\\n",
    "            %d, %d, %d, %d, %d,\\\n",
    "            %d, %d, %d, %d, %d,\\\n",
    "            %.6f,%.6f,%.6f,%.6f,%.6f,\\\n",
    "            %.6f,%.6f,%.6f,%.6f,%.6f)'%(now, userId,userpool.ix[idx,'PMID'],\\\n",
    "                                                         similar_items[0][1],similar_items[1][1],similar_items[2][1],\\\n",
    "                                                         similar_items[3][1],similar_items[4][1],similar_items[5][1],\\\n",
    "                                                         similar_items[6][1],similar_items[7][1],similar_items[8][1],\\\n",
    "                                                         similar_items[9][1],similar_items[0][0],similar_items[1][0],\\\n",
    "                                                         similar_items[2][0],\\\n",
    "                                                         similar_items[3][0],similar_items[4][0],similar_items[5][0],\\\n",
    "                                                         similar_items[6][0],similar_items[7][0],similar_items[8][0],\\\n",
    "                                                         similar_items[9][0])\n",
    "\n",
    "        cur.execute(query)\n",
    "        db.commit()\n",
    "    return 1;"
   ]
  },
  {
   "cell_type": "code",
   "execution_count": 17,
   "metadata": {
    "collapsed": false
   },
   "outputs": [
    {
     "name": "stdout",
     "output_type": "stream",
     "text": [
      "(214, 3457)\n",
      "idx: 0\n",
      "similar indices: [ 13  83 113 129 154 106 179 187 209 134  97]\n",
      "similar items: \n",
      " [(0.064928788941372884, 28288281), (0.046140608908230005, 28288362), (0.045955454114953026, 28288393), (0.042212439846261419, 28288410), (0.041913581605979654, 28288435), (0.040073906900026601, 28288386), (0.040023343172268751, 28288460), (0.037010885075714595, 28288470), (0.036333615501071378, 28288496), (0.033475954211570472, 28288415), (0.0, 28288377)]\n",
      "Engine trained in 0.0718228816986 seconds.\n"
     ]
    }
   ],
   "source": [
    "start = time.time()\n",
    "train(userpool, dailypool)\n",
    "print(\"Engine trained in %s seconds.\" % (time.time() - start))"
   ]
  },
  {
   "cell_type": "code",
   "execution_count": null,
   "metadata": {
    "collapsed": true
   },
   "outputs": [],
   "source": [
    "db.close()"
   ]
  }
 ],
 "metadata": {
  "anaconda-cloud": {},
  "kernelspec": {
   "display_name": "Python [conda root]",
   "language": "python",
   "name": "conda-root-py"
  },
  "language_info": {
   "codemirror_mode": {
    "name": "ipython",
    "version": 2
   },
   "file_extension": ".py",
   "mimetype": "text/x-python",
   "name": "python",
   "nbconvert_exporter": "python",
   "pygments_lexer": "ipython2",
   "version": "2.7.9"
  }
 },
 "nbformat": 4,
 "nbformat_minor": 1
}
