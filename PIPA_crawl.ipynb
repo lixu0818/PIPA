{
 "cells": [
  {
   "cell_type": "code",
   "execution_count": 1,
   "metadata": {
    "collapsed": false
   },
   "outputs": [
    {
     "name": "stderr",
     "output_type": "stream",
     "text": [
      "/Users/xu/anaconda/lib/python2.7/site-packages/cffi/model.py:532: UserWarning: 'point_conversion_form_t' has no values explicitly defined; guessing that it is equivalent to 'unsigned int'\n",
      "  % self._get_c_name())\n"
     ]
    }
   ],
   "source": [
    "import urllib3\n",
    "from bs4 import BeautifulSoup\n",
    "import requests\n",
    "import certifi\n",
    "import time\n",
    "import datetime"
   ]
  },
  {
   "cell_type": "code",
   "execution_count": 2,
   "metadata": {
    "collapsed": false
   },
   "outputs": [],
   "source": [
    "#!/usr/bin/python\n",
    "import MySQLdb\n",
    "\n",
    "db = MySQLdb.connect(host=\"localhost\",    # your host, usually localhost\n",
    "                     user=\"root\",         # your username\n",
    "#                      passwd=\"root\",  # your password\n",
    "                     db=\"pipa_db\")        # name of the data base\n",
    "\n",
    "cur = db.cursor()"
   ]
  },
  {
   "cell_type": "code",
   "execution_count": 12,
   "metadata": {
    "collapsed": false
   },
   "outputs": [
    {
     "name": "stdout",
     "output_type": "stream",
     "text": [
      "28304400\n"
     ]
    }
   ],
   "source": [
    "dailyMax = 1000\n",
    "batchNum = 20\n",
    "sleeptimeforPubmed =5\n",
    "backstep =20\n",
    "\n",
    "startingPMID=28304400 \n",
    "if cur.execute('select pmid from last_pmid') !=0:\n",
    "    endingPMIDtuple = max(cur.fetchall())\n",
    "    endingPMID = endingPMIDtuple[0]\n",
    "    startingPMID=endingPMID -backstep\n",
    "\n",
    "print startingPMID\n",
    "    "
   ]
  },
  {
   "cell_type": "code",
   "execution_count": 13,
   "metadata": {
    "collapsed": false
   },
   "outputs": [
    {
     "data": {
      "text/plain": [
       "0L"
      ]
     },
     "execution_count": 13,
     "metadata": {},
     "output_type": "execute_result"
    }
   ],
   "source": [
    "cur.execute('truncate articles')\n",
    "# erase data or re-create articles table"
   ]
  },
  {
   "cell_type": "code",
   "execution_count": 14,
   "metadata": {
    "collapsed": false,
    "scrolled": true
   },
   "outputs": [
    {
     "name": "stdout",
     "output_type": "stream",
     "text": [
      "28304400\n",
      "28304410\n",
      "28304420\n",
      "28304440\n",
      "28304450\n",
      "28304460\n",
      "28304470\n",
      "28304480\n",
      "28304490\n",
      "28304500\n",
      "28304520\n",
      "28304530\n",
      "28304540\n",
      "28304550\n",
      "28304560\n",
      "28304570\n",
      "28304580\n",
      "28304590\n",
      "28304600\n",
      "28304610\n",
      "28304620\n",
      "28304630\n",
      "28304640\n",
      "28304650\n",
      "28304660\n",
      "28304670\n",
      "28304680\n",
      "28304690\n",
      "28304700\n",
      "28304710\n",
      "28304720\n",
      "28304730\n",
      "28304740\n",
      "28304750\n",
      "28304760\n",
      "28304770\n",
      "28304780\n",
      "28304790\n",
      "28304800\n",
      "28304810\n",
      "28304820\n",
      "28304830\n",
      "28304840\n",
      "28304850\n",
      "28304860\n",
      "28304870\n",
      "28304880\n",
      "28304890\n",
      "28304900\n",
      "28304910\n",
      "28304920\n",
      "28304930\n",
      "28304940\n",
      "28304950\n",
      "28304960\n",
      "28304980\n",
      "28304990\n",
      "28305000\n",
      "28305010\n",
      "28305020\n",
      "28305030\n",
      "28305040\n",
      "28305050\n",
      "28305060\n",
      "28305070\n",
      "28305080\n",
      "28305090\n",
      "28305100\n",
      "28305110\n",
      "28305120\n",
      "28305130\n",
      "28305140\n",
      "28305150\n",
      "28305160\n",
      "28305180\n",
      "28305190\n",
      "28305200\n",
      "28305210\n",
      "28305220\n",
      "28305230\n",
      "28305240\n",
      "28305250\n",
      "28305260\n",
      "28305270\n",
      "28305280\n",
      "28305290\n",
      "28305300\n",
      "28305310\n",
      "28305320\n",
      "28305330\n",
      "28305340\n",
      "28305350\n",
      "28305360\n",
      "28305370\n",
      "28305380\n",
      "28305390\n",
      "CPU times: user 1.04 s, sys: 117 ms, total: 1.16 s\n",
      "Wall time: 44 s\n"
     ]
    }
   ],
   "source": [
    "%%time\n",
    "        for i in range (startingPMID, startingPMID+dailyMax, batchNum):\n",
    "            PMIDs = \"\"\n",
    "\n",
    "            for j in range (batchNum):\n",
    "                PMIDs = PMIDs + str(i + j ) +\",\"\n",
    "\n",
    "            url = \"https://www.ncbi.nlm.nih.gov/pubmed/\"+ PMIDs +\"?report=medline&format=text\" \n",
    "\n",
    "            #time.sleep(sleeptimeforPubmed)\n",
    "            http = urllib3.PoolManager(cert_reqs='CERT_REQUIRED',ca_certs=certifi.where())\n",
    "            r = http.request('GET', url)\n",
    "            soup = BeautifulSoup(r.data, \"lxml\")\n",
    "\n",
    "            allInfo = unicode(soup.pre.string)\n",
    "\n",
    "            if allInfo.find('PMID- ')<0:\n",
    "                print url\n",
    "                print 'bad end'        \n",
    "                break\n",
    "\n",
    "            while allInfo.find('AB  -')>0:\n",
    "                IdIndexStart = allInfo.index('PMID- ')+6\n",
    "                IdIndexEnd = allInfo.index('\\n', IdIndexStart)\n",
    "                PMID = allInfo[IdIndexStart:IdIndexEnd]\n",
    "\n",
    "                tiIndexStart = allInfo.index('TI  -')+6\n",
    "                tiIndexEnd =   allInfo.index('PG  -', tiIndexStart)-1\n",
    "                ti = allInfo[tiIndexStart:tiIndexEnd]\n",
    "                \n",
    "                abIndexStart = allInfo.index('AB  -')+6\n",
    "                abIndexEnd =   allInfo.index('FAU -', abIndexStart)-1\n",
    "                ab = ti+\"        \\nAbstract:\"+allInfo[abIndexStart:abIndexEnd]\n",
    "\n",
    "                query = \"insert into articles (pmid, abstract) values (\"+ PMID +\", '\"+ ab + \"')\"\n",
    "                endingPMID = int(PMID)\n",
    "                if (endingPMID%10==0):\n",
    "                    print endingPMID\n",
    "\n",
    "                try:\n",
    "                    cur.execute(query)\n",
    "                    db.commit()\n",
    "\n",
    "                except:\n",
    "                    db.rollback()\n",
    "\n",
    "                allInfo = allInfo[abIndexEnd:]\n",
    "\n",
    "        now = datetime.datetime.now()       \n",
    "        query = 'insert into last_pmid (record_date, pmid) values (\"%s\", %d)'%(now, endingPMID)\n",
    "        cur.execute(query)\n",
    "        db.commit()\n",
    "# write endingPMID to db\n",
    "db.close()    \n",
    "    "
   ]
  },
  {
   "cell_type": "code",
   "execution_count": null,
   "metadata": {
    "collapsed": true
   },
   "outputs": [],
   "source": []
  }
 ],
 "metadata": {
  "anaconda-cloud": {},
  "kernelspec": {
   "display_name": "Python 2",
   "language": "python",
   "name": "python2"
  },
  "language_info": {
   "codemirror_mode": {
    "name": "ipython",
    "version": 2
   },
   "file_extension": ".py",
   "mimetype": "text/x-python",
   "name": "python",
   "nbconvert_exporter": "python",
   "pygments_lexer": "ipython2",
   "version": "2.7.9"
  }
 },
 "nbformat": 4,
 "nbformat_minor": 1
}
