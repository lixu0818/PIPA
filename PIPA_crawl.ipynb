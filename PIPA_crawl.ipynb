{
 "cells": [
  {
   "cell_type": "code",
   "execution_count": 1,
   "metadata": {
    "collapsed": true
   },
   "outputs": [],
   "source": [
    "import urllib3\n",
    "from bs4 import BeautifulSoup\n",
    "import requests\n",
    "import certifi\n",
    "import time\n",
    "import datetime"
   ]
  },
  {
   "cell_type": "code",
   "execution_count": 2,
   "metadata": {
    "collapsed": true
   },
   "outputs": [],
   "source": [
    "#!/usr/bin/python\n",
    "import MySQLdb\n",
    "\n",
    "db = MySQLdb.connect(host=\"localhost\",    # your host, usually localhost\n",
    "                     user=\"root\",         # your username\n",
    "                     #passwd=\"xpx\",  # your password\n",
    "                     db=\"xudatabase\")        # name of the data base\n",
    "\n",
    "cur = db.cursor()"
   ]
  },
  {
   "cell_type": "code",
   "execution_count": 3,
   "metadata": {
    "collapsed": false
   },
   "outputs": [],
   "source": [
    "dailyMax = 1000\n",
    "batchNum = 20\n",
    "sleeptimeforPubmed =5\n",
    "backstep =20\n",
    "\n",
    "cur.execute('select pmid from last_pmid')\n",
    "endingPMID = max(cur.fetchall())\n",
    "startingPMID=endingPMID[0] -backstep #\n",
    "\n"
   ]
  },
  {
   "cell_type": "code",
   "execution_count": 4,
   "metadata": {
    "collapsed": false
   },
   "outputs": [
    {
     "data": {
      "text/plain": [
       "0L"
      ]
     },
     "execution_count": 4,
     "metadata": {},
     "output_type": "execute_result"
    }
   ],
   "source": [
    "cur.execute('truncate articles')\n",
    "# erase data or re-create articles table"
   ]
  },
  {
   "cell_type": "code",
   "execution_count": 5,
   "metadata": {
    "collapsed": false,
    "scrolled": true
   },
   "outputs": [
    {
     "name": "stdout",
     "output_type": "stream",
     "text": [
      "28288280\n",
      "28288290\n",
      "28288300\n",
      "28288310\n",
      "28288320\n",
      "28288330\n",
      "28288340\n",
      "28288350\n",
      "28288360\n",
      "28288370\n",
      "28288380\n",
      "28288390\n",
      "28288400\n",
      "28288410\n",
      "28288420\n",
      "28288430\n",
      "28288440\n",
      "28288450\n",
      "28288460\n",
      "28288470\n",
      "28288490\n",
      "28288500\n",
      "https://www.ncbi.nlm.nih.gov/pubmed/28288517,28288518,28288519,28288520,28288521,28288522,28288523,28288524,28288525,28288526,28288527,28288528,28288529,28288530,28288531,28288532,28288533,28288534,28288535,28288536,?report=medline&format=text\n",
      "bad end\n",
      "CPU times: user 324 ms, sys: 34.9 ms, total: 359 ms\n",
      "Wall time: 10.7 s\n"
     ]
    }
   ],
   "source": [
    "%%time\n",
    "        for i in range (startingPMID, startingPMID+dailyMax, batchNum):\n",
    "            PMIDs = \"\"\n",
    "\n",
    "            for j in range (batchNum):\n",
    "                PMIDs = PMIDs + str(i + j ) +\",\"\n",
    "\n",
    "            url = \"https://www.ncbi.nlm.nih.gov/pubmed/\"+ PMIDs +\"?report=medline&format=text\" \n",
    "\n",
    "            #time.sleep(sleeptimeforPubmed)\n",
    "            http = urllib3.PoolManager(cert_reqs='CERT_REQUIRED',ca_certs=certifi.where())\n",
    "            r = http.request('GET', url)\n",
    "            soup = BeautifulSoup(r.data, \"lxml\")\n",
    "\n",
    "            allInfo = unicode(soup.pre.string)\n",
    "\n",
    "            if allInfo.find('PMID- ')<0:\n",
    "                print url\n",
    "                print 'bad end'        \n",
    "                break\n",
    "\n",
    "            while allInfo.find('AB  -')>0:\n",
    "                IdIndexStart = allInfo.index('PMID- ')+6\n",
    "                IdIndexEnd = allInfo.index('\\n', IdIndexStart)\n",
    "                PMID = allInfo[IdIndexStart:IdIndexEnd]\n",
    "\n",
    "                abIndexStart = allInfo.index('AB  -')+6\n",
    "                abIndexEnd = allInfo.index('\\n', abIndexStart)\n",
    "                ab = allInfo[abIndexStart:abIndexEnd]\n",
    "\n",
    "                query = \"insert into articles values (\"+ PMID +\", '\"+ ab + \"')\"\n",
    "                endingPMID = int(PMID)\n",
    "                if (endingPMID%10==0):\n",
    "                    print endingPMID\n",
    "\n",
    "                try:\n",
    "                    cur.execute(query)\n",
    "                    db.commit()\n",
    "\n",
    "                except:\n",
    "                    db.rollback()\n",
    "\n",
    "                allInfo = allInfo[abIndexEnd:]\n",
    "\n",
    "        now = datetime.datetime.now()       \n",
    "        query = 'insert into last_pmid values (\"%s\", %d)'%(now, endingPMID)\n",
    "        cur.execute(query)\n",
    "        db.commit()\n",
    "# write endingPMID to db\n",
    "db.close()    \n",
    "    "
   ]
  },
  {
   "cell_type": "code",
   "execution_count": null,
   "metadata": {
    "collapsed": true
   },
   "outputs": [],
   "source": []
  }
 ],
 "metadata": {
  "anaconda-cloud": {},
  "kernelspec": {
   "display_name": "Python [conda root]",
   "language": "python",
   "name": "conda-root-py"
  },
  "language_info": {
   "codemirror_mode": {
    "name": "ipython",
    "version": 2
   },
   "file_extension": ".py",
   "mimetype": "text/x-python",
   "name": "python",
   "nbconvert_exporter": "python",
   "pygments_lexer": "ipython2",
   "version": "2.7.12"
  }
 },
 "nbformat": 4,
 "nbformat_minor": 1
}
