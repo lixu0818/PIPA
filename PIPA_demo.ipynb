{
 "cells": [
  {
   "cell_type": "code",
   "execution_count": 2,
   "metadata": {
    "collapsed": false
   },
   "outputs": [],
   "source": [
    "import urllib3\n",
    "from bs4 import BeautifulSoup\n",
    "import requests\n",
    "import certifi\n",
    "import time\n",
    "import datetime\n",
    "import MySQLdb\n"
   ]
  },
  {
   "cell_type": "code",
   "execution_count": 4,
   "metadata": {
    "collapsed": false
   },
   "outputs": [],
   "source": [
    "db = MySQLdb.connect(host=\"localhost\",    # your host, usually localhost\n",
    "                         user=\"root\",         # your username\n",
    "                         #passwd=\"piparoot\",  # your password\n",
    "                         db=\"xudatabase\")        # name of the data base"
   ]
  },
  {
   "cell_type": "code",
   "execution_count": 6,
   "metadata": {
    "collapsed": false
   },
   "outputs": [],
   "source": [
    "cur = db.cursor()\n",
    "\n",
    "dailyMax = 200\n",
    "batchNum = 20\n",
    "sleeptimeforPubmed = 5\n",
    "backstep = 20\n",
    "\n",
    "cur.execute('select pmid from articles order by pmid desc')\n",
    "#startingPMID = cur.fetchall()[backstep][0]\n",
    "    \n",
    "    ################\n",
    "# for testing\n",
    "startingPMID=28315500"
   ]
  },
  {
   "cell_type": "code",
   "execution_count": 7,
   "metadata": {
    "collapsed": false
   },
   "outputs": [
    {
     "name": "stdout",
     "output_type": "stream",
     "text": [
      "28315500\n",
      "28315510\n",
      "28315520\n",
      "28315530\n",
      "28315540\n",
      "28315550\n",
      "28315560\n",
      "28315570\n",
      "28315580\n",
      "28315590\n",
      "28315600\n",
      "28315610\n",
      "28315620\n",
      "28315630\n",
      "28315640\n",
      "28315650\n",
      "28315660\n",
      "28315670\n",
      "28315680\n",
      "28315690\n"
     ]
    }
   ],
   "source": [
    "cur.execute('truncate table articles')\n",
    "for i in range (startingPMID, startingPMID+dailyMax, batchNum):\n",
    "    PMIDs = \"\"\n",
    "\n",
    "    for j in range (batchNum):\n",
    "        PMIDs = PMIDs + str(i + j ) +\",\"\n",
    "\n",
    "    url = \"https://www.ncbi.nlm.nih.gov/pubmed/\"+ PMIDs +\"?report=medline&format=text\"\n",
    "\n",
    "    time.sleep(sleeptimeforPubmed)\n",
    "    http = urllib3.PoolManager(cert_reqs='CERT_REQUIRED',ca_certs=certifi.where())\n",
    "    r = http.request('GET', url)\n",
    "    soup = BeautifulSoup(r.data, \"lxml\")\n",
    "\n",
    "    allInfo = unicode(soup.pre.string)\n",
    "\n",
    "    if allInfo.find('PMID- ')<0:\n",
    "        print url\n",
    "        print 'extraction complete'\n",
    "        break\n",
    "\n",
    "    while (allInfo.find('AB  -')>0 and allInfo.find('TI  -')>0):\n",
    "        IdIndexStart = allInfo.index('PMID- ')+6\n",
    "        IdIndexEnd = allInfo.index('\\n', IdIndexStart)\n",
    "        PMID = allInfo[IdIndexStart:IdIndexEnd]\n",
    "\n",
    "        try:\n",
    "            tiIndexStart = allInfo.index('TI  -')+6\n",
    "\n",
    "            if allInfo.find(  'PG  -', tiIndexStart)>0:\n",
    "                tiIndexEnd =   allInfo.index('PG  -', tiIndexStart)-1\n",
    "            elif allInfo.find('LID -', tiIndexStart)>0:\n",
    "                tiIndexEnd =   allInfo.index('LID -', tiIndexStart)-1\n",
    "            else:\n",
    "                tiIndexEnd =   allInfo.index('AB  -', tiIndexStart)-1\n",
    "            ti = allInfo[tiIndexStart:tiIndexEnd]\n",
    "\n",
    "        except:\n",
    "            ti =\"\"\n",
    "\n",
    "        abIndexStart = allInfo.index('AB  -')+6\n",
    "        try:\n",
    "            abIndexEnd =   allInfo.index('FAU -', abIndexStart)-1\n",
    "        except:\n",
    "            abIndexEnd = abIndexStart + 1000\n",
    "        ab = ti+\"        Abstract:\"+allInfo[abIndexStart:abIndexEnd]\n",
    "\n",
    "        query = \"insert into articles (pmid, abstract) values (\"+ PMID +\", '\"+ ab + \"')\"\n",
    "        endingPMID = int(PMID)\n",
    "\n",
    "\n",
    "        if (endingPMID%10==0):\n",
    "            print endingPMID\n",
    "\n",
    "        try:\n",
    "            cur.execute(query)\n",
    "            db.commit()\n",
    "\n",
    "        except:\n",
    "            db.rollback()\n",
    "\n",
    "        allInfo = allInfo[abIndexEnd:]\n",
    "\n",
    "    now = datetime.datetime.now()\n",
    "    query = 'insert into last_pmid (record_date, pmid) values (\"%s\", %d)'%(now, endingPMID)\n",
    "    cur.execute(query)\n",
    "    db.commit()"
   ]
  },
  {
   "cell_type": "code",
   "execution_count": 8,
   "metadata": {
    "collapsed": false
   },
   "outputs": [
    {
     "ename": "ImportError",
     "evalue": "dlopen(/Users/xu/anaconda/lib/python2.7/site-packages/scipy/sparse/linalg/isolve/_iterative.so, 2): Library not loaded: /usr/local/lib/libgcc_s.1.dylib\n  Referenced from: /Users/xu/anaconda/lib/python2.7/site-packages/scipy/sparse/linalg/isolve/_iterative.so\n  Reason: image not found",
     "output_type": "error",
     "traceback": [
      "\u001b[0;31m---------------------------------------------------------------------------\u001b[0m",
      "\u001b[0;31mImportError\u001b[0m                               Traceback (most recent call last)",
      "\u001b[0;32m<ipython-input-8-eb589854512a>\u001b[0m in \u001b[0;36m<module>\u001b[0;34m()\u001b[0m\n\u001b[1;32m      3\u001b[0m \u001b[0;32mimport\u001b[0m \u001b[0mdatetime\u001b[0m\u001b[0;34m\u001b[0m\u001b[0m\n\u001b[1;32m      4\u001b[0m \u001b[0;32mfrom\u001b[0m \u001b[0mflask\u001b[0m \u001b[0;32mimport\u001b[0m \u001b[0mcurrent_app\u001b[0m\u001b[0;34m\u001b[0m\u001b[0m\n\u001b[0;32m----> 5\u001b[0;31m \u001b[0;32mfrom\u001b[0m \u001b[0msklearn\u001b[0m\u001b[0;34m.\u001b[0m\u001b[0mfeature_extraction\u001b[0m\u001b[0;34m.\u001b[0m\u001b[0mtext\u001b[0m \u001b[0;32mimport\u001b[0m \u001b[0mTfidfVectorizer\u001b[0m\u001b[0;34m\u001b[0m\u001b[0m\n\u001b[0m\u001b[1;32m      6\u001b[0m \u001b[0;32mfrom\u001b[0m \u001b[0msklearn\u001b[0m\u001b[0;34m.\u001b[0m\u001b[0mmetrics\u001b[0m\u001b[0;34m.\u001b[0m\u001b[0mpairwise\u001b[0m \u001b[0;32mimport\u001b[0m \u001b[0mlinear_kernel\u001b[0m\u001b[0;34m\u001b[0m\u001b[0m\n\u001b[1;32m      7\u001b[0m \u001b[0;32mimport\u001b[0m \u001b[0mMySQLdb\u001b[0m\u001b[0;34m\u001b[0m\u001b[0m\n",
      "\u001b[0;32m/Users/xu/anaconda/lib/python2.7/site-packages/sklearn/__init__.py\u001b[0m in \u001b[0;36m<module>\u001b[0;34m()\u001b[0m\n\u001b[1;32m     55\u001b[0m \u001b[0;32melse\u001b[0m\u001b[0;34m:\u001b[0m\u001b[0;34m\u001b[0m\u001b[0m\n\u001b[1;32m     56\u001b[0m     \u001b[0;32mfrom\u001b[0m \u001b[0;34m.\u001b[0m \u001b[0;32mimport\u001b[0m \u001b[0m__check_build\u001b[0m\u001b[0;34m\u001b[0m\u001b[0m\n\u001b[0;32m---> 57\u001b[0;31m     \u001b[0;32mfrom\u001b[0m \u001b[0;34m.\u001b[0m\u001b[0mbase\u001b[0m \u001b[0;32mimport\u001b[0m \u001b[0mclone\u001b[0m\u001b[0;34m\u001b[0m\u001b[0m\n\u001b[0m\u001b[1;32m     58\u001b[0m     \u001b[0m__check_build\u001b[0m  \u001b[0;31m# avoid flakes unused variable error\u001b[0m\u001b[0;34m\u001b[0m\u001b[0m\n\u001b[1;32m     59\u001b[0m \u001b[0;34m\u001b[0m\u001b[0m\n",
      "\u001b[0;32m/Users/xu/anaconda/lib/python2.7/site-packages/sklearn/base.py\u001b[0m in \u001b[0;36m<module>\u001b[0;34m()\u001b[0m\n\u001b[1;32m     10\u001b[0m \u001b[0;32mfrom\u001b[0m \u001b[0mscipy\u001b[0m \u001b[0;32mimport\u001b[0m \u001b[0msparse\u001b[0m\u001b[0;34m\u001b[0m\u001b[0m\n\u001b[1;32m     11\u001b[0m \u001b[0;32mfrom\u001b[0m \u001b[0;34m.\u001b[0m\u001b[0mexternals\u001b[0m \u001b[0;32mimport\u001b[0m \u001b[0msix\u001b[0m\u001b[0;34m\u001b[0m\u001b[0m\n\u001b[0;32m---> 12\u001b[0;31m \u001b[0;32mfrom\u001b[0m \u001b[0;34m.\u001b[0m\u001b[0mutils\u001b[0m\u001b[0;34m.\u001b[0m\u001b[0mfixes\u001b[0m \u001b[0;32mimport\u001b[0m \u001b[0msignature\u001b[0m\u001b[0;34m\u001b[0m\u001b[0m\n\u001b[0m\u001b[1;32m     13\u001b[0m \u001b[0;32mfrom\u001b[0m \u001b[0;34m.\u001b[0m\u001b[0mutils\u001b[0m\u001b[0;34m.\u001b[0m\u001b[0mdeprecation\u001b[0m \u001b[0;32mimport\u001b[0m \u001b[0mdeprecated\u001b[0m\u001b[0;34m\u001b[0m\u001b[0m\n\u001b[1;32m     14\u001b[0m \u001b[0;32mfrom\u001b[0m \u001b[0;34m.\u001b[0m\u001b[0mexceptions\u001b[0m \u001b[0;32mimport\u001b[0m \u001b[0mChangedBehaviorWarning\u001b[0m \u001b[0;32mas\u001b[0m \u001b[0m_ChangedBehaviorWarning\u001b[0m\u001b[0;34m\u001b[0m\u001b[0m\n",
      "\u001b[0;32m/Users/xu/anaconda/lib/python2.7/site-packages/sklearn/utils/__init__.py\u001b[0m in \u001b[0;36m<module>\u001b[0;34m()\u001b[0m\n\u001b[1;32m      9\u001b[0m \u001b[0;34m\u001b[0m\u001b[0m\n\u001b[1;32m     10\u001b[0m \u001b[0;32mfrom\u001b[0m \u001b[0;34m.\u001b[0m\u001b[0mmurmurhash\u001b[0m \u001b[0;32mimport\u001b[0m \u001b[0mmurmurhash3_32\u001b[0m\u001b[0;34m\u001b[0m\u001b[0m\n\u001b[0;32m---> 11\u001b[0;31m from .validation import (as_float_array,\n\u001b[0m\u001b[1;32m     12\u001b[0m                          \u001b[0massert_all_finite\u001b[0m\u001b[0;34m,\u001b[0m\u001b[0;34m\u001b[0m\u001b[0m\n\u001b[1;32m     13\u001b[0m                          \u001b[0mcheck_random_state\u001b[0m\u001b[0;34m,\u001b[0m \u001b[0mcolumn_or_1d\u001b[0m\u001b[0;34m,\u001b[0m \u001b[0mcheck_array\u001b[0m\u001b[0;34m,\u001b[0m\u001b[0;34m\u001b[0m\u001b[0m\n",
      "\u001b[0;32m/Users/xu/anaconda/lib/python2.7/site-packages/sklearn/utils/validation.py\u001b[0m in \u001b[0;36m<module>\u001b[0;34m()\u001b[0m\n\u001b[1;32m     16\u001b[0m \u001b[0;34m\u001b[0m\u001b[0m\n\u001b[1;32m     17\u001b[0m \u001b[0;32mfrom\u001b[0m \u001b[0;34m.\u001b[0m\u001b[0;34m.\u001b[0m\u001b[0mexternals\u001b[0m \u001b[0;32mimport\u001b[0m \u001b[0msix\u001b[0m\u001b[0;34m\u001b[0m\u001b[0m\n\u001b[0;32m---> 18\u001b[0;31m \u001b[0;32mfrom\u001b[0m \u001b[0;34m.\u001b[0m\u001b[0;34m.\u001b[0m\u001b[0mutils\u001b[0m\u001b[0;34m.\u001b[0m\u001b[0mfixes\u001b[0m \u001b[0;32mimport\u001b[0m \u001b[0msignature\u001b[0m\u001b[0;34m\u001b[0m\u001b[0m\n\u001b[0m\u001b[1;32m     19\u001b[0m \u001b[0;32mfrom\u001b[0m \u001b[0;34m.\u001b[0m\u001b[0mdeprecation\u001b[0m \u001b[0;32mimport\u001b[0m \u001b[0mdeprecated\u001b[0m\u001b[0;34m\u001b[0m\u001b[0m\n\u001b[1;32m     20\u001b[0m \u001b[0;32mfrom\u001b[0m \u001b[0;34m.\u001b[0m\u001b[0;34m.\u001b[0m\u001b[0mexceptions\u001b[0m \u001b[0;32mimport\u001b[0m \u001b[0mDataConversionWarning\u001b[0m \u001b[0;32mas\u001b[0m \u001b[0m_DataConversionWarning\u001b[0m\u001b[0;34m\u001b[0m\u001b[0m\n",
      "\u001b[0;32m/Users/xu/anaconda/lib/python2.7/site-packages/sklearn/utils/fixes.py\u001b[0m in \u001b[0;36m<module>\u001b[0;34m()\u001b[0m\n\u001b[1;32m    289\u001b[0m     \u001b[0;32mfrom\u001b[0m \u001b[0;34m.\u001b[0m\u001b[0m_scipy_sparse_lsqr_backport\u001b[0m \u001b[0;32mimport\u001b[0m \u001b[0mlsqr\u001b[0m \u001b[0;32mas\u001b[0m \u001b[0msparse_lsqr\u001b[0m\u001b[0;34m\u001b[0m\u001b[0m\n\u001b[1;32m    290\u001b[0m \u001b[0;32melse\u001b[0m\u001b[0;34m:\u001b[0m\u001b[0;34m\u001b[0m\u001b[0m\n\u001b[0;32m--> 291\u001b[0;31m     \u001b[0;32mfrom\u001b[0m \u001b[0mscipy\u001b[0m\u001b[0;34m.\u001b[0m\u001b[0msparse\u001b[0m\u001b[0;34m.\u001b[0m\u001b[0mlinalg\u001b[0m \u001b[0;32mimport\u001b[0m \u001b[0mlsqr\u001b[0m \u001b[0;32mas\u001b[0m \u001b[0msparse_lsqr\u001b[0m\u001b[0;34m\u001b[0m\u001b[0m\n\u001b[0m\u001b[1;32m    292\u001b[0m \u001b[0;34m\u001b[0m\u001b[0m\n\u001b[1;32m    293\u001b[0m \u001b[0;34m\u001b[0m\u001b[0m\n",
      "\u001b[0;32m/Users/xu/anaconda/lib/python2.7/site-packages/scipy/sparse/linalg/__init__.py\u001b[0m in \u001b[0;36m<module>\u001b[0;34m()\u001b[0m\n\u001b[1;32m    110\u001b[0m \u001b[0;32mfrom\u001b[0m \u001b[0m__future__\u001b[0m \u001b[0;32mimport\u001b[0m \u001b[0mdivision\u001b[0m\u001b[0;34m,\u001b[0m \u001b[0mprint_function\u001b[0m\u001b[0;34m,\u001b[0m \u001b[0mabsolute_import\u001b[0m\u001b[0;34m\u001b[0m\u001b[0m\n\u001b[1;32m    111\u001b[0m \u001b[0;34m\u001b[0m\u001b[0m\n\u001b[0;32m--> 112\u001b[0;31m \u001b[0;32mfrom\u001b[0m \u001b[0;34m.\u001b[0m\u001b[0misolve\u001b[0m \u001b[0;32mimport\u001b[0m \u001b[0;34m*\u001b[0m\u001b[0;34m\u001b[0m\u001b[0m\n\u001b[0m\u001b[1;32m    113\u001b[0m \u001b[0;32mfrom\u001b[0m \u001b[0;34m.\u001b[0m\u001b[0mdsolve\u001b[0m \u001b[0;32mimport\u001b[0m \u001b[0;34m*\u001b[0m\u001b[0;34m\u001b[0m\u001b[0m\n\u001b[1;32m    114\u001b[0m \u001b[0;32mfrom\u001b[0m \u001b[0;34m.\u001b[0m\u001b[0minterface\u001b[0m \u001b[0;32mimport\u001b[0m \u001b[0;34m*\u001b[0m\u001b[0;34m\u001b[0m\u001b[0m\n",
      "\u001b[0;32m/Users/xu/anaconda/lib/python2.7/site-packages/scipy/sparse/linalg/isolve/__init__.py\u001b[0m in \u001b[0;36m<module>\u001b[0;34m()\u001b[0m\n\u001b[1;32m      4\u001b[0m \u001b[0;34m\u001b[0m\u001b[0m\n\u001b[1;32m      5\u001b[0m \u001b[0;31m#from info import __doc__\u001b[0m\u001b[0;34m\u001b[0m\u001b[0;34m\u001b[0m\u001b[0m\n\u001b[0;32m----> 6\u001b[0;31m \u001b[0;32mfrom\u001b[0m \u001b[0;34m.\u001b[0m\u001b[0miterative\u001b[0m \u001b[0;32mimport\u001b[0m \u001b[0;34m*\u001b[0m\u001b[0;34m\u001b[0m\u001b[0m\n\u001b[0m\u001b[1;32m      7\u001b[0m \u001b[0;32mfrom\u001b[0m \u001b[0;34m.\u001b[0m\u001b[0mminres\u001b[0m \u001b[0;32mimport\u001b[0m \u001b[0mminres\u001b[0m\u001b[0;34m\u001b[0m\u001b[0m\n\u001b[1;32m      8\u001b[0m \u001b[0;32mfrom\u001b[0m \u001b[0;34m.\u001b[0m\u001b[0mlgmres\u001b[0m \u001b[0;32mimport\u001b[0m \u001b[0mlgmres\u001b[0m\u001b[0;34m\u001b[0m\u001b[0m\n",
      "\u001b[0;32m/Users/xu/anaconda/lib/python2.7/site-packages/scipy/sparse/linalg/isolve/iterative.py\u001b[0m in \u001b[0;36m<module>\u001b[0;34m()\u001b[0m\n\u001b[1;32m      5\u001b[0m \u001b[0m__all__\u001b[0m \u001b[0;34m=\u001b[0m \u001b[0;34m[\u001b[0m\u001b[0;34m'bicg'\u001b[0m\u001b[0;34m,\u001b[0m\u001b[0;34m'bicgstab'\u001b[0m\u001b[0;34m,\u001b[0m\u001b[0;34m'cg'\u001b[0m\u001b[0;34m,\u001b[0m\u001b[0;34m'cgs'\u001b[0m\u001b[0;34m,\u001b[0m\u001b[0;34m'gmres'\u001b[0m\u001b[0;34m,\u001b[0m\u001b[0;34m'qmr'\u001b[0m\u001b[0;34m]\u001b[0m\u001b[0;34m\u001b[0m\u001b[0m\n\u001b[1;32m      6\u001b[0m \u001b[0;34m\u001b[0m\u001b[0m\n\u001b[0;32m----> 7\u001b[0;31m \u001b[0;32mfrom\u001b[0m \u001b[0;34m.\u001b[0m \u001b[0;32mimport\u001b[0m \u001b[0m_iterative\u001b[0m\u001b[0;34m\u001b[0m\u001b[0m\n\u001b[0m\u001b[1;32m      8\u001b[0m \u001b[0;34m\u001b[0m\u001b[0m\n\u001b[1;32m      9\u001b[0m \u001b[0;32mfrom\u001b[0m \u001b[0mscipy\u001b[0m\u001b[0;34m.\u001b[0m\u001b[0msparse\u001b[0m\u001b[0;34m.\u001b[0m\u001b[0mlinalg\u001b[0m\u001b[0;34m.\u001b[0m\u001b[0minterface\u001b[0m \u001b[0;32mimport\u001b[0m \u001b[0mLinearOperator\u001b[0m\u001b[0;34m\u001b[0m\u001b[0m\n",
      "\u001b[0;31mImportError\u001b[0m: dlopen(/Users/xu/anaconda/lib/python2.7/site-packages/scipy/sparse/linalg/isolve/_iterative.so, 2): Library not loaded: /usr/local/lib/libgcc_s.1.dylib\n  Referenced from: /Users/xu/anaconda/lib/python2.7/site-packages/scipy/sparse/linalg/isolve/_iterative.so\n  Reason: image not found"
     ]
    }
   ],
   "source": [
    "import pandas as pd\n",
    "import time\n",
    "import datetime\n",
    "from flask import current_app\n",
    "from sklearn.feature_extraction.text import TfidfVectorizer\n",
    "from sklearn.metrics.pairwise import linear_kernel\n",
    "import MySQLdb"
   ]
  },
  {
   "cell_type": "code",
   "execution_count": null,
   "metadata": {
    "collapsed": true
   },
   "outputs": [],
   "source": [
    "# import article data from mysql db \n",
    "def import_data_articles(table_name):\n",
    "    #ds = pd.read_csv(data_source)\n",
    "    ds = cur.execute('select pmid, abstract from ' +table_name)\n",
    "    r = cur.fetchall()\n",
    "    return pd.DataFrame(list(r),columns=['PMID', 'abstract'])"
   ]
  },
  {
   "cell_type": "code",
   "execution_count": null,
   "metadata": {
    "collapsed": true
   },
   "outputs": [],
   "source": [
    "dailypool = import_data_articles('articles')\n",
    "print dailypool"
   ]
  },
  {
   "cell_type": "code",
   "execution_count": null,
   "metadata": {
    "collapsed": true
   },
   "outputs": [],
   "source": [
    "cur.execute('select user_id from user_articles')\n",
    "userIdlist = list(set(cur.fetchall()))"
   ]
  },
  {
   "cell_type": "code",
   "execution_count": null,
   "metadata": {
    "collapsed": true
   },
   "outputs": [],
   "source": [
    "userId =1\n",
    "def import_user_articles(userId):\n",
    "    cur.execute('select pmid, title, abstract from user_articles where user_id=%d'% (userId))\n",
    "    r = cur.fetchall()\n",
    "    userdata= pd.DataFrame(list(r),columns=['PMID', 'title', 'abstract'])\n",
    "    userdata['abstract'] = userdata['title']+'        Abstract:'+userdata['abstract']\n",
    "    userpool = userdata[['PMID', 'abstract']]\n",
    "    return userpool\n",
    "\n"
   ]
  },
  {
   "cell_type": "code",
   "execution_count": null,
   "metadata": {
    "collapsed": true
   },
   "outputs": [],
   "source": [
    "def train(userpool, dailypool, userId, cur, db):\n",
    "    ds = pd.concat([userpool, dailypool])\n",
    "    ds.reset_index(drop=True, inplace=True)\n",
    "\n",
    "    #clean up not ASCII chars\n",
    "    ds['abstract'] = ds[\"abstract\"].apply(lambda x: ''.join([\" \" if ord(i) < 32 or ord(i) > 126 else i for i in x]))\n",
    "\n",
    "    tf = TfidfVectorizer(analyzer='word',\n",
    "                             ngram_range=(1, 3),\n",
    "                             min_df=0,\n",
    "                             stop_words='english')\n",
    "    tfidf_matrix = tf.fit_transform(ds['abstract'])\n",
    "    # print tfidf_matrix.shape\n",
    "    # print userpool.shape\n",
    "    cosine_similarities = linear_kernel(tfidf_matrix[:userpool.shape[0]], tfidf_matrix[userpool.shape[0]:])\n",
    "    similarities = pd.DataFrame(cosine_similarities)\n",
    "\n",
    "    prediction_matrix = pd.DataFrame(data=userpool.PMID, columns=['PMID'], index=userpool.index)\n",
    "    similarity_scores = prediction_matrix.copy()\n",
    "    abstract_matrix = prediction_matrix.copy()\n",
    "\n",
    "    top_n = 12\n",
    "    if (ds.shape[0] < top_n):\n",
    "        top_n = ds.shape[0] + 1\n",
    "\n",
    "    for i in range(1,top_n-1):\n",
    "        col_name = i\n",
    "        prediction_matrix[col_name] = None\n",
    "        similarity_scores[col_name] = -1\n",
    "        abstract_matrix[col_name] = None\n",
    "\n",
    "    now = datetime.datetime.now()\n",
    "\n",
    "    for idx in range(userpool.shape[0]):\n",
    "        # print \"idx: %s\" % idx\n",
    "        similar_indices = cosine_similarities[idx].argsort()[:-top_n:-1]\n",
    "        # print \"similar indices: %s\" % similar_indices\n",
    "        similar_items = [[cosine_similarities[idx][i], ds['PMID'][i], ds['abstract'][i]]for i in similar_indices]\n",
    "        #print \"similar items: \\n %s\" % similar_items\n",
    "        for i in range(0,top_n-2):\n",
    "\n",
    "            prediction_matrix.ix[idx, i] = similar_items[i][1] # insert into db directly\n",
    "            similarity_scores.ix[idx, i] = similar_items[i][0] # insert into a db table with date\n",
    "\n",
    "            # print similar_items[i][0]\n",
    "            # print similar_items[i][1]\n",
    "            # print similar_items[i][2]\n",
    "            titleEnd = similar_items[i][2].index('        Abstract:')\n",
    "            # print i\n",
    "            similar_items[i][2] = similar_items[i][2][:titleEnd][:200].replace('\\\"', ' ')\n",
    "\n",
    "        query = 'insert into recommend_articles (\\\n",
    "        entry_date, user_id, source_pmid,\\\n",
    "        pmid_1, pmid_2, pmid_3, pmid_4, pmid_5, pmid_6, pmid_7, pmid_8, pmid_9,pmid_10, \\\n",
    "        score_1, score_2, score_3,score_4, score_5, score_6, score_7, score_8, score_9, score_10,\\\n",
    "       title_1, title_2, title_3, title_4, title_5, title_6, title_7, title_8, title_9, title_10 ) \\\n",
    "        values \\\n",
    "        (\"%s\", %d, %d,\\\n",
    "            %d, %d, %d, %d, %d,\\\n",
    "            %d, %d, %d, %d, %d,\\\n",
    "            %.6f,%.6f,%.6f,%.6f,%.6f,\\\n",
    "            %.6f,%.6f,%.6f,%.6f,%.6f,\\\n",
    "            \"%s\",\"%s\",\"%s\",\"%s\",\"%s\",\\\n",
    "            \"%s\",\"%s\",\"%s\",\"%s\",\"%s\")'%(now, userId,userpool.ix[idx,'PMID'],\\\n",
    "                                                         similar_items[0][1],similar_items[1][1],similar_items[2][1],\\\n",
    "                                                         similar_items[3][1],similar_items[4][1],similar_items[5][1],\\\n",
    "                                                         similar_items[6][1],similar_items[7][1],similar_items[8][1],\\\n",
    "                                                         similar_items[9][1],\\\n",
    "                                                         similar_items[0][0],similar_items[1][0],similar_items[2][0],\\\n",
    "                                                         similar_items[3][0],similar_items[4][0],similar_items[5][0],\\\n",
    "                                                         similar_items[6][0],similar_items[7][0],similar_items[8][0],\\\n",
    "                                                         similar_items[9][0],\\\n",
    "                                                         similar_items[0][2],similar_items[1][2],similar_items[2][2],\\\n",
    "                                                         similar_items[3][2],similar_items[4][2],similar_items[5][2],\\\n",
    "                                                         similar_items[6][2],similar_items[7][2],similar_items[8][2],\\\n",
    "                                                         similar_items[9][2])\n",
    "        # print query\n",
    "        cur.execute(query)\n",
    "        db.commit()"
   ]
  },
  {
   "cell_type": "code",
   "execution_count": null,
   "metadata": {
    "collapsed": true
   },
   "outputs": [],
   "source": [
    "for id in userIdlist:\n",
    "    userpool = import_user_articles(id[0], cur)       \n",
    "    train(userpool, dailypool, id[0], cur, db)\n",
    "    \n",
    "print(\"Engine trained in %s seconds.\" % (time.time() - start))"
   ]
  },
  {
   "cell_type": "code",
   "execution_count": null,
   "metadata": {
    "collapsed": true
   },
   "outputs": [],
   "source": []
  }
 ],
 "metadata": {
  "kernelspec": {
   "display_name": "Python 2",
   "language": "python",
   "name": "python2"
  },
  "language_info": {
   "codemirror_mode": {
    "name": "ipython",
    "version": 2
   },
   "file_extension": ".py",
   "mimetype": "text/x-python",
   "name": "python",
   "nbconvert_exporter": "python",
   "pygments_lexer": "ipython2",
   "version": "2.7.9"
  }
 },
 "nbformat": 4,
 "nbformat_minor": 2
}
